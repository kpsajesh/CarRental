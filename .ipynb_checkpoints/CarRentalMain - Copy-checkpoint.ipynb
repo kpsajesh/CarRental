{
 "cells": [
  {
   "cell_type": "raw",
   "id": "5ae74a44-82ad-4741-8399-328ab4d28fec",
   "metadata": {},
   "source": [
    "from car_rental import CarRental, Customer\n",
    "\n",
    "def main1():\n",
    "   print('hi')\n",
    "\n"
   ]
  },
  {
   "cell_type": "code",
   "execution_count": 3,
   "id": "09c8a1b5-e0f7-42dd-9333-abbc45df24a7",
   "metadata": {},
   "outputs": [
    {
     "ename": "NameError",
     "evalue": "name 'main1' is not defined",
     "output_type": "error",
     "traceback": [
      "\u001b[1;31m---------------------------------------------------------------------------\u001b[0m",
      "\u001b[1;31mNameError\u001b[0m                                 Traceback (most recent call last)",
      "Cell \u001b[1;32mIn[3], line 1\u001b[0m\n\u001b[1;32m----> 1\u001b[0m main1()\n",
      "\u001b[1;31mNameError\u001b[0m: name 'main1' is not defined"
     ]
    }
   ],
   "source": [
    "main1()"
   ]
  },
  {
   "cell_type": "code",
   "execution_count": null,
   "id": "6d57aaf9-2ddc-4a6f-8bb6-15f45f0c7ea5",
   "metadata": {},
   "outputs": [],
   "source": []
  }
 ],
 "metadata": {
  "kernelspec": {
   "display_name": "Python 3 (ipykernel)",
   "language": "python",
   "name": "python3"
  },
  "language_info": {
   "codemirror_mode": {
    "name": "ipython",
    "version": 3
   },
   "file_extension": ".py",
   "mimetype": "text/x-python",
   "name": "python",
   "nbconvert_exporter": "python",
   "pygments_lexer": "ipython3",
   "version": "3.11.7"
  }
 },
 "nbformat": 4,
 "nbformat_minor": 5
}
