{
 "cells": [
  {
   "cell_type": "code",
   "execution_count": 19,
   "id": "fdebcdd5-dae1-44ea-9cd0-c431445a3786",
   "metadata": {},
   "outputs": [
    {
     "name": "stdout",
     "output_type": "stream",
     "text": [
      "0. To show available cars.\n",
      "1. To request car on hourly basis. Tariff Rs200/hour\n",
      "3. To request car on daily basis. Tariff Rs1500/day\n",
      "5. To request car on weekly basis.Tariff Rs7500/week\n",
      "7. Exit\n"
     ]
    },
    {
     "name": "stdin",
     "output_type": "stream",
     "text": [
      "Enter your choice::  3\n"
     ]
    },
    {
     "name": "stdout",
     "output_type": "stream",
     "text": [
      "Current available stock to rent:250\n"
     ]
    },
    {
     "name": "stdin",
     "output_type": "stream",
     "text": [
      "How many cars you would like to rent? Request between 1 and 250:  3\n",
      "Enter from date 31/02/2024\n"
     ]
    },
    {
     "name": "stdout",
     "output_type": "stream",
     "text": [
      "Invalid from date of hire\n"
     ]
    },
    {
     "name": "stdin",
     "output_type": "stream",
     "text": [
      "Enter from date 01/01/2024\n"
     ]
    },
    {
     "name": "stdout",
     "output_type": "stream",
     "text": [
      "01/01/2024\n"
     ]
    }
   ],
   "source": [
    "#from car_rental import CarRental\n",
    "from IPython.display import clear_output \n",
    "from datetime import datetime\n",
    "\n",
    "def main():\n",
    "    objCarRental = CarRental(250)\n",
    "        \n",
    "    print(f'0. To show available cars.')\n",
    "    print(f'1. To request car on hourly basis. Tariff Rs{objCarRental.hourlyTariff}/hour')\n",
    "    print(f'3. To request car on daily basis. Tariff Rs{objCarRental.dailyTariff}/day')\n",
    "    print(f'5. To request car on weekly basis.Tariff Rs{objCarRental.weeklyTariff}/week')\n",
    "    print(f'7. Exit')\n",
    "\n",
    "    userMainInput = UserInputNumberBetween(0,7,'Enter your choice:')\n",
    "    \n",
    "    if userMainInput == 0:\n",
    "        stockAvailable = objCarRental.ShowAvailableStock()\n",
    "        print(f'Current available stock to rent: {stockAvailable}')\n",
    "    elif userMainInput == 1:\n",
    "        print('1 Todo')\n",
    "    elif userMainInput == 2:\n",
    "        print('2 Todo')\n",
    "    elif userMainInput == 3:\n",
    "        stockAvailable = objCarRental.ShowAvailableStock()\n",
    "        print(f'Current available stock to rent:{stockAvailable}')\n",
    "        strCountCarMsg = 'How many cars you would like to rent? Request between 1 and '+ str(stockAvailable)\n",
    "        countCarRequired = UserInputNumberBetween(0,stockAvailable,strCountCarMsg)\n",
    "\n",
    "        #From Date\n",
    "        while True:            \n",
    "            weeklyFromDate = input('Enter from date')\n",
    "            if DateValidation(weeklyFromDate) == True:\n",
    "                print(weeklyFromDate)\n",
    "                break\n",
    "            else:\n",
    "                print('Invalid from date of hire')\n",
    "        \n",
    "    elif userMainInput == 4:\n",
    "        print('4 Todo')\n",
    "    elif userMainInput == 5:\n",
    "        print('5 Todo')\n",
    "    elif userMainInput == 6:\n",
    "        print('6 Todo')\n",
    "    elif userMainInput == 7:\n",
    "        print('7 Todo')\n",
    "\n",
    "\n",
    "#Validation: Number validation for a range\n",
    "def UserInputNumberBetween(FromNum,ToNum,strInputMsg):    \n",
    "    #from IPython.display import clear_output    \n",
    "    \n",
    "    ToNumEnd = ToNum + 1\n",
    "    strInputMsg = strInputMsg +': '\n",
    "    while True:\n",
    "        a = input(strInputMsg)\n",
    "        if a in map(str,range(FromNum,ToNumEnd)):\n",
    "            a = int(a)\n",
    "            break\n",
    "        else:\n",
    "            clear_output()\n",
    "            print('Wrong input, please enter a number between', FromNum,'and',ToNum,'.')\n",
    "    return a\n",
    "#Date Validation\n",
    "def DateValidation(date_text):\n",
    "    try:\n",
    "        if date_text != datetime.strptime(date_text, \"%d/%m/%Y\").strftime('%d/%m/%Y'):\n",
    "            raise ValueError\n",
    "        \n",
    "        #weeklyFromDate = date_text\n",
    "        return True\n",
    "    except ValueError:\n",
    "        return False\n",
    "    \n",
    "if __name__ == \"__main__\":\n",
    "    main()\n",
    "        "
   ]
  },
  {
   "cell_type": "code",
   "execution_count": 26,
   "id": "09c8a1b5-e0f7-42dd-9333-abbc45df24a7",
   "metadata": {},
   "outputs": [
    {
     "name": "stdout",
     "output_type": "stream",
     "text": [
      "0. To show available cars.\n",
      "1. To request car on hourly basis. Tariff Rs200/hour\n",
      "3. To request car on daily basis. Tariff Rs1500/day\n",
      "5. To request car on weekly basis.Tariff Rs7500/week\n",
      "7. Exit\n"
     ]
    },
    {
     "name": "stdin",
     "output_type": "stream",
     "text": [
      "Enter your choice::  0\n"
     ]
    }
   ],
   "source": [
    "main()"
   ]
  },
  {
   "cell_type": "code",
   "execution_count": 1,
   "id": "6d57aaf9-2ddc-4a6f-8bb6-15f45f0c7ea5",
   "metadata": {},
   "outputs": [],
   "source": [
    "from datetime import datetime, timedelta\n",
    "\n",
    "class CarRental:\n",
    "    def __init__(self, stock=0): #Constructor car Rental\n",
    "        self.stock = stock\n",
    "        self.hourlyTariff = 200 #Rs200/hour\n",
    "        self.dailyTariff = 1500 #Rs1500/hour\n",
    "        self.weeklyTariff = 7500 #Rs7500/hour\n",
    "\n",
    "    def ShowAvailableStock(self): #Display stock available for rent        \n",
    "        return self.stock\n",
    "    \n",
    "class Customer():\n",
    "    def __init__(self):\n",
    "        pass\n",
    "    def RequestCarDaily(self,carCount,fromDate):\n",
    "        pass\n"
   ]
  },
  {
   "cell_type": "code",
   "execution_count": 71,
   "id": "fadb431a-2240-47a5-9459-33a8e2a61646",
   "metadata": {},
   "outputs": [],
   "source": [
    "from datetime import datetime\n",
    "def DateValidation(strInputMsg):\n",
    "    time_str = input(\"enter time in this format dd/mm/yyyy\")\n",
    "    time=datetimeetime.datetime.strptime(time_str, \"%d/%m/%Y\")\n",
    "    \n",
    "    #date1 = \n",
    "    #date_entry = input(strInputMsg)\n",
    "    #day, month, year = map(int, date_entry.split('/'))\n",
    "    #print(day)\n",
    "    #print(month)\n",
    "    #print(year)\n",
    "    #date(year, month, day)"
   ]
  },
  {
   "cell_type": "code",
   "execution_count": 101,
   "id": "6fe8984e-e69f-4771-9ce6-6e58f3291f69",
   "metadata": {},
   "outputs": [],
   "source": [
    "def days_between(d1, d2):\n",
    "    d1 = datetime.strptime(d1, \"%d/%m/%Y\")\n",
    "    d2 = datetime.strptime(d2, \"%d/%m/%Y\")\n",
    "    return abs((d2 - d1).days)"
   ]
  },
  {
   "cell_type": "code",
   "execution_count": 93,
   "id": "ee79972d-14c9-4b35-9c02-91fdca64bcc4",
   "metadata": {},
   "outputs": [],
   "source": [
    "from datetime import datetime\n",
    "\n",
    "def DateValidation(strInputMsg):\n",
    "    strInputMsg = strInputMsg +': '\n",
    "    date_text = input(strInputMsg)\n",
    "    try:\n",
    "        if date_text != datetime.strptime(date_text, \"%d/%m/%Y\").strftime('%d/%m/%Y'):\n",
    "            raise ValueError\n",
    "        return True\n",
    "    except ValueError:\n",
    "        return False"
   ]
  },
  {
   "cell_type": "code",
   "execution_count": null,
   "id": "79a2a99c-7af8-4f7b-be87-79bca77d31df",
   "metadata": {},
   "outputs": [],
   "source": [
    "def UserInputNumberBetween(FromNum,ToNum,strInputMsg):    \n",
    "    from IPython.display import clear_output    \n",
    "    \n",
    "    ToNumEnd = ToNum + 1\n",
    "    strInputMsg = strInputMsg +': '\n",
    "    while True:\n",
    "        a = input(strInputMsg)\n",
    "        if a in map(str,range(FromNum,ToNumEnd)):\n",
    "            a = int(a)\n",
    "            break\n",
    "        else:\n",
    "            clear_output()\n",
    "            print('Wrong input, please enter a number between', FromNum,'and',ToNum,'.')\n",
    "    return a"
   ]
  },
  {
   "cell_type": "code",
   "execution_count": 108,
   "id": "af947c41-c7ab-45e5-a803-fa0078854471",
   "metadata": {},
   "outputs": [],
   "source": [
    "from datetime import datetime\n",
    "\n",
    "def DateValidation(strInputMsg):\n",
    "    strInputMsg = strInputMsg +': '\n",
    "    \n",
    "    while True:\n",
    "        date_text = input(strInputMsg)\n",
    "        if date_text == datetime.strptime(date_text, \"%d/%m/%Y\").strftime('%d/%m/%Y'):\n",
    "            return date_text\n",
    "        else:\n",
    "            return 0"
   ]
  },
  {
   "cell_type": "code",
   "execution_count": 110,
   "id": "179a0692-3771-41e4-9de5-c49a4577db87",
   "metadata": {},
   "outputs": [
    {
     "name": "stdin",
     "output_type": "stream",
     "text": [
      "Enter a date dd/mm/yyyy:  31/02/2024\n"
     ]
    },
    {
     "ename": "ValueError",
     "evalue": "day is out of range for month",
     "output_type": "error",
     "traceback": [
      "\u001b[1;31m---------------------------------------------------------------------------\u001b[0m",
      "\u001b[1;31mValueError\u001b[0m                                Traceback (most recent call last)",
      "Cell \u001b[1;32mIn[110], line 1\u001b[0m\n\u001b[1;32m----> 1\u001b[0m DateValidation(\u001b[38;5;124m'\u001b[39m\u001b[38;5;124mEnter a date dd/mm/yyyy\u001b[39m\u001b[38;5;124m'\u001b[39m)\n",
      "Cell \u001b[1;32mIn[108], line 8\u001b[0m, in \u001b[0;36mDateValidation\u001b[1;34m(strInputMsg)\u001b[0m\n\u001b[0;32m      6\u001b[0m \u001b[38;5;28;01mwhile\u001b[39;00m \u001b[38;5;28;01mTrue\u001b[39;00m:\n\u001b[0;32m      7\u001b[0m     date_text \u001b[38;5;241m=\u001b[39m \u001b[38;5;28minput\u001b[39m(strInputMsg)\n\u001b[1;32m----> 8\u001b[0m     \u001b[38;5;28;01mif\u001b[39;00m date_text \u001b[38;5;241m==\u001b[39m datetime\u001b[38;5;241m.\u001b[39mstrptime(date_text, \u001b[38;5;124m\"\u001b[39m\u001b[38;5;132;01m%d\u001b[39;00m\u001b[38;5;124m/\u001b[39m\u001b[38;5;124m%\u001b[39m\u001b[38;5;124mm/\u001b[39m\u001b[38;5;124m%\u001b[39m\u001b[38;5;124mY\u001b[39m\u001b[38;5;124m\"\u001b[39m)\u001b[38;5;241m.\u001b[39mstrftime(\u001b[38;5;124m'\u001b[39m\u001b[38;5;132;01m%d\u001b[39;00m\u001b[38;5;124m/\u001b[39m\u001b[38;5;124m%\u001b[39m\u001b[38;5;124mm/\u001b[39m\u001b[38;5;124m%\u001b[39m\u001b[38;5;124mY\u001b[39m\u001b[38;5;124m'\u001b[39m):\n\u001b[0;32m      9\u001b[0m         \u001b[38;5;28;01mreturn\u001b[39;00m date_text\n\u001b[0;32m     10\u001b[0m     \u001b[38;5;28;01melse\u001b[39;00m:\n",
      "File \u001b[1;32m~\\anaconda3\\Lib\\_strptime.py:568\u001b[0m, in \u001b[0;36m_strptime_datetime\u001b[1;34m(cls, data_string, format)\u001b[0m\n\u001b[0;32m    565\u001b[0m \u001b[38;5;28;01mdef\u001b[39;00m \u001b[38;5;21m_strptime_datetime\u001b[39m(\u001b[38;5;28mcls\u001b[39m, data_string, \u001b[38;5;28mformat\u001b[39m\u001b[38;5;241m=\u001b[39m\u001b[38;5;124m\"\u001b[39m\u001b[38;5;132;01m%a\u001b[39;00m\u001b[38;5;124m \u001b[39m\u001b[38;5;124m%\u001b[39m\u001b[38;5;124mb \u001b[39m\u001b[38;5;132;01m%d\u001b[39;00m\u001b[38;5;124m \u001b[39m\u001b[38;5;124m%\u001b[39m\u001b[38;5;124mH:\u001b[39m\u001b[38;5;124m%\u001b[39m\u001b[38;5;124mM:\u001b[39m\u001b[38;5;124m%\u001b[39m\u001b[38;5;124mS \u001b[39m\u001b[38;5;124m%\u001b[39m\u001b[38;5;124mY\u001b[39m\u001b[38;5;124m\"\u001b[39m):\n\u001b[0;32m    566\u001b[0m \u001b[38;5;250m    \u001b[39m\u001b[38;5;124;03m\"\"\"Return a class cls instance based on the input string and the\u001b[39;00m\n\u001b[0;32m    567\u001b[0m \u001b[38;5;124;03m    format string.\"\"\"\u001b[39;00m\n\u001b[1;32m--> 568\u001b[0m     tt, fraction, gmtoff_fraction \u001b[38;5;241m=\u001b[39m _strptime(data_string, \u001b[38;5;28mformat\u001b[39m)\n\u001b[0;32m    569\u001b[0m     tzname, gmtoff \u001b[38;5;241m=\u001b[39m tt[\u001b[38;5;241m-\u001b[39m\u001b[38;5;241m2\u001b[39m:]\n\u001b[0;32m    570\u001b[0m     args \u001b[38;5;241m=\u001b[39m tt[:\u001b[38;5;241m6\u001b[39m] \u001b[38;5;241m+\u001b[39m (fraction,)\n",
      "File \u001b[1;32m~\\anaconda3\\Lib\\_strptime.py:534\u001b[0m, in \u001b[0;36m_strptime\u001b[1;34m(data_string, format)\u001b[0m\n\u001b[0;32m    527\u001b[0m         julian \u001b[38;5;241m+\u001b[39m\u001b[38;5;241m=\u001b[39m yday\n\u001b[0;32m    529\u001b[0m \u001b[38;5;28;01mif\u001b[39;00m julian \u001b[38;5;129;01mis\u001b[39;00m \u001b[38;5;28;01mNone\u001b[39;00m:\n\u001b[0;32m    530\u001b[0m     \u001b[38;5;66;03m# Cannot pre-calculate datetime_date() since can change in Julian\u001b[39;00m\n\u001b[0;32m    531\u001b[0m     \u001b[38;5;66;03m# calculation and thus could have different value for the day of\u001b[39;00m\n\u001b[0;32m    532\u001b[0m     \u001b[38;5;66;03m# the week calculation.\u001b[39;00m\n\u001b[0;32m    533\u001b[0m     \u001b[38;5;66;03m# Need to add 1 to result since first day of the year is 1, not 0.\u001b[39;00m\n\u001b[1;32m--> 534\u001b[0m     julian \u001b[38;5;241m=\u001b[39m datetime_date(year, month, day)\u001b[38;5;241m.\u001b[39mtoordinal() \u001b[38;5;241m-\u001b[39m \\\n\u001b[0;32m    535\u001b[0m               datetime_date(year, \u001b[38;5;241m1\u001b[39m, \u001b[38;5;241m1\u001b[39m)\u001b[38;5;241m.\u001b[39mtoordinal() \u001b[38;5;241m+\u001b[39m \u001b[38;5;241m1\u001b[39m\n\u001b[0;32m    536\u001b[0m \u001b[38;5;28;01melse\u001b[39;00m:  \u001b[38;5;66;03m# Assume that if they bothered to include Julian day (or if it was\u001b[39;00m\n\u001b[0;32m    537\u001b[0m        \u001b[38;5;66;03m# calculated above with year/week/weekday) it will be accurate.\u001b[39;00m\n\u001b[0;32m    538\u001b[0m     datetime_result \u001b[38;5;241m=\u001b[39m datetime_date\u001b[38;5;241m.\u001b[39mfromordinal(\n\u001b[0;32m    539\u001b[0m                         (julian \u001b[38;5;241m-\u001b[39m \u001b[38;5;241m1\u001b[39m) \u001b[38;5;241m+\u001b[39m\n\u001b[0;32m    540\u001b[0m                         datetime_date(year, \u001b[38;5;241m1\u001b[39m, \u001b[38;5;241m1\u001b[39m)\u001b[38;5;241m.\u001b[39mtoordinal())\n",
      "\u001b[1;31mValueError\u001b[0m: day is out of range for month"
     ]
    }
   ],
   "source": [
    "DateValidation('Enter a date dd/mm/yyyy')"
   ]
  },
  {
   "cell_type": "code",
   "execution_count": null,
   "id": "90ffeb80-b409-4a88-b2e8-8889fccdc4ae",
   "metadata": {},
   "outputs": [],
   "source": []
  }
 ],
 "metadata": {
  "kernelspec": {
   "display_name": "Python 3 (ipykernel)",
   "language": "python",
   "name": "python3"
  },
  "language_info": {
   "codemirror_mode": {
    "name": "ipython",
    "version": 3
   },
   "file_extension": ".py",
   "mimetype": "text/x-python",
   "name": "python",
   "nbconvert_exporter": "python",
   "pygments_lexer": "ipython3",
   "version": "3.11.7"
  }
 },
 "nbformat": 4,
 "nbformat_minor": 5
}
