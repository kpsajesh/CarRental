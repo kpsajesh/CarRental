{
 "cells": [
  {
   "cell_type": "code",
   "execution_count": 1,
   "id": "3ae8e869-8745-4df8-9154-b087c509f9ad",
   "metadata": {},
   "outputs": [
    {
     "name": "stdout",
     "output_type": "stream",
     "text": [
      "2\n"
     ]
    }
   ],
   "source": [
    "i=2\n",
    "print(i)"
   ]
  },
  {
   "cell_type": "code",
   "execution_count": 2,
   "id": "9e1331ac-3081-4639-9f82-20ee6dc785cd",
   "metadata": {},
   "outputs": [],
   "source": [
    "def even(x):\n",
    "    if x%2 == 0:\n",
    "        print('even')\n",
    "    else:\n",
    "        print('odd')"
   ]
  },
  {
   "cell_type": "code",
   "execution_count": 3,
   "id": "6e6f07f5-3f07-45b3-8b65-5402a90da931",
   "metadata": {},
   "outputs": [
    {
     "name": "stdout",
     "output_type": "stream",
     "text": [
      "odd\n"
     ]
    }
   ],
   "source": [
    "even(5)\n"
   ]
  },
  {
   "cell_type": "code",
   "execution_count": 4,
   "id": "5af3e5e2-7a0e-418a-acdc-c88e487fb07d",
   "metadata": {},
   "outputs": [],
   "source": [
    "def sum10(*data):\n",
    "    total =0\n",
    "    for i in  data:\n",
    "        total += i\n",
    "    print(total)\n",
    "    \n",
    "    "
   ]
  },
  {
   "cell_type": "code",
   "execution_count": 5,
   "id": "5380a064-309b-482e-9396-136a14b6e9aa",
   "metadata": {},
   "outputs": [
    {
     "name": "stdout",
     "output_type": "stream",
     "text": [
      "10\n"
     ]
    }
   ],
   "source": [
    "sum10(1,2,3,4)"
   ]
  },
  {
   "cell_type": "code",
   "execution_count": 6,
   "id": "c180a681-e614-473a-854a-4859b9e1d338",
   "metadata": {},
   "outputs": [],
   "source": [
    "def printA(**x):\n",
    "    print(x)"
   ]
  },
  {
   "cell_type": "code",
   "execution_count": 7,
   "id": "08cd51b9-39ee-4cc7-ac06-1d473b303fa8",
   "metadata": {},
   "outputs": [
    {
     "name": "stdout",
     "output_type": "stream",
     "text": [
      "{'name': 'sajesh', 'age': 33, 'city': 'Chennai'}\n"
     ]
    }
   ],
   "source": [
    "printA(name='sajesh',age=33,city='Chennai')"
   ]
  },
  {
   "cell_type": "code",
   "execution_count": 13,
   "id": "cfec8e45-7e15-4a11-a642-f4f8b5737489",
   "metadata": {},
   "outputs": [],
   "source": [
    "def fnA():\n",
    "    global LV \n",
    "    LV=100\n",
    "    print(LV)\n",
    "    "
   ]
  },
  {
   "cell_type": "code",
   "execution_count": 15,
   "id": "294fdd47-aeea-49ee-a796-e9a5dea3d058",
   "metadata": {},
   "outputs": [
    {
     "name": "stdout",
     "output_type": "stream",
     "text": [
      "100\n"
     ]
    }
   ],
   "source": [
    "print(LV)"
   ]
  },
  {
   "cell_type": "code",
   "execution_count": 14,
   "id": "8b4bacaa-be71-40b2-afc4-a581105bf3c9",
   "metadata": {},
   "outputs": [
    {
     "name": "stdout",
     "output_type": "stream",
     "text": [
      "100\n"
     ]
    }
   ],
   "source": [
    "fnA()\n"
   ]
  },
  {
   "cell_type": "code",
   "execution_count": 16,
   "id": "67cd5b1a-ac6d-4d92-9482-636d0c1a3b86",
   "metadata": {},
   "outputs": [
    {
     "data": {
      "text/plain": [
       "9"
      ]
     },
     "execution_count": 16,
     "metadata": {},
     "output_type": "execute_result"
    }
   ],
   "source": [
    "(lambda x,y:x+y) (5,4)"
   ]
  },
  {
   "cell_type": "code",
   "execution_count": 21,
   "id": "e16d1d84-22cf-4720-ae66-6d0d5185c6f8",
   "metadata": {},
   "outputs": [],
   "source": [
    "a = [8,10]\n",
    "d = list(map(lambda a:a*2,a))\n",
    "#from functools import reduce\n",
    "tot = reduce(lambda x,y:x+y,d)"
   ]
  },
  {
   "cell_type": "code",
   "execution_count": 22,
   "id": "483050ee-1e15-4f49-90e1-6b589f10e59c",
   "metadata": {},
   "outputs": [
    {
     "name": "stdout",
     "output_type": "stream",
     "text": [
      "36\n"
     ]
    }
   ],
   "source": [
    "print(tot)"
   ]
  },
  {
   "cell_type": "code",
   "execution_count": 25,
   "id": "bbb87cfc-be13-4c17-9963-a3430ca9733d",
   "metadata": {},
   "outputs": [],
   "source": [
    "class computer():\n",
    "    def features(self):\n",
    "        print(\"i5,32GB\")"
   ]
  },
  {
   "cell_type": "code",
   "execution_count": 26,
   "id": "56b78e7f-dd43-4642-82e9-67a1999443d4",
   "metadata": {},
   "outputs": [],
   "source": [
    "laptop = computer()"
   ]
  },
  {
   "cell_type": "code",
   "execution_count": 27,
   "id": "7373c190-bbf2-4290-b234-61b489616733",
   "metadata": {},
   "outputs": [
    {
     "name": "stdout",
     "output_type": "stream",
     "text": [
      "i5,32GB\n"
     ]
    }
   ],
   "source": [
    "laptop.features()"
   ]
  },
  {
   "cell_type": "code",
   "execution_count": 36,
   "id": "2e95b57e-11be-4aac-bb2c-082897555208",
   "metadata": {},
   "outputs": [],
   "source": [
    "class car():\n",
    "    def start(self):\n",
    "        print(\"Car can start\")\n",
    "    def stop(self):\n",
    "        print(\"Car can stop\")\n",
    "    def race(self):\n",
    "        print(\"Car can race\")"
   ]
  },
  {
   "cell_type": "code",
   "execution_count": 37,
   "id": "34a1f2e4-642a-429a-9a4f-6c6bdbb571bf",
   "metadata": {},
   "outputs": [],
   "source": [
    "maruti = car()"
   ]
  },
  {
   "cell_type": "code",
   "execution_count": 38,
   "id": "abdc5de2-f6d3-4a4a-8605-e4e96ca6594c",
   "metadata": {},
   "outputs": [
    {
     "name": "stdout",
     "output_type": "stream",
     "text": [
      "Car can race\n"
     ]
    }
   ],
   "source": [
    "maruti.race()"
   ]
  },
  {
   "cell_type": "code",
   "execution_count": 39,
   "id": "f3d15601-f2e1-45c1-82e8-071090f664dc",
   "metadata": {},
   "outputs": [],
   "source": [
    "class animal():\n",
    "    def speak(self):\n",
    "        print(\"can speak\")\n",
    "class dog(animal):\n",
    "    def bark(self):\n",
    "        print(\"bark\")\n",
    "        "
   ]
  },
  {
   "cell_type": "code",
   "execution_count": 40,
   "id": "de7251c6-4a00-429a-85b1-b88864e596c2",
   "metadata": {},
   "outputs": [],
   "source": [
    "jack = dog()"
   ]
  },
  {
   "cell_type": "code",
   "execution_count": 41,
   "id": "155cc6cc-f2d3-4dca-af68-f643dd66356e",
   "metadata": {},
   "outputs": [
    {
     "name": "stdout",
     "output_type": "stream",
     "text": [
      "can speak\n"
     ]
    }
   ],
   "source": [
    "jack.speak()"
   ]
  },
  {
   "cell_type": "code",
   "execution_count": 46,
   "id": "cf1af0a2-e23e-48c0-9301-00f25a4ade44",
   "metadata": {},
   "outputs": [],
   "source": [
    "class car2():\n",
    "    def __init__(self,name,speed):\n",
    "        self.name = name\n",
    "        self.speed = speed\n",
    "    def introduce(self):\n",
    "        print('Car name is',self.name,'and speed is', self.speed,'km/hr')"
   ]
  },
  {
   "cell_type": "code",
   "execution_count": 47,
   "id": "78380773-e713-4490-b84a-2321301f76c9",
   "metadata": {},
   "outputs": [],
   "source": [
    "x=car2('jazz',100)"
   ]
  },
  {
   "cell_type": "code",
   "execution_count": 50,
   "id": "dd86fe51-bd08-4680-b26e-42344822ad1e",
   "metadata": {},
   "outputs": [
    {
     "name": "stdout",
     "output_type": "stream",
     "text": [
      "Car name is jazz and speed is 100 km/hr\n"
     ]
    }
   ],
   "source": [
    "x.introduce()"
   ]
  },
  {
   "cell_type": "code",
   "execution_count": null,
   "id": "b5eb7b8f-0375-4857-ac3f-de231b1369e9",
   "metadata": {},
   "outputs": [],
   "source": []
  }
 ],
 "metadata": {
  "kernelspec": {
   "display_name": "Python 3 (ipykernel)",
   "language": "python",
   "name": "python3"
  },
  "language_info": {
   "codemirror_mode": {
    "name": "ipython",
    "version": 3
   },
   "file_extension": ".py",
   "mimetype": "text/x-python",
   "name": "python",
   "nbconvert_exporter": "python",
   "pygments_lexer": "ipython3",
   "version": "3.11.7"
  }
 },
 "nbformat": 4,
 "nbformat_minor": 5
}
