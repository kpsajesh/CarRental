{
 "cells": [
  {
   "cell_type": "code",
   "execution_count": 1,
   "id": "20c435a3-97ad-4d2c-bd6b-a95c1e20000f",
   "metadata": {},
   "outputs": [
    {
     "data": {
      "text/plain": [
       "'C:\\\\Users\\\\sajes\\\\Desktop\\\\Python'"
      ]
     },
     "execution_count": 1,
     "metadata": {},
     "output_type": "execute_result"
    }
   ],
   "source": [
    "pwd"
   ]
  },
  {
   "cell_type": "code",
   "execution_count": 2,
   "id": "0559f557-7867-4807-a2ea-48bea2c3aa73",
   "metadata": {},
   "outputs": [
    {
     "name": "stdout",
     "output_type": "stream",
     "text": [
      "Writing abc.txt\n"
     ]
    }
   ],
   "source": [
    "%%writefile abc.txt\n",
    "This is the first line\n",
    "This is the second line\n",
    "this is the third line."
   ]
  },
  {
   "cell_type": "code",
   "execution_count": 3,
   "id": "ed8c2b64-e356-4b69-8865-72f4d3340dc3",
   "metadata": {},
   "outputs": [],
   "source": [
    "myfile = open('abc.txt')"
   ]
  },
  {
   "cell_type": "code",
   "execution_count": 4,
   "id": "7c498e2f-2849-4790-bbc1-3913108fcdee",
   "metadata": {},
   "outputs": [
    {
     "data": {
      "text/plain": [
       "<_io.TextIOWrapper name='abc.txt' mode='r' encoding='cp1252'>"
      ]
     },
     "execution_count": 4,
     "metadata": {},
     "output_type": "execute_result"
    }
   ],
   "source": [
    "myfile"
   ]
  },
  {
   "cell_type": "code",
   "execution_count": 5,
   "id": "62dc32d2-611b-46da-a874-397ec574922e",
   "metadata": {},
   "outputs": [
    {
     "data": {
      "text/plain": [
       "'This is the first line\\nThis is the second line\\nthis is the third line.\\n'"
      ]
     },
     "execution_count": 5,
     "metadata": {},
     "output_type": "execute_result"
    }
   ],
   "source": [
    "myfile.read()"
   ]
  },
  {
   "cell_type": "code",
   "execution_count": 6,
   "id": "69fc6773-a215-4a74-bd3d-bce005b0283a",
   "metadata": {},
   "outputs": [
    {
     "data": {
      "text/plain": [
       "''"
      ]
     },
     "execution_count": 6,
     "metadata": {},
     "output_type": "execute_result"
    }
   ],
   "source": [
    "myfile.read()"
   ]
  },
  {
   "cell_type": "code",
   "execution_count": 7,
   "id": "e7acfe68-22f9-4d5f-9b46-585e37262e17",
   "metadata": {},
   "outputs": [
    {
     "data": {
      "text/plain": [
       "0"
      ]
     },
     "execution_count": 7,
     "metadata": {},
     "output_type": "execute_result"
    }
   ],
   "source": [
    "myfile.seek(0)"
   ]
  },
  {
   "cell_type": "code",
   "execution_count": 8,
   "id": "c45c27a6-e3c9-4a28-811e-94f43b31b730",
   "metadata": {},
   "outputs": [
    {
     "data": {
      "text/plain": [
       "'This is the first line\\nThis is the second line\\nthis is the third line.\\n'"
      ]
     },
     "execution_count": 8,
     "metadata": {},
     "output_type": "execute_result"
    }
   ],
   "source": [
    "myfile.read()"
   ]
  },
  {
   "cell_type": "code",
   "execution_count": 9,
   "id": "f52df355-d1a2-4c0f-8251-525a56f32bb2",
   "metadata": {},
   "outputs": [
    {
     "data": {
      "text/plain": [
       "0"
      ]
     },
     "execution_count": 9,
     "metadata": {},
     "output_type": "execute_result"
    }
   ],
   "source": [
    "myfile.seek(0)"
   ]
  },
  {
   "cell_type": "code",
   "execution_count": 10,
   "id": "3e2d742c-2319-4713-b070-1d4e02801dbb",
   "metadata": {},
   "outputs": [
    {
     "data": {
      "text/plain": [
       "['This is the first line\\n',\n",
       " 'This is the second line\\n',\n",
       " 'this is the third line.\\n']"
      ]
     },
     "execution_count": 10,
     "metadata": {},
     "output_type": "execute_result"
    }
   ],
   "source": [
    "myfile.readlines()"
   ]
  },
  {
   "cell_type": "code",
   "execution_count": 11,
   "id": "1e613a49-b214-46f2-9722-526112755ca5",
   "metadata": {},
   "outputs": [
    {
     "data": {
      "text/plain": [
       "[]"
      ]
     },
     "execution_count": 11,
     "metadata": {},
     "output_type": "execute_result"
    }
   ],
   "source": [
    "myfile.readlines()"
   ]
  },
  {
   "cell_type": "code",
   "execution_count": 12,
   "id": "abb5ddda-6a64-49ac-941f-3cd6b1151675",
   "metadata": {},
   "outputs": [
    {
     "data": {
      "text/plain": [
       "0"
      ]
     },
     "execution_count": 12,
     "metadata": {},
     "output_type": "execute_result"
    }
   ],
   "source": [
    "myfile.seek(0)"
   ]
  },
  {
   "cell_type": "code",
   "execution_count": 17,
   "id": "3f628232-4e4e-48e9-bb35-24b393449ef7",
   "metadata": {},
   "outputs": [],
   "source": [
    "listContent = myfile.readlines()"
   ]
  },
  {
   "cell_type": "code",
   "execution_count": 14,
   "id": "dc7c08e7-9d09-4a7a-bf78-85b49b83be0b",
   "metadata": {},
   "outputs": [
    {
     "data": {
      "text/plain": [
       "['This is the first line\\n',\n",
       " 'This is the second line\\n',\n",
       " 'this is the third line.\\n']"
      ]
     },
     "execution_count": 14,
     "metadata": {},
     "output_type": "execute_result"
    }
   ],
   "source": [
    "listContent"
   ]
  },
  {
   "cell_type": "code",
   "execution_count": 15,
   "id": "99d07396-7a8d-4fe5-abf1-15698b9e1a79",
   "metadata": {},
   "outputs": [
    {
     "ename": "NameError",
     "evalue": "name 'listcontent' is not defined",
     "output_type": "error",
     "traceback": [
      "\u001b[1;31m---------------------------------------------------------------------------\u001b[0m",
      "\u001b[1;31mNameError\u001b[0m                                 Traceback (most recent call last)",
      "Cell \u001b[1;32mIn[15], line 1\u001b[0m\n\u001b[1;32m----> 1\u001b[0m listcontent\n",
      "\u001b[1;31mNameError\u001b[0m: name 'listcontent' is not defined"
     ]
    }
   ],
   "source": [
    "listcontent"
   ]
  },
  {
   "cell_type": "code",
   "execution_count": 16,
   "id": "81c721af-d100-4628-a683-c7d52d89f888",
   "metadata": {},
   "outputs": [
    {
     "data": {
      "text/plain": [
       "0"
      ]
     },
     "execution_count": 16,
     "metadata": {},
     "output_type": "execute_result"
    }
   ],
   "source": [
    "myfile.seek(0)"
   ]
  },
  {
   "cell_type": "code",
   "execution_count": 19,
   "id": "ae27494a-bc59-452d-86e6-49be8c67b6f9",
   "metadata": {},
   "outputs": [
    {
     "data": {
      "text/plain": [
       "['This is the first line\\n',\n",
       " 'This is the second line\\n',\n",
       " 'this is the third line.\\n']"
      ]
     },
     "execution_count": 19,
     "metadata": {},
     "output_type": "execute_result"
    }
   ],
   "source": [
    "listContent"
   ]
  },
  {
   "cell_type": "code",
   "execution_count": 20,
   "id": "8dfcbfa9-6881-43b4-a9ca-ab6020bcf60c",
   "metadata": {},
   "outputs": [
    {
     "data": {
      "text/plain": [
       "'C:\\\\Users\\\\sajes\\\\Desktop\\\\Python'"
      ]
     },
     "execution_count": 20,
     "metadata": {},
     "output_type": "execute_result"
    }
   ],
   "source": [
    "pwd"
   ]
  },
  {
   "cell_type": "code",
   "execution_count": 21,
   "id": "e11d42c5-7389-4a22-8b88-8f85fe52d107",
   "metadata": {},
   "outputs": [
    {
     "data": {
      "text/plain": [
       "['This is the first line\\n',\n",
       " 'This is the second line\\n',\n",
       " 'this is the third line.\\n']"
      ]
     },
     "execution_count": 21,
     "metadata": {},
     "output_type": "execute_result"
    }
   ],
   "source": [
    "myfile = open('C:\\\\Users\\\\sajes\\\\Desktop\\\\Python\\\\abc.txt')\n",
    "listContent = myfile.readlines()\n",
    "listContent"
   ]
  },
  {
   "cell_type": "code",
   "execution_count": 22,
   "id": "95c6d3f4-6498-48b5-84ce-a8d920653f38",
   "metadata": {},
   "outputs": [],
   "source": [
    "myfile.close()"
   ]
  },
  {
   "cell_type": "code",
   "execution_count": 25,
   "id": "642b4248-d60a-4712-8fee-21d847c59bb9",
   "metadata": {},
   "outputs": [],
   "source": [
    "with open('abc.txt') as myFile:\n",
    "    ListContents = myFile.readlines()    "
   ]
  },
  {
   "cell_type": "code",
   "execution_count": 26,
   "id": "71d67b43-b6cf-4f89-b128-a006585bab93",
   "metadata": {},
   "outputs": [
    {
     "data": {
      "text/plain": [
       "['This is the first line\\n',\n",
       " 'This is the second line\\n',\n",
       " 'this is the third line.\\n']"
      ]
     },
     "execution_count": 26,
     "metadata": {},
     "output_type": "execute_result"
    }
   ],
   "source": [
    "ListContents"
   ]
  },
  {
   "cell_type": "code",
   "execution_count": 27,
   "id": "f8c58e60-8c00-4098-a0b0-35a0aff1905e",
   "metadata": {},
   "outputs": [],
   "source": [
    "with open('abc.txt',mode='r') as myfile:\n",
    "    Contents = myfile.read()\n",
    "    Contents"
   ]
  },
  {
   "cell_type": "code",
   "execution_count": 28,
   "id": "c3dfeadb-dede-4de7-bb58-ddcba0e028fc",
   "metadata": {},
   "outputs": [
    {
     "data": {
      "text/plain": [
       "'This is the first line\\nThis is the second line\\nthis is the third line.\\n'"
      ]
     },
     "execution_count": 28,
     "metadata": {},
     "output_type": "execute_result"
    }
   ],
   "source": [
    "Contents"
   ]
  },
  {
   "cell_type": "code",
   "execution_count": 34,
   "id": "46a1ad13-2313-4851-832f-03b8cc088758",
   "metadata": {},
   "outputs": [],
   "source": [
    "with open('abc.txt',mode='r') as myfile:\n",
    "   Contents = myfile.read()"
   ]
  },
  {
   "cell_type": "code",
   "execution_count": 31,
   "id": "7379e8a4-0c0a-4dcd-8a3c-adf3151b9690",
   "metadata": {},
   "outputs": [
    {
     "ename": "ValueError",
     "evalue": "I/O operation on closed file.",
     "output_type": "error",
     "traceback": [
      "\u001b[1;31m---------------------------------------------------------------------------\u001b[0m",
      "\u001b[1;31mValueError\u001b[0m                                Traceback (most recent call last)",
      "Cell \u001b[1;32mIn[31], line 1\u001b[0m\n\u001b[1;32m----> 1\u001b[0m \u001b[38;5;28mprint\u001b[39m( myfile\u001b[38;5;241m.\u001b[39mread() )\n",
      "\u001b[1;31mValueError\u001b[0m: I/O operation on closed file."
     ]
    }
   ],
   "source": [
    " print( myfile.read() )"
   ]
  },
  {
   "cell_type": "code",
   "execution_count": 40,
   "id": "7fd00834-58e8-46c0-bb58-92a05d585e8b",
   "metadata": {},
   "outputs": [],
   "source": [
    "with open('abc.txt',mode='r') as myfile:\n",
    "    Contents = myfile.read()"
   ]
  },
  {
   "cell_type": "code",
   "execution_count": 41,
   "id": "e24bf84d-32ca-49de-b654-fe45dff0a22f",
   "metadata": {},
   "outputs": [
    {
     "data": {
      "text/plain": [
       "'This is line one\\nThis is line two\\nThis is line three'"
      ]
     },
     "execution_count": 41,
     "metadata": {},
     "output_type": "execute_result"
    }
   ],
   "source": [
    "Contents"
   ]
  },
  {
   "cell_type": "code",
   "execution_count": 37,
   "id": "bd9638bf-682a-417c-b47a-4624c706ec35",
   "metadata": {},
   "outputs": [],
   "source": [
    "myfile.close()"
   ]
  },
  {
   "cell_type": "code",
   "execution_count": 42,
   "id": "b598d2ae-3861-41c7-9041-38577e5f59b7",
   "metadata": {},
   "outputs": [
    {
     "name": "stdout",
     "output_type": "stream",
     "text": [
      "This is line one\n",
      "This is line two\n",
      "This is line three\n"
     ]
    }
   ],
   "source": [
    "with open('abc.txt',mode='r') as myfile:\n",
    "    print( myfile.read() )"
   ]
  },
  {
   "cell_type": "code",
   "execution_count": 43,
   "id": "61d7f6e0-541a-4a71-9bd0-00b0bb622272",
   "metadata": {},
   "outputs": [],
   "source": [
    "with open('abc.txt',mode='a') as myfile:\n",
    "    myfile.write('This is linefour')"
   ]
  },
  {
   "cell_type": "code",
   "execution_count": 44,
   "id": "55886d04-ed84-4700-a5ee-50423d40105d",
   "metadata": {},
   "outputs": [
    {
     "name": "stdout",
     "output_type": "stream",
     "text": [
      "This is line one\n",
      "This is line two\n",
      "This is line threeThis is linefour\n"
     ]
    }
   ],
   "source": [
    "with open('abc.txt',mode='r') as myfile:\n",
    "    print( myfile.read() )"
   ]
  },
  {
   "cell_type": "code",
   "execution_count": 2,
   "id": "d5156cb7-ab75-438d-b950-41cb4425ca07",
   "metadata": {},
   "outputs": [
    {
     "name": "stdout",
     "output_type": "stream",
     "text": [
      "25\n"
     ]
    }
   ],
   "source": [
    "with open('abc.txt',mode='w') as myfile:\n",
    "    print( myfile.write('creating new file content'))"
   ]
  },
  {
   "cell_type": "code",
   "execution_count": 3,
   "id": "dbd272e5-da44-41a9-9646-4df51305e8c4",
   "metadata": {},
   "outputs": [
    {
     "name": "stdout",
     "output_type": "stream",
     "text": [
      "creating new file content\n"
     ]
    }
   ],
   "source": [
    "with open('abc.txt',mode='r') as myfile:\n",
    "    print( myfile.read() )"
   ]
  },
  {
   "cell_type": "code",
   "execution_count": null,
   "id": "5f67ff3f-e7c0-44ca-82cc-5804b55bc163",
   "metadata": {},
   "outputs": [],
   "source": []
  }
 ],
 "metadata": {
  "kernelspec": {
   "display_name": "Python 3 (ipykernel)",
   "language": "python",
   "name": "python3"
  },
  "language_info": {
   "codemirror_mode": {
    "name": "ipython",
    "version": 3
   },
   "file_extension": ".py",
   "mimetype": "text/x-python",
   "name": "python",
   "nbconvert_exporter": "python",
   "pygments_lexer": "ipython3",
   "version": "3.11.7"
  }
 },
 "nbformat": 4,
 "nbformat_minor": 5
}
