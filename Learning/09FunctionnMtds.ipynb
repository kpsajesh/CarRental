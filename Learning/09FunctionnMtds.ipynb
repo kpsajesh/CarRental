{
 "cells": [
  {
   "cell_type": "code",
   "execution_count": 2,
   "id": "3a02c564-aed2-4a20-86a7-8eecaed64a20",
   "metadata": {},
   "outputs": [],
   "source": [
    "listA = [1,1]"
   ]
  },
  {
   "cell_type": "code",
   "execution_count": 3,
   "id": "601ea1d2-f71d-4fec-a0a0-8556a5bf6e8b",
   "metadata": {},
   "outputs": [],
   "source": [
    "listA.insert(0,5)"
   ]
  },
  {
   "cell_type": "code",
   "execution_count": 4,
   "id": "b6abbc22-b373-4cf8-ab6d-c79ad02b72bd",
   "metadata": {},
   "outputs": [
    {
     "data": {
      "text/plain": [
       "[5, 1, 1]"
      ]
     },
     "execution_count": 4,
     "metadata": {},
     "output_type": "execute_result"
    }
   ],
   "source": [
    "listA"
   ]
  },
  {
   "cell_type": "code",
   "execution_count": 5,
   "id": "eaffd77c-07df-42f1-b785-bb70c5c19354",
   "metadata": {},
   "outputs": [
    {
     "name": "stdout",
     "output_type": "stream",
     "text": [
      "Help on built-in function insert:\n",
      "\n",
      "insert(index, object, /) method of builtins.list instance\n",
      "    Insert object before index.\n",
      "\n"
     ]
    }
   ],
   "source": [
    "help(listA.insert)"
   ]
  },
  {
   "cell_type": "code",
   "execution_count": 6,
   "id": "489ac48a-972d-44c4-961c-3e554aff8aee",
   "metadata": {},
   "outputs": [],
   "source": [
    "def say_hello(name = 'John'):\n",
    "    print(f'Hello {name}')"
   ]
  },
  {
   "cell_type": "code",
   "execution_count": 7,
   "id": "d118daa1-f0a3-4423-b81a-f718aaa3dd38",
   "metadata": {},
   "outputs": [
    {
     "name": "stdout",
     "output_type": "stream",
     "text": [
      "Hello sajesh\n"
     ]
    }
   ],
   "source": [
    "say_hello('sajesh')"
   ]
  },
  {
   "cell_type": "code",
   "execution_count": 8,
   "id": "7135c07a-0040-4e0a-aa52-b872dd4196af",
   "metadata": {},
   "outputs": [
    {
     "name": "stdout",
     "output_type": "stream",
     "text": [
      "Hello John\n"
     ]
    }
   ],
   "source": [
    "say_hello()"
   ]
  },
  {
   "cell_type": "code",
   "execution_count": 12,
   "id": "233e4705-ccb0-492b-b05c-b3da4b0651c7",
   "metadata": {},
   "outputs": [],
   "source": [
    "def fn_sum(num1, num2):\n",
    "    return num1 + num2"
   ]
  },
  {
   "cell_type": "code",
   "execution_count": 1,
   "id": "5763ad2b-40c3-462d-a038-9f084479b45e",
   "metadata": {},
   "outputs": [],
   "source": [
    "def check_even(lista):\n",
    "    flg =False\n",
    "    for number in lista:\n",
    "        if number %2 == 0:\n",
    "            flg = True\n",
    "            break\n",
    "    return flg"
   ]
  },
  {
   "cell_type": "code",
   "execution_count": 2,
   "id": "857d5b02-7755-4d16-ad9f-6241756965e1",
   "metadata": {},
   "outputs": [
    {
     "data": {
      "text/plain": [
       "True"
      ]
     },
     "execution_count": 2,
     "metadata": {},
     "output_type": "execute_result"
    }
   ],
   "source": [
    "check_even([3,3,6])"
   ]
  },
  {
   "cell_type": "code",
   "execution_count": 3,
   "id": "d77bac3d-1be0-4852-a4a6-195993c6b8b9",
   "metadata": {},
   "outputs": [],
   "source": [
    "work_hours = [('s',100),('N',200),('R',50)]\n",
    "def emp_of_month(work_hours):\n",
    "    hour_max = 0\n",
    "    emp_of_month ='None'\n",
    "    for emp, hour in work_hours:\n",
    "        if hour > hour_max:\n",
    "            hour_max = hour\n",
    "            emp_of_month = emp\n",
    "    return (emp_of_month, hour_max)"
   ]
  },
  {
   "cell_type": "code",
   "execution_count": 4,
   "id": "153e1a45-43e7-4c6f-9b07-ac1f989aa82c",
   "metadata": {},
   "outputs": [
    {
     "data": {
      "text/plain": [
       "('N', 200)"
      ]
     },
     "execution_count": 4,
     "metadata": {},
     "output_type": "execute_result"
    }
   ],
   "source": [
    "emp_of_month(work_hours)"
   ]
  },
  {
   "cell_type": "code",
   "execution_count": 1,
   "id": "854f81f3-0fcb-490b-bbd1-27759c8f6e8d",
   "metadata": {},
   "outputs": [],
   "source": [
    "def my_sum(*args):\n",
    "    return sum(args)"
   ]
  },
  {
   "cell_type": "code",
   "execution_count": 2,
   "id": "ad58ab54-690c-4bf3-aa85-a87a00a06d23",
   "metadata": {},
   "outputs": [
    {
     "data": {
      "text/plain": [
       "37"
      ]
     },
     "execution_count": 2,
     "metadata": {},
     "output_type": "execute_result"
    }
   ],
   "source": [
    "sum = my_sum(1,2,34)\n",
    "sum"
   ]
  },
  {
   "cell_type": "code",
   "execution_count": 7,
   "id": "b3598802-8dce-41f7-a519-c54e4980bf08",
   "metadata": {},
   "outputs": [],
   "source": [
    "def myfunc(**kwargs):\n",
    "    print(kwargs)\n",
    "    if 'uid' in kwargs:\n",
    "        print('userid is {}'.format(kwargs['uid']))"
   ]
  },
  {
   "cell_type": "code",
   "execution_count": 8,
   "id": "4284096e-1b32-4980-8765-5ce1eac809e1",
   "metadata": {},
   "outputs": [
    {
     "name": "stdout",
     "output_type": "stream",
     "text": [
      "{'uid': 'abc', 'pwd': 'skp'}\n",
      "userid is abc\n"
     ]
    }
   ],
   "source": [
    "myfunc(uid='abc',pwd='skp')"
   ]
  },
  {
   "cell_type": "code",
   "execution_count": 10,
   "id": "58909ae3-6354-4900-8e67-9ad2fa9b470f",
   "metadata": {},
   "outputs": [],
   "source": [
    "def myfunc(*args,**kwargs):\n",
    "    print(args)\n",
    "    print(kwargs)\n",
    "    print('I would like to eat {} {}'.format(args[0],kwargs['food']))"
   ]
  },
  {
   "cell_type": "code",
   "execution_count": 11,
   "id": "1315fc7c-54d6-4b6e-acc8-f53f1d4f8cdf",
   "metadata": {},
   "outputs": [
    {
     "name": "stdout",
     "output_type": "stream",
     "text": [
      "(10, 20, 30)\n",
      "{'fruit': 'orange', 'animal': 'dog', 'food': 'biriani'}\n",
      "I would like to eat 10 biriani\n"
     ]
    }
   ],
   "source": [
    "myfunc(10,20,30,fruit='orange',animal='dog',food='biriani')"
   ]
  },
  {
   "cell_type": "code",
   "execution_count": 12,
   "id": "0cc54201-ff4b-4881-9293-4fcfb40c2882",
   "metadata": {},
   "outputs": [],
   "source": [
    "def myfunc(*args):\n",
    "    even = []\n",
    "    for number in args:\n",
    "        if number %2==0:\n",
    "            even.append(number)\n",
    "    return even"
   ]
  },
  {
   "cell_type": "code",
   "execution_count": 13,
   "id": "2cf3b49e-e143-45d9-a973-4e9261900eea",
   "metadata": {},
   "outputs": [
    {
     "data": {
      "text/plain": [
       "[6, 8]"
      ]
     },
     "execution_count": 13,
     "metadata": {},
     "output_type": "execute_result"
    }
   ],
   "source": [
    "myfunc(5,6,7,8)"
   ]
  },
  {
   "cell_type": "code",
   "execution_count": 97,
   "id": "172c0a2e-0df8-4660-bd75-3bdde622c27d",
   "metadata": {},
   "outputs": [],
   "source": [
    "def myfunc(str):\n",
    "    liststrnew = []\n",
    "    newstr =''\n",
    "    for chare in str:\n",
    "        liststrnew.append(chare)\n",
    "    for num in range(0,len(str),1):\n",
    "        if num%2 == 1:\n",
    "            newstr = newstr + liststrnew[num].upper()\n",
    "        else:\n",
    "            newstr = newstr + liststrnew[num].lower()\n",
    "    return newstr"
   ]
  },
  {
   "cell_type": "code",
   "execution_count": 99,
   "id": "e374f06a-6c27-4a5f-923b-478ce99937ce",
   "metadata": {},
   "outputs": [
    {
     "data": {
      "text/plain": [
       "'aNtHrOpOmOrPhIsM'"
      ]
     },
     "execution_count": 99,
     "metadata": {},
     "output_type": "execute_result"
    }
   ],
   "source": [
    "myfunc('Anthropomorphism')"
   ]
  },
  {
   "cell_type": "code",
   "execution_count": 100,
   "id": "d857601a-30e4-44ed-8290-4cfd407ea796",
   "metadata": {},
   "outputs": [],
   "source": [
    "a=10"
   ]
  },
  {
   "cell_type": "code",
   "execution_count": 101,
   "id": "6370e64a-705d-4de8-8d46-2860f99268d2",
   "metadata": {},
   "outputs": [],
   "source": [
    "b=10"
   ]
  },
  {
   "cell_type": "code",
   "execution_count": 102,
   "id": "a46e8eff-3362-4adf-b16b-7df4393cd7a6",
   "metadata": {},
   "outputs": [
    {
     "name": "stdout",
     "output_type": "stream",
     "text": [
      "True\n"
     ]
    }
   ],
   "source": [
    "print(a is b)"
   ]
  },
  {
   "cell_type": "code",
   "execution_count": 103,
   "id": "2ca5ada4-02e0-42d1-ac33-111db49a3354",
   "metadata": {},
   "outputs": [],
   "source": [
    "def lesser_of_two_evens(a,b):\n",
    "    bothEven = False\n",
    "    if a%2 == 0 and b%2 == 0:\n",
    "        bothEven = True\n",
    "    if bothEven:\n",
    "        return min (a,b)\n",
    "    else:\n",
    "        return max(a,b)"
   ]
  },
  {
   "cell_type": "code",
   "execution_count": 104,
   "id": "a0f7125a-dc26-46f4-af6a-0ca8e46606a9",
   "metadata": {},
   "outputs": [
    {
     "data": {
      "text/plain": [
       "2"
      ]
     },
     "execution_count": 104,
     "metadata": {},
     "output_type": "execute_result"
    }
   ],
   "source": [
    "lesser_of_two_evens(2,4)"
   ]
  },
  {
   "cell_type": "code",
   "execution_count": 105,
   "id": "bea71f08-387b-4b0d-95cd-5ccefa06c9ca",
   "metadata": {},
   "outputs": [
    {
     "data": {
      "text/plain": [
       "5"
      ]
     },
     "execution_count": 105,
     "metadata": {},
     "output_type": "execute_result"
    }
   ],
   "source": [
    "lesser_of_two_evens(2,5)"
   ]
  },
  {
   "cell_type": "code",
   "execution_count": 111,
   "id": "5cfa6fbd-ec73-4768-8514-d0828bcf719f",
   "metadata": {},
   "outputs": [],
   "source": [
    "def two_words(str1,str2):\n",
    "    if str1.upper()[0] == str2.upper()[0]:\n",
    "        return True\n",
    "    else:\n",
    "        return False"
   ]
  },
  {
   "cell_type": "code",
   "execution_count": 112,
   "id": "0ee43a7e-06aa-4061-9274-2f5a787c4622",
   "metadata": {},
   "outputs": [
    {
     "data": {
      "text/plain": [
       "True"
      ]
     },
     "execution_count": 112,
     "metadata": {},
     "output_type": "execute_result"
    }
   ],
   "source": [
    "two_words('sajesh','Skp')"
   ]
  },
  {
   "cell_type": "code",
   "execution_count": 114,
   "id": "ffef978f-9c64-4930-88b4-698e558b9f15",
   "metadata": {},
   "outputs": [
    {
     "data": {
      "text/plain": [
       "'Sajesh'"
      ]
     },
     "execution_count": 114,
     "metadata": {},
     "output_type": "execute_result"
    }
   ],
   "source": [
    "'sajesh'.capitalize()"
   ]
  },
  {
   "cell_type": "code",
   "execution_count": 12,
   "id": "35f829e5-a923-40df-ba7d-7a7d928173f6",
   "metadata": {},
   "outputs": [],
   "source": [
    "#count of prime nos\n",
    "def primecount(no):\n",
    "    if no < 2: #ie the number less than 0, 0, 1 are not prime\n",
    "        return 0\n",
    "    prime =[2]\n",
    "    x = 3\n",
    "    while x <= no:\n",
    "        #for y in range (3,x,2):# step size is 2 from, because no need to consider even numbers\n",
    "        for y in prime: #This is optimised than above\n",
    "            #print(y)\n",
    "            if x % y == 0:\n",
    "                x += 2\n",
    "                break\n",
    "        else:\n",
    "            prime.append(x)\n",
    "            x += 2\n",
    "    print(prime)\n",
    "    return len(prime)"
   ]
  },
  {
   "cell_type": "code",
   "execution_count": 18,
   "id": "6c65155f-2c4a-4281-ac0d-5032418a8006",
   "metadata": {},
   "outputs": [
    {
     "name": "stdout",
     "output_type": "stream",
     "text": [
      "[2, 3, 5]\n"
     ]
    },
    {
     "data": {
      "text/plain": [
       "3"
      ]
     },
     "execution_count": 18,
     "metadata": {},
     "output_type": "execute_result"
    }
   ],
   "source": [
    "primecount(6)"
   ]
  },
  {
   "cell_type": "code",
   "execution_count": 1,
   "id": "458986c2-f67a-4f49-91be-eea5af679905",
   "metadata": {},
   "outputs": [],
   "source": [
    "def pangram1(x):\n",
    "    pangram = True\n",
    "    a = 'abcdefghijklmnopqrstuvwxyz'\n",
    "    for i in a: \n",
    "        if i.lower() not in x.lower():\n",
    "            pangram = False\n",
    "            break\n",
    "\n",
    "    return pangram"
   ]
  },
  {
   "cell_type": "code",
   "execution_count": 2,
   "id": "70531266-3f9e-4643-8d66-6604c3aca9be",
   "metadata": {},
   "outputs": [
    {
     "data": {
      "text/plain": [
       "True"
      ]
     },
     "execution_count": 2,
     "metadata": {},
     "output_type": "execute_result"
    }
   ],
   "source": [
    "pangram1('The quick brown fox jumps over the lazy dog!')"
   ]
  },
  {
   "cell_type": "code",
   "execution_count": 56,
   "id": "56b240ae-7a0f-47cb-92d0-e9159a27168f",
   "metadata": {},
   "outputs": [],
   "source": [
    "#Simple way, but all the special chars & space to be removed\n",
    "#from string import ascii_lowercase\n",
    "def pangram2(x):\n",
    "    a = set('abcdefghijklmnopqrstuvwxyz')\n",
    "\n",
    "    x=x.lower()\n",
    "    x = x.replace(\" \",\"\")\n",
    "    b = set(x)\n",
    "    \n",
    "    if a == b:\n",
    "        print('Pangram Yes')\n",
    "    else:\n",
    "        print('Pangram No')\n",
    "    "
   ]
  },
  {
   "cell_type": "code",
   "execution_count": 57,
   "id": "e77f6a50-cbee-414f-a4cf-15747d638acc",
   "metadata": {},
   "outputs": [
    {
     "name": "stdout",
     "output_type": "stream",
     "text": [
      "a is {'o', 'v', 'u', 'k', 'h', 'g', 'd', 'n', 'w', 'y', 'e', 'a', 'b', 'm', 'f', 'p', 'z', 'i', 'r', 'j', 'c', 't', 'x', 's', 'l', 'q'}\n",
      "b is {'o', 'v', 'u', 'k', 'h', 'g', 'w', 'n', 'd', 'y', 'a', 'b', 'm', 'f', 'l', 'p', 'z', 'i', 'r', 'j', 'c', 't', 'x', 's', 'e', 'q'}\n",
      "Pangram Yes\n"
     ]
    }
   ],
   "source": [
    "pangram2('The quick brown fox jumps over the lazy dog')"
   ]
  },
  {
   "cell_type": "code",
   "execution_count": 3,
   "id": "fd6e1ded-c4dc-48ef-a3f2-4b5a6349ac5f",
   "metadata": {},
   "outputs": [],
   "source": [
    "def palindromes(a):\n",
    "    a=a.replace(\" \",\"\")\n",
    "    if a[::-1] == a:\n",
    "        print('palindrome')\n",
    "    else:\n",
    "        print('not palindrome')"
   ]
  },
  {
   "cell_type": "code",
   "execution_count": 5,
   "id": "aedfa255-1a04-4e6c-99d4-35b3cc9c1e7e",
   "metadata": {},
   "outputs": [
    {
     "name": "stdout",
     "output_type": "stream",
     "text": [
      "palindrome\n"
     ]
    }
   ],
   "source": [
    "palindromes('nurses run')"
   ]
  },
  {
   "cell_type": "code",
   "execution_count": 6,
   "id": "7d8c0337-0717-4d7d-8402-54f6b214e5c9",
   "metadata": {},
   "outputs": [],
   "source": [
    "#Multiply all values in list\n",
    "def func3(lst):\n",
    "    m=1\n",
    "    for x in lst:\n",
    "        m *=x\n",
    "    return m"
   ]
  },
  {
   "cell_type": "code",
   "execution_count": 7,
   "id": "32e065ef-8a50-4628-94a6-624f1af1993e",
   "metadata": {},
   "outputs": [
    {
     "data": {
      "text/plain": [
       "48"
      ]
     },
     "execution_count": 7,
     "metadata": {},
     "output_type": "execute_result"
    }
   ],
   "source": [
    "func3([1,1,3,4,4])"
   ]
  },
  {
   "cell_type": "code",
   "execution_count": 8,
   "id": "d171ccb0-856c-4a4b-8f68-737b827138c0",
   "metadata": {},
   "outputs": [],
   "source": [
    "#Remove duplicates\n",
    "def func2(lst):\n",
    "    return list(set(lst))"
   ]
  },
  {
   "cell_type": "code",
   "execution_count": 9,
   "id": "812ce148-87e1-424b-9220-7ba4eef2eddf",
   "metadata": {},
   "outputs": [
    {
     "data": {
      "text/plain": [
       "[1, 3, 12, 4]"
      ]
     },
     "execution_count": 9,
     "metadata": {},
     "output_type": "execute_result"
    }
   ],
   "source": [
    "func2([1,1,12,3,4,4])"
   ]
  },
  {
   "cell_type": "code",
   "execution_count": 10,
   "id": "7664e529-5bcd-4615-8c25-86a59cacf1c3",
   "metadata": {},
   "outputs": [],
   "source": [
    "# Upper and Lower letter count\n",
    "def UCCount(x):\n",
    "    Ucount=0\n",
    "    Lcount=0\n",
    "    for i in x:\n",
    "       if i.islower():\n",
    "            Lcount += 1\n",
    "       elif i.isupper():\n",
    "            Ucount += 1\n",
    "    print('upper letter count:',Ucount)\n",
    "    print('Lower letter count:',Lcount)"
   ]
  },
  {
   "cell_type": "code",
   "execution_count": 11,
   "id": "fe78a2d1-2976-420e-92b7-b346443b6415",
   "metadata": {},
   "outputs": [
    {
     "name": "stdout",
     "output_type": "stream",
     "text": [
      "upper letter count: 2\n",
      "Lower letter count: 10\n"
     ]
    }
   ],
   "source": [
    "UCCount('Hai, how are You')"
   ]
  },
  {
   "cell_type": "code",
   "execution_count": 13,
   "id": "94f98144-07d3-48a0-97db-4e08adedc5b8",
   "metadata": {},
   "outputs": [],
   "source": [
    "# Upper and Lower letter count using dictionary\n",
    "def UCCountD(x):\n",
    "    d = {'upper':0,'lower':0}\n",
    "    for i in x:\n",
    "       if i.islower():\n",
    "            d['lower'] += 1\n",
    "       elif i.isupper():\n",
    "            d['upper'] += 1\n",
    "    print('upper letter count:',d['upper'])\n",
    "    print('Lower letter count:',d['lower'])"
   ]
  },
  {
   "cell_type": "code",
   "execution_count": 14,
   "id": "5bfd5348-858a-4c3a-992d-3fcef6c81877",
   "metadata": {},
   "outputs": [
    {
     "name": "stdout",
     "output_type": "stream",
     "text": [
      "upper letter count: 2\n",
      "Lower letter count: 10\n"
     ]
    }
   ],
   "source": [
    "UCCountD('Hai, how are You')"
   ]
  },
  {
   "cell_type": "code",
   "execution_count": null,
   "id": "ab2d5b4b-7353-4f62-8bee-6af1c053983b",
   "metadata": {},
   "outputs": [],
   "source": []
  }
 ],
 "metadata": {
  "kernelspec": {
   "display_name": "Python 3 (ipykernel)",
   "language": "python",
   "name": "python3"
  },
  "language_info": {
   "codemirror_mode": {
    "name": "ipython",
    "version": 3
   },
   "file_extension": ".py",
   "mimetype": "text/x-python",
   "name": "python",
   "nbconvert_exporter": "python",
   "pygments_lexer": "ipython3",
   "version": "3.11.7"
  }
 },
 "nbformat": 4,
 "nbformat_minor": 5
}
