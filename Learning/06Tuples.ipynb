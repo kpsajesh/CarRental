{
 "cells": [
  {
   "cell_type": "code",
   "execution_count": 1,
   "id": "42f99ebb-a2e6-487e-8366-2c5b89345eaa",
   "metadata": {},
   "outputs": [],
   "source": [
    "t=(1,2,3)"
   ]
  },
  {
   "cell_type": "code",
   "execution_count": 2,
   "id": "98853356-14be-4c67-95fe-f8e7d35df345",
   "metadata": {},
   "outputs": [
    {
     "data": {
      "text/plain": [
       "tuple"
      ]
     },
     "execution_count": 2,
     "metadata": {},
     "output_type": "execute_result"
    }
   ],
   "source": [
    "type(t)"
   ]
  },
  {
   "cell_type": "code",
   "execution_count": 3,
   "id": "97bac27b-cf63-4c05-b042-ef5711030b5b",
   "metadata": {},
   "outputs": [
    {
     "data": {
      "text/plain": [
       "(1, 2, 3)"
      ]
     },
     "execution_count": 3,
     "metadata": {},
     "output_type": "execute_result"
    }
   ],
   "source": [
    "t"
   ]
  },
  {
   "cell_type": "code",
   "execution_count": 4,
   "id": "a50618c2-86f5-4b6c-b1cb-ad3e2e485527",
   "metadata": {},
   "outputs": [],
   "source": [
    "list=[1,2,3]"
   ]
  },
  {
   "cell_type": "code",
   "execution_count": 5,
   "id": "2ee6b4ae-7809-46e6-acb2-3e095fa6f11c",
   "metadata": {},
   "outputs": [
    {
     "data": {
      "text/plain": [
       "list"
      ]
     },
     "execution_count": 5,
     "metadata": {},
     "output_type": "execute_result"
    }
   ],
   "source": [
    "type(list)"
   ]
  },
  {
   "cell_type": "code",
   "execution_count": 6,
   "id": "3ec49d73-5f20-4a53-ab86-fa43f97dd79b",
   "metadata": {},
   "outputs": [],
   "source": [
    "t=(1,2,3,4)"
   ]
  },
  {
   "cell_type": "code",
   "execution_count": 7,
   "id": "dc6a841a-7233-40eb-bf0a-918b40b6e24c",
   "metadata": {},
   "outputs": [
    {
     "data": {
      "text/plain": [
       "(1, 2, 3, 4)"
      ]
     },
     "execution_count": 7,
     "metadata": {},
     "output_type": "execute_result"
    }
   ],
   "source": [
    "t"
   ]
  },
  {
   "cell_type": "code",
   "execution_count": 8,
   "id": "ea84f007-612b-4fa1-beea-8d4105a8ccc7",
   "metadata": {},
   "outputs": [],
   "source": [
    "t=(4,5,2,1)"
   ]
  },
  {
   "cell_type": "code",
   "execution_count": 9,
   "id": "7ee262e5-6d33-4bf7-969f-56fdd44819f6",
   "metadata": {},
   "outputs": [
    {
     "data": {
      "text/plain": [
       "(4, 5, 2, 1)"
      ]
     },
     "execution_count": 9,
     "metadata": {},
     "output_type": "execute_result"
    }
   ],
   "source": [
    "t"
   ]
  },
  {
   "cell_type": "code",
   "execution_count": 10,
   "id": "bb0a0bec-bf62-47f6-b412-1e2c14896ae4",
   "metadata": {},
   "outputs": [],
   "source": [
    "t=(1,2,3,4)"
   ]
  },
  {
   "cell_type": "code",
   "execution_count": 11,
   "id": "f4321059-3c2b-4d1d-a552-a92dc04f5923",
   "metadata": {},
   "outputs": [
    {
     "data": {
      "text/plain": [
       "(1, 2, 3, 4)"
      ]
     },
     "execution_count": 11,
     "metadata": {},
     "output_type": "execute_result"
    }
   ],
   "source": [
    "t"
   ]
  },
  {
   "cell_type": "code",
   "execution_count": 12,
   "id": "330beca5-100c-42fc-bcfd-e735f3ecca57",
   "metadata": {},
   "outputs": [
    {
     "data": {
      "text/plain": [
       "2135473756720"
      ]
     },
     "execution_count": 12,
     "metadata": {},
     "output_type": "execute_result"
    }
   ],
   "source": [
    "id(t)"
   ]
  },
  {
   "cell_type": "code",
   "execution_count": 13,
   "id": "a338c7de-f554-4afd-be74-960f67d4c640",
   "metadata": {},
   "outputs": [
    {
     "data": {
      "text/plain": [
       "2135426569680"
      ]
     },
     "execution_count": 13,
     "metadata": {},
     "output_type": "execute_result"
    }
   ],
   "source": [
    "t=(4,4,5,6)\n",
    "id(t)"
   ]
  },
  {
   "cell_type": "code",
   "execution_count": 14,
   "id": "0bc4bdc3-adc5-4996-a68f-145b471757a7",
   "metadata": {},
   "outputs": [],
   "source": [
    "t += (6,6)"
   ]
  },
  {
   "cell_type": "code",
   "execution_count": 15,
   "id": "d050c677-c8be-4417-bf29-b0d525442e5f",
   "metadata": {},
   "outputs": [
    {
     "data": {
      "text/plain": [
       "(4, 4, 5, 6, 6, 6)"
      ]
     },
     "execution_count": 15,
     "metadata": {},
     "output_type": "execute_result"
    }
   ],
   "source": [
    "t"
   ]
  },
  {
   "cell_type": "code",
   "execution_count": 16,
   "id": "98682845-b707-4d6c-b1fe-a4133bbc0590",
   "metadata": {},
   "outputs": [
    {
     "data": {
      "text/plain": [
       "(4, 4, 5, 6, 6, 6)"
      ]
     },
     "execution_count": 16,
     "metadata": {},
     "output_type": "execute_result"
    }
   ],
   "source": [
    "t"
   ]
  },
  {
   "cell_type": "code",
   "execution_count": 17,
   "id": "8f7e21ee-a23e-495d-9048-1343624e7953",
   "metadata": {},
   "outputs": [
    {
     "ename": "TypeError",
     "evalue": "'tuple' object does not support item assignment",
     "output_type": "error",
     "traceback": [
      "\u001b[1;31m---------------------------------------------------------------------------\u001b[0m",
      "\u001b[1;31mTypeError\u001b[0m                                 Traceback (most recent call last)",
      "Cell \u001b[1;32mIn[17], line 1\u001b[0m\n\u001b[1;32m----> 1\u001b[0m t[\u001b[38;5;241m0\u001b[39m]\u001b[38;5;241m=\u001b[39m\u001b[38;5;241m5\u001b[39m\n",
      "\u001b[1;31mTypeError\u001b[0m: 'tuple' object does not support item assignment"
     ]
    }
   ],
   "source": [
    "t[0]=5"
   ]
  },
  {
   "cell_type": "code",
   "execution_count": 18,
   "id": "908096ea-c758-4ab7-b9ed-02532f7fcd25",
   "metadata": {},
   "outputs": [],
   "source": [
    "b=False"
   ]
  },
  {
   "cell_type": "code",
   "execution_count": 19,
   "id": "035bf3e8-6dbd-48e8-bb53-cfa7634942d3",
   "metadata": {},
   "outputs": [
    {
     "data": {
      "text/plain": [
       "False"
      ]
     },
     "execution_count": 19,
     "metadata": {},
     "output_type": "execute_result"
    }
   ],
   "source": [
    "b"
   ]
  },
  {
   "cell_type": "code",
   "execution_count": 20,
   "id": "41180159-e737-4807-956d-ec290e9928d3",
   "metadata": {},
   "outputs": [
    {
     "data": {
      "text/plain": [
       "bool"
      ]
     },
     "execution_count": 20,
     "metadata": {},
     "output_type": "execute_result"
    }
   ],
   "source": [
    "type(b)"
   ]
  },
  {
   "cell_type": "code",
   "execution_count": 22,
   "id": "83eb73f5-7a3b-4037-ae44-d75f6fbd1696",
   "metadata": {},
   "outputs": [],
   "source": [
    "n = None"
   ]
  },
  {
   "cell_type": "code",
   "execution_count": null,
   "id": "42332229-7f2c-426e-a819-b0a5270ebe23",
   "metadata": {},
   "outputs": [],
   "source": []
  },
  {
   "cell_type": "code",
   "execution_count": 23,
   "id": "16152959-269e-400d-8c08-cb0fe5ce1fa8",
   "metadata": {},
   "outputs": [],
   "source": [
    "n"
   ]
  },
  {
   "cell_type": "code",
   "execution_count": 24,
   "id": "af96863a-a89b-4640-8c6a-2c881dbbb642",
   "metadata": {},
   "outputs": [
    {
     "data": {
      "text/plain": [
       "NoneType"
      ]
     },
     "execution_count": 24,
     "metadata": {},
     "output_type": "execute_result"
    }
   ],
   "source": [
    "type(n)"
   ]
  },
  {
   "cell_type": "code",
   "execution_count": 25,
   "id": "7dfd97eb-f4cf-49ca-8047-30438e1dd6ad",
   "metadata": {},
   "outputs": [],
   "source": [
    "mylist = [3,3,3,1,1,1,7,9]"
   ]
  },
  {
   "cell_type": "code",
   "execution_count": 26,
   "id": "f6701bef-2194-4b78-ae4a-847fb1781756",
   "metadata": {},
   "outputs": [],
   "source": [
    "myset = set(mylist)"
   ]
  },
  {
   "cell_type": "code",
   "execution_count": 27,
   "id": "74e8d02c-ad20-43d4-90fe-9bdb5734a473",
   "metadata": {},
   "outputs": [
    {
     "data": {
      "text/plain": [
       "{1, 3, 7, 9}"
      ]
     },
     "execution_count": 27,
     "metadata": {},
     "output_type": "execute_result"
    }
   ],
   "source": [
    "myset"
   ]
  },
  {
   "cell_type": "code",
   "execution_count": 2,
   "id": "6596c980-728c-4bac-87e0-ef554dc654f2",
   "metadata": {},
   "outputs": [
    {
     "data": {
      "text/plain": [
       "(1, 2, 3, 'a', 4.2, 5)"
      ]
     },
     "execution_count": 2,
     "metadata": {},
     "output_type": "execute_result"
    }
   ],
   "source": [
    "tup1 =(1,2,3)\n",
    "tup2 = ('a',4.2,5)\n",
    "tup3 = tup1+tup2\n",
    "tup3"
   ]
  },
  {
   "cell_type": "code",
   "execution_count": 4,
   "id": "618cde6a-1db4-4f36-bdc1-4631b1acc1a6",
   "metadata": {},
   "outputs": [
    {
     "data": {
      "text/plain": [
       "(1, 2, 3)"
      ]
     },
     "execution_count": 4,
     "metadata": {},
     "output_type": "execute_result"
    }
   ],
   "source": [
    "tup3[0:3:]"
   ]
  },
  {
   "cell_type": "code",
   "execution_count": 18,
   "id": "b99b72f6-c4f6-4d28-979c-9d69b9bd9d9b",
   "metadata": {},
   "outputs": [
    {
     "data": {
      "text/plain": [
       "(1, 3, 4.2)"
      ]
     },
     "execution_count": 18,
     "metadata": {},
     "output_type": "execute_result"
    }
   ],
   "source": [
    "tup3[0:5:2]"
   ]
  },
  {
   "cell_type": "code",
   "execution_count": 6,
   "id": "29914458-9d32-417b-b5c5-e86cce3dbfb2",
   "metadata": {},
   "outputs": [
    {
     "data": {
      "text/plain": [
       "(1, 2, 3, 'a', 4.2, 5)"
      ]
     },
     "execution_count": 6,
     "metadata": {},
     "output_type": "execute_result"
    }
   ],
   "source": [
    "tup3"
   ]
  },
  {
   "cell_type": "code",
   "execution_count": 14,
   "id": "e926405c-6c37-41e0-9ffa-a68c784d1341",
   "metadata": {},
   "outputs": [],
   "source": [
    " tup3[0:3]:('a', 4.2, 5)"
   ]
  },
  {
   "cell_type": "code",
   "execution_count": 20,
   "id": "0dae5b56-b159-4d92-89a5-deff4ecde8e5",
   "metadata": {},
   "outputs": [
    {
     "data": {
      "text/plain": [
       "[3, 4, 5]"
      ]
     },
     "execution_count": 20,
     "metadata": {},
     "output_type": "execute_result"
    }
   ],
   "source": [
    "a= (5,3,4)\n",
    "b = sorted(a)\n",
    "b"
   ]
  },
  {
   "cell_type": "code",
   "execution_count": null,
   "id": "c884a63e-0e8c-4f8d-9dda-fc5e45b23818",
   "metadata": {},
   "outputs": [],
   "source": []
  }
 ],
 "metadata": {
  "kernelspec": {
   "display_name": "Python 3 (ipykernel)",
   "language": "python",
   "name": "python3"
  },
  "language_info": {
   "codemirror_mode": {
    "name": "ipython",
    "version": 3
   },
   "file_extension": ".py",
   "mimetype": "text/x-python",
   "name": "python",
   "nbconvert_exporter": "python",
   "pygments_lexer": "ipython3",
   "version": "3.11.7"
  }
 },
 "nbformat": 4,
 "nbformat_minor": 5
}
