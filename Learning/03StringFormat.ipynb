{
 "cells": [
  {
   "cell_type": "code",
   "execution_count": 1,
   "id": "e083f259-b4fe-4d0b-a94c-65499545968e",
   "metadata": {},
   "outputs": [
    {
     "name": "stdout",
     "output_type": "stream",
     "text": [
      "This is a string Inserted\n"
     ]
    }
   ],
   "source": [
    "print('This is a string {}'.format('Inserted'))"
   ]
  },
  {
   "cell_type": "code",
   "execution_count": 3,
   "id": "933c9c90-c1bb-4eb7-bb2a-4138bbcdda64",
   "metadata": {},
   "outputs": [
    {
     "name": "stdout",
     "output_type": "stream",
     "text": [
      "The fox brown quick\n"
     ]
    }
   ],
   "source": [
    "print('The {} {} {}'.format('fox','brown','quick'))"
   ]
  },
  {
   "cell_type": "code",
   "execution_count": 5,
   "id": "ffd95c1a-d445-4610-b14d-d2a105970115",
   "metadata": {},
   "outputs": [
    {
     "name": "stdout",
     "output_type": "stream",
     "text": [
      "The fox brown quick\n"
     ]
    }
   ],
   "source": [
    "print('The {0} {1} {2}'.format('fox','brown','quick'))"
   ]
  },
  {
   "cell_type": "code",
   "execution_count": 6,
   "id": "2a34a086-461f-46e2-a809-78df667e3d5c",
   "metadata": {},
   "outputs": [
    {
     "name": "stdout",
     "output_type": "stream",
     "text": [
      "The fox fox fox\n"
     ]
    }
   ],
   "source": [
    "print('The {0} {0} {0}'.format('fox','brown','quick'))"
   ]
  },
  {
   "cell_type": "code",
   "execution_count": 7,
   "id": "1ae9486a-0b7d-46b1-8cf5-86eb95ddab42",
   "metadata": {},
   "outputs": [
    {
     "name": "stdout",
     "output_type": "stream",
     "text": [
      "The fox brown quick\n"
     ]
    }
   ],
   "source": [
    "print('The {a} {b} {c}'.format(a='fox',b='brown',c='quick'))"
   ]
  },
  {
   "cell_type": "code",
   "execution_count": 8,
   "id": "facbd379-2a5a-4b58-b580-eb5792df5378",
   "metadata": {},
   "outputs": [],
   "source": [
    "result = 100/777"
   ]
  },
  {
   "cell_type": "code",
   "execution_count": 9,
   "id": "0142ce04-cbfc-4d9f-9130-ec6abb75c3fe",
   "metadata": {},
   "outputs": [
    {
     "data": {
      "text/plain": [
       "0.1287001287001287"
      ]
     },
     "execution_count": 9,
     "metadata": {},
     "output_type": "execute_result"
    }
   ],
   "source": [
    "result"
   ]
  },
  {
   "cell_type": "code",
   "execution_count": 12,
   "id": "6e00f6a0-ffde-492e-ae06-3e719d60a1e9",
   "metadata": {},
   "outputs": [
    {
     "name": "stdout",
     "output_type": "stream",
     "text": [
      "The result is  0.1287001287001287\n"
     ]
    }
   ],
   "source": [
    "print('The result is  {}'.format(result))"
   ]
  },
  {
   "cell_type": "code",
   "execution_count": 14,
   "id": "a792477e-e0bd-425e-ae3d-0f40bc9edaf0",
   "metadata": {},
   "outputs": [
    {
     "name": "stdout",
     "output_type": "stream",
     "text": [
      "The result is  0.1287001287001287\n"
     ]
    }
   ],
   "source": [
    "print('The result is  {r}'.format(r= result))"
   ]
  },
  {
   "cell_type": "code",
   "execution_count": 15,
   "id": "7944977a-83d2-43c7-b787-1f6b7eb36d92",
   "metadata": {},
   "outputs": [
    {
     "name": "stdout",
     "output_type": "stream",
     "text": [
      "The result is  0.129\n"
     ]
    }
   ],
   "source": [
    "print('The result is  {r:1.3f}'.format(r= result))"
   ]
  },
  {
   "cell_type": "code",
   "execution_count": 16,
   "id": "0ed63e1e-f1f5-490f-9c68-fe3e24cab574",
   "metadata": {},
   "outputs": [
    {
     "name": "stdout",
     "output_type": "stream",
     "text": [
      "The result is  0.129\n"
     ]
    }
   ],
   "source": [
    "print('The result is  {r:5.3f}'.format(r= result))"
   ]
  },
  {
   "cell_type": "code",
   "execution_count": 17,
   "id": "19efcfc2-7518-4412-ae2b-fa1a5cf0f675",
   "metadata": {},
   "outputs": [],
   "source": [
    "country ='India'"
   ]
  },
  {
   "cell_type": "code",
   "execution_count": 18,
   "id": "72da2686-e466-4203-a798-ee7326d9f06e",
   "metadata": {},
   "outputs": [
    {
     "data": {
      "text/plain": [
       "'India'"
      ]
     },
     "execution_count": 18,
     "metadata": {},
     "output_type": "execute_result"
    }
   ],
   "source": [
    "country"
   ]
  },
  {
   "cell_type": "code",
   "execution_count": 23,
   "id": "0049cdf5-1e49-4160-b0bc-51c91a6490a9",
   "metadata": {},
   "outputs": [
    {
     "name": "stdout",
     "output_type": "stream",
     "text": [
      "Welcome to India\n"
     ]
    }
   ],
   "source": [
    "print('Welcome to {}'.format(country))"
   ]
  },
  {
   "cell_type": "code",
   "execution_count": 21,
   "id": "10b8c1c1-45ea-4145-993c-d0fcdf40e442",
   "metadata": {},
   "outputs": [
    {
     "name": "stdout",
     "output_type": "stream",
     "text": [
      "Welcome to India\n"
     ]
    }
   ],
   "source": [
    "print(f'Welcome to {country}')"
   ]
  },
  {
   "cell_type": "code",
   "execution_count": 30,
   "id": "1de74e1a-9f47-453b-9810-988cafc2ff61",
   "metadata": {},
   "outputs": [],
   "source": [
    "country1='UK'\n",
    "country2 = 'Scotland'\n"
   ]
  },
  {
   "cell_type": "code",
   "execution_count": 31,
   "id": "da7c660c-1b5c-40eb-bfc8-6993b594107b",
   "metadata": {},
   "outputs": [
    {
     "data": {
      "text/plain": [
       "'UK'"
      ]
     },
     "execution_count": 31,
     "metadata": {},
     "output_type": "execute_result"
    }
   ],
   "source": [
    "country1"
   ]
  },
  {
   "cell_type": "code",
   "execution_count": 32,
   "id": "db275114-e74a-4f7c-812e-235e6854ced5",
   "metadata": {},
   "outputs": [
    {
     "data": {
      "text/plain": [
       "'Scotland'"
      ]
     },
     "execution_count": 32,
     "metadata": {},
     "output_type": "execute_result"
    }
   ],
   "source": [
    "country2"
   ]
  },
  {
   "cell_type": "code",
   "execution_count": 33,
   "id": "85092ea2-5f14-4ded-8132-879d32ea745f",
   "metadata": {},
   "outputs": [
    {
     "name": "stdout",
     "output_type": "stream",
     "text": [
      "Welcome to UK and Scotland\n"
     ]
    }
   ],
   "source": [
    "print(f'Welcome to {country1} and {country2}')"
   ]
  },
  {
   "cell_type": "code",
   "execution_count": 34,
   "id": "21e68e55-78cd-4f25-a874-bb32a31a56da",
   "metadata": {},
   "outputs": [
    {
     "name": "stdout",
     "output_type": "stream",
     "text": [
      "I'm going to inject something here.\n"
     ]
    }
   ],
   "source": [
    "print(\"I'm going to inject %s here.\" %'something')"
   ]
  },
  {
   "cell_type": "code",
   "execution_count": 35,
   "id": "0121508e-3b4a-4381-b4c6-72bbfcd24f4b",
   "metadata": {},
   "outputs": [
    {
     "name": "stdout",
     "output_type": "stream",
     "text": [
      "I am going to inject sometext here.\n"
     ]
    }
   ],
   "source": [
    "print('I am going to inject %s here.' %('sometext'))"
   ]
  },
  {
   "cell_type": "code",
   "execution_count": 36,
   "id": "1b2fed9f-0a3b-4f1f-874f-bc3e8d2a51ff",
   "metadata": {},
   "outputs": [
    {
     "name": "stdout",
     "output_type": "stream",
     "text": [
      "I am going to inject some text here and more here\n"
     ]
    }
   ],
   "source": [
    "x,y = 'some', 'more'\n",
    "print('I am going to inject %s text here and %s here' %(x,y))"
   ]
  },
  {
   "cell_type": "code",
   "execution_count": 37,
   "id": "6347b73d-e038-4262-a64c-7a1dd54cac4e",
   "metadata": {},
   "outputs": [
    {
     "name": "stdout",
     "output_type": "stream",
     "text": [
      "I am going to inject 'sometext' here.\n"
     ]
    }
   ],
   "source": [
    "print('I am going to inject %r here.' %('sometext'))"
   ]
  },
  {
   "cell_type": "code",
   "execution_count": 38,
   "id": "e6606ef6-3d46-49f9-a070-f424cdce96d7",
   "metadata": {},
   "outputs": [
    {
     "name": "stdout",
     "output_type": "stream",
     "text": [
      "I am going to get 3 fishes.\n"
     ]
    }
   ],
   "source": [
    "print('I am going to get %d fishes.' %3.75)"
   ]
  },
  {
   "cell_type": "code",
   "execution_count": 4,
   "id": "f7744a30-066d-4cdf-ac63-cbea5ec322bb",
   "metadata": {},
   "outputs": [
    {
     "name": "stdout",
     "output_type": "stream",
     "text": [
      "I bought 25.20000 gold.\n"
     ]
    }
   ],
   "source": [
    "print('I bought %.5f gold.' %25.2)"
   ]
  },
  {
   "cell_type": "code",
   "execution_count": 43,
   "id": "bd951d4f-5ecd-4906-b2b3-890f0b00d8c5",
   "metadata": {},
   "outputs": [
    {
     "name": "stdout",
     "output_type": "stream",
     "text": [
      "Python rules\n"
     ]
    }
   ],
   "source": [
    "print('Python {}'.format('rules'))"
   ]
  },
  {
   "cell_type": "code",
   "execution_count": 45,
   "id": "2adcabc1-b303-4560-b62b-5acefd4f77a3",
   "metadata": {},
   "outputs": [
    {
     "name": "stdout",
     "output_type": "stream",
     "text": [
      "Python rules\n"
     ]
    }
   ],
   "source": [
    "print('Python %s'%('rules'))"
   ]
  },
  {
   "cell_type": "code",
   "execution_count": null,
   "id": "72b4c9a7-e75f-4da6-8a49-ac4ce73c38ed",
   "metadata": {},
   "outputs": [],
   "source": []
  }
 ],
 "metadata": {
  "kernelspec": {
   "display_name": "Python 3 (ipykernel)",
   "language": "python",
   "name": "python3"
  },
  "language_info": {
   "codemirror_mode": {
    "name": "ipython",
    "version": 3
   },
   "file_extension": ".py",
   "mimetype": "text/x-python",
   "name": "python",
   "nbconvert_exporter": "python",
   "pygments_lexer": "ipython3",
   "version": "3.11.7"
  }
 },
 "nbformat": 4,
 "nbformat_minor": 5
}
