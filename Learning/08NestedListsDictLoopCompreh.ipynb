{
 "cells": [
  {
   "cell_type": "code",
   "execution_count": 1,
   "id": "2512dee2-4c5d-4686-afcb-19db881919eb",
   "metadata": {},
   "outputs": [],
   "source": [
    "list3 = [1,2,[3,4,'hello']]"
   ]
  },
  {
   "cell_type": "code",
   "execution_count": 2,
   "id": "c02958f4-6793-44e9-8088-f52c431fc7b1",
   "metadata": {},
   "outputs": [
    {
     "data": {
      "text/plain": [
       "[1, 2, [3, 4, 'hello']]"
      ]
     },
     "execution_count": 2,
     "metadata": {},
     "output_type": "execute_result"
    }
   ],
   "source": [
    "list3"
   ]
  },
  {
   "cell_type": "code",
   "execution_count": 3,
   "id": "3f1ee82f-92f1-49e5-a8e8-1f862abdc685",
   "metadata": {},
   "outputs": [
    {
     "data": {
      "text/plain": [
       "'hello'"
      ]
     },
     "execution_count": 3,
     "metadata": {},
     "output_type": "execute_result"
    }
   ],
   "source": [
    "list3[2][2]"
   ]
  },
  {
   "cell_type": "code",
   "execution_count": 4,
   "id": "9e6fa613-fcd8-4c40-ae42-e3c1513a6113",
   "metadata": {},
   "outputs": [],
   "source": [
    "list3[2][2] = 'goodbye'"
   ]
  },
  {
   "cell_type": "code",
   "execution_count": 5,
   "id": "4099857f-fdc0-41f5-a146-a39c08c70cb3",
   "metadata": {},
   "outputs": [
    {
     "data": {
      "text/plain": [
       "[1, 2, [3, 4, 'goodbye']]"
      ]
     },
     "execution_count": 5,
     "metadata": {},
     "output_type": "execute_result"
    }
   ],
   "source": [
    "list3"
   ]
  },
  {
   "cell_type": "code",
   "execution_count": 6,
   "id": "a6c57208-27c1-45e3-891f-157cfa58497d",
   "metadata": {},
   "outputs": [],
   "source": [
    "listA = [5,3,4,6,1]"
   ]
  },
  {
   "cell_type": "code",
   "execution_count": 7,
   "id": "5eb02981-ba0f-471a-a98a-e27a32831e88",
   "metadata": {},
   "outputs": [
    {
     "data": {
      "text/plain": [
       "[5, 3, 4, 6, 1]"
      ]
     },
     "execution_count": 7,
     "metadata": {},
     "output_type": "execute_result"
    }
   ],
   "source": [
    "listA"
   ]
  },
  {
   "cell_type": "code",
   "execution_count": 8,
   "id": "b1aabe9e-bb00-461f-9482-91077361355d",
   "metadata": {},
   "outputs": [],
   "source": [
    "listA.sort()"
   ]
  },
  {
   "cell_type": "code",
   "execution_count": 9,
   "id": "0e25c53e-f6f0-46af-a1f5-71a975093218",
   "metadata": {},
   "outputs": [
    {
     "data": {
      "text/plain": [
       "[1, 3, 4, 5, 6]"
      ]
     },
     "execution_count": 9,
     "metadata": {},
     "output_type": "execute_result"
    }
   ],
   "source": [
    "listA"
   ]
  },
  {
   "cell_type": "code",
   "execution_count": 10,
   "id": "802d7f14-bfeb-4c94-b97b-81ec4be1dd74",
   "metadata": {},
   "outputs": [],
   "source": [
    "d2 = {'k1':{'k2':'hello'}}"
   ]
  },
  {
   "cell_type": "code",
   "execution_count": 11,
   "id": "e3e35f06-3bb0-4c5f-a21c-6fb24bf097cb",
   "metadata": {},
   "outputs": [
    {
     "data": {
      "text/plain": [
       "'hello'"
      ]
     },
     "execution_count": 11,
     "metadata": {},
     "output_type": "execute_result"
    }
   ],
   "source": [
    "d2['k1']['k2']"
   ]
  },
  {
   "cell_type": "code",
   "execution_count": 13,
   "id": "c5ad7e49-2c31-4b50-9764-a6e88044d986",
   "metadata": {},
   "outputs": [],
   "source": [
    "d3 = {'k1':[{'k2':['k3',['hello']]}]}"
   ]
  },
  {
   "cell_type": "code",
   "execution_count": 14,
   "id": "a950141b-f6b6-4e5e-a0bf-7a39638fa2a5",
   "metadata": {},
   "outputs": [
    {
     "data": {
      "text/plain": [
       "[{'k2': ['k3', ['hello']]}]"
      ]
     },
     "execution_count": 14,
     "metadata": {},
     "output_type": "execute_result"
    }
   ],
   "source": [
    "d3['k1']"
   ]
  },
  {
   "cell_type": "code",
   "execution_count": 17,
   "id": "05f27805-aa5f-478d-9f90-b423ed9a23bd",
   "metadata": {},
   "outputs": [
    {
     "data": {
      "text/plain": [
       "{'k2': ['k3', ['hello']]}"
      ]
     },
     "execution_count": 17,
     "metadata": {},
     "output_type": "execute_result"
    }
   ],
   "source": [
    "d3['k1'][0]"
   ]
  },
  {
   "cell_type": "code",
   "execution_count": 18,
   "id": "b8cbdcd3-85ac-4a3f-a16a-20af16207748",
   "metadata": {},
   "outputs": [
    {
     "data": {
      "text/plain": [
       "['k3', ['hello']]"
      ]
     },
     "execution_count": 18,
     "metadata": {},
     "output_type": "execute_result"
    }
   ],
   "source": [
    "d3['k1'][0]['k2']"
   ]
  },
  {
   "cell_type": "code",
   "execution_count": 19,
   "id": "01f97621-1fbc-4eda-b8fa-ab96ec2cf648",
   "metadata": {},
   "outputs": [
    {
     "data": {
      "text/plain": [
       "['hello']"
      ]
     },
     "execution_count": 19,
     "metadata": {},
     "output_type": "execute_result"
    }
   ],
   "source": [
    "d3['k1'][0]['k2'][1]"
   ]
  },
  {
   "cell_type": "code",
   "execution_count": 20,
   "id": "d455a5b5-8dbd-4c2f-86f1-a499465446f5",
   "metadata": {},
   "outputs": [
    {
     "data": {
      "text/plain": [
       "'hello'"
      ]
     },
     "execution_count": 20,
     "metadata": {},
     "output_type": "execute_result"
    }
   ],
   "source": [
    "d3['k1'][0]['k2'][1][0]"
   ]
  },
  {
   "cell_type": "code",
   "execution_count": 24,
   "id": "7ef29fcf-ef7a-47f5-b0b9-e65636580edb",
   "metadata": {},
   "outputs": [
    {
     "name": "stdout",
     "output_type": "stream",
     "text": [
      "0\n",
      "odd number is 1\n",
      "2\n",
      "odd number is 3\n",
      "4\n",
      "odd number is 5\n",
      "6\n",
      "odd number is 7\n",
      "8\n"
     ]
    }
   ],
   "source": [
    "mylist =[0,1,2,3,4,5,6,7,8]\n",
    "for num in mylist:\n",
    "    #checking\n",
    "    if num % 2== 0:\n",
    "        print(num)\n",
    "    else:\n",
    "        print(f'odd number is {num}')"
   ]
  },
  {
   "cell_type": "code",
   "execution_count": 25,
   "id": "139d69bf-8dc5-4698-8585-fb70a865b255",
   "metadata": {},
   "outputs": [
    {
     "name": "stdout",
     "output_type": "stream",
     "text": [
      "(1, 2)\n",
      "(3, 4)\n",
      "(5, 6)\n"
     ]
    }
   ],
   "source": [
    "#Tuple unpacking\n",
    "mylista = [(1,2),(3,4),(5,6)]\n",
    "for tup in mylista:\n",
    "    print(tup)"
   ]
  },
  {
   "cell_type": "code",
   "execution_count": 26,
   "id": "6c7d0f45-c216-4ad6-9ee0-827381b80577",
   "metadata": {},
   "outputs": [
    {
     "name": "stdout",
     "output_type": "stream",
     "text": [
      "1\n",
      "2\n",
      "3\n",
      "4\n",
      "5\n",
      "6\n"
     ]
    }
   ],
   "source": [
    "for(a,b) in mylista:\n",
    "    print(a)\n",
    "    print(b)"
   ]
  },
  {
   "cell_type": "code",
   "execution_count": 28,
   "id": "2c683b30-2ed9-4a3e-8195-095f9984415e",
   "metadata": {},
   "outputs": [
    {
     "name": "stdout",
     "output_type": "stream",
     "text": [
      "1\n",
      "2\n",
      "3\n",
      "4\n",
      "5\n",
      "6\n"
     ]
    }
   ],
   "source": [
    "for a,b in mylista:\n",
    "    print(a)\n",
    "    print(b)"
   ]
  },
  {
   "cell_type": "code",
   "execution_count": 29,
   "id": "ec434025-d836-4651-929c-346c4a3ebc99",
   "metadata": {},
   "outputs": [],
   "source": [
    "d = {'k1':1,'k2':2,'k3':3}"
   ]
  },
  {
   "cell_type": "code",
   "execution_count": 30,
   "id": "c03a816b-d9ee-4ceb-8ad3-0c34590361dc",
   "metadata": {},
   "outputs": [
    {
     "name": "stdout",
     "output_type": "stream",
     "text": [
      "k1\n",
      "k2\n",
      "k3\n"
     ]
    }
   ],
   "source": [
    "for item in d:\n",
    "    print(item)\n"
   ]
  },
  {
   "cell_type": "code",
   "execution_count": 33,
   "id": "f0526278-3d3a-46e3-92fd-0a7ed02736f4",
   "metadata": {},
   "outputs": [
    {
     "data": {
      "text/plain": [
       "{'k1': 1, 'k2': 2, 'k3': 3}"
      ]
     },
     "execution_count": 33,
     "metadata": {},
     "output_type": "execute_result"
    }
   ],
   "source": [
    "d\n"
   ]
  },
  {
   "cell_type": "code",
   "execution_count": 34,
   "id": "e2407032-e8b8-4924-88a5-1161ec9d791f",
   "metadata": {},
   "outputs": [
    {
     "name": "stdout",
     "output_type": "stream",
     "text": [
      "('k1', 1)\n",
      "('k2', 2)\n",
      "('k3', 3)\n"
     ]
    }
   ],
   "source": [
    "for item in d.items():\n",
    "    print(item)"
   ]
  },
  {
   "cell_type": "code",
   "execution_count": 36,
   "id": "6de1f750-aa55-48c9-bab6-faa8b4a2789c",
   "metadata": {},
   "outputs": [
    {
     "name": "stdout",
     "output_type": "stream",
     "text": [
      "1\n",
      "2\n",
      "3\n"
     ]
    }
   ],
   "source": [
    "for key, value1 in d.items():\n",
    "    print(value1)"
   ]
  },
  {
   "cell_type": "code",
   "execution_count": 38,
   "id": "8a415a74-9487-4c59-8113-51b21ff3fefb",
   "metadata": {},
   "outputs": [
    {
     "name": "stdout",
     "output_type": "stream",
     "text": [
      "k1\n",
      "k2\n",
      "k3\n"
     ]
    }
   ],
   "source": [
    "for key  in d.keys():\n",
    "    print(key)"
   ]
  },
  {
   "cell_type": "code",
   "execution_count": 39,
   "id": "1aa8d4db-f1d9-4397-8f6f-6b4299d82bbf",
   "metadata": {},
   "outputs": [
    {
     "name": "stdout",
     "output_type": "stream",
     "text": [
      "apple 1\n",
      "banana 2\n",
      "cherry 3\n"
     ]
    }
   ],
   "source": [
    "my_dict = {'apple': 1, 'banana': 2, 'cherry': 3}\n",
    "\n",
    "# Accessing items in the order they were added\n",
    "for key in my_dict:\n",
    "    print(key, my_dict[key])"
   ]
  },
  {
   "cell_type": "code",
   "execution_count": 1,
   "id": "c610982c-034e-4372-9e7a-bfb9f4c502d0",
   "metadata": {},
   "outputs": [
    {
     "name": "stdout",
     "output_type": "stream",
     "text": [
      " x= 0\n",
      " x= 1\n",
      " x= 2\n"
     ]
    }
   ],
   "source": [
    "x = 0\n",
    "while (x<3):\n",
    "    print (f' x= {x}')\n",
    "    x=x+1"
   ]
  },
  {
   "cell_type": "code",
   "execution_count": 3,
   "id": "d2c34160-8482-4713-b114-6245f0a0d344",
   "metadata": {},
   "outputs": [
    {
     "name": "stdout",
     "output_type": "stream",
     "text": [
      "0\n",
      "1\n"
     ]
    },
    {
     "ename": "KeyboardInterrupt",
     "evalue": "",
     "output_type": "error",
     "traceback": [
      "\u001b[1;31m---------------------------------------------------------------------------\u001b[0m",
      "\u001b[1;31mKeyboardInterrupt\u001b[0m                         Traceback (most recent call last)",
      "Cell \u001b[1;32mIn[3], line 4\u001b[0m\n\u001b[0;32m      2\u001b[0m \u001b[38;5;28;01mwhile\u001b[39;00m (x\u001b[38;5;241m<\u001b[39m\u001b[38;5;241m5\u001b[39m):\n\u001b[0;32m      3\u001b[0m     \u001b[38;5;28;01mif\u001b[39;00m x \u001b[38;5;241m==\u001b[39m \u001b[38;5;241m2\u001b[39m:\n\u001b[1;32m----> 4\u001b[0m        \u001b[38;5;28;01mcontinue\u001b[39;00m\n\u001b[0;32m      5\u001b[0m     \u001b[38;5;28mprint\u001b[39m (x)\n\u001b[0;32m      6\u001b[0m     x\u001b[38;5;241m+\u001b[39m\u001b[38;5;241m=\u001b[39m\u001b[38;5;241m1\u001b[39m\n",
      "\u001b[1;31mKeyboardInterrupt\u001b[0m: "
     ]
    }
   ],
   "source": [
    "x = 0\n",
    "while (x<5):\n",
    "    if x == 2:\n",
    "       continue\n",
    "    print (x)\n",
    "    x+=1"
   ]
  },
  {
   "cell_type": "code",
   "execution_count": 2,
   "id": "ee7acbfb-a3fc-45a0-90d9-36aeb1876d7b",
   "metadata": {},
   "outputs": [
    {
     "name": "stdout",
     "output_type": "stream",
     "text": [
      "s\n",
      "j\n",
      "e\n",
      "s\n",
      "h\n"
     ]
    }
   ],
   "source": [
    "letter ='sajesh'\n",
    "for a in letter:\n",
    "    if(a=='a'):\n",
    "        continue\n",
    "    print(a)"
   ]
  },
  {
   "cell_type": "code",
   "execution_count": 8,
   "id": "a6c6685f-2a49-492e-b1b2-87f35191bf57",
   "metadata": {},
   "outputs": [
    {
     "name": "stdout",
     "output_type": "stream",
     "text": [
      "2\n",
      "4\n",
      "6\n",
      "8\n"
     ]
    }
   ],
   "source": [
    "for num in range(2,10,2):\n",
    "    print(num)"
   ]
  },
  {
   "cell_type": "code",
   "execution_count": 12,
   "id": "857bef79-3e6c-4f14-ac0a-8c6bfe302ce2",
   "metadata": {},
   "outputs": [
    {
     "name": "stdout",
     "output_type": "stream",
     "text": [
      "0 a\n",
      "1 b\n",
      "2 c\n",
      "3 d\n",
      "4 e\n"
     ]
    }
   ],
   "source": [
    "index = 0\n",
    "for letter in 'abcde':\n",
    "    print(index, letter)\n",
    "    index += 1"
   ]
  },
  {
   "cell_type": "code",
   "execution_count": 14,
   "id": "ab26df1a-5b98-41a3-a932-c676c9f4f8fd",
   "metadata": {
    "scrolled": true
   },
   "outputs": [
    {
     "name": "stdout",
     "output_type": "stream",
     "text": [
      "(0, 'a')\n",
      "(1, 'b')\n",
      "(2, 'c')\n",
      "(3, 'd')\n",
      "(4, 'e')\n"
     ]
    }
   ],
   "source": [
    "for item in enumerate('abcde'):\n",
    "    print(item)"
   ]
  },
  {
   "cell_type": "code",
   "execution_count": 15,
   "id": "2362a08c-f8bb-4a04-b79e-93af8e68d8dc",
   "metadata": {},
   "outputs": [
    {
     "name": "stdout",
     "output_type": "stream",
     "text": [
      "0\n",
      "a\n",
      "1\n",
      "b\n",
      "2\n",
      "c\n",
      "3\n",
      "d\n",
      "4\n",
      "e\n"
     ]
    }
   ],
   "source": [
    "for index, item in enumerate('abcde'):\n",
    "    print(index)\n",
    "    print(item)"
   ]
  },
  {
   "cell_type": "code",
   "execution_count": 16,
   "id": "3b8ad5e6-8841-4d9e-af60-bc5bdf535c58",
   "metadata": {},
   "outputs": [
    {
     "name": "stdout",
     "output_type": "stream",
     "text": [
      "(1, 'a')\n",
      "(2, 'b')\n",
      "(3, 'c')\n"
     ]
    }
   ],
   "source": [
    "list1 = [1,2,3]\n",
    "list2 = ['a','b','c']\n",
    "for item in zip(list1, list2):\n",
    "    print(item)"
   ]
  },
  {
   "cell_type": "code",
   "execution_count": 17,
   "id": "bcb2d53c-1698-42ad-859f-ce78d6969dd2",
   "metadata": {},
   "outputs": [
    {
     "name": "stdout",
     "output_type": "stream",
     "text": [
      "(1, 'a')\n",
      "(2, 'b')\n",
      "(3, 'c')\n"
     ]
    }
   ],
   "source": [
    "list1 = [1,2,3,4,5]\n",
    "list2 = ['a','b','c']\n",
    "for item in zip(list1, list2):\n",
    "    print(item)"
   ]
  },
  {
   "cell_type": "code",
   "execution_count": 19,
   "id": "eba077e0-c2b7-469d-b09d-b9e683b33ee5",
   "metadata": {},
   "outputs": [
    {
     "name": "stdout",
     "output_type": "stream",
     "text": [
      "(1, 'a', 'x')\n",
      "(2, 'b', 'y')\n",
      "(3, 'c', 'z')\n"
     ]
    }
   ],
   "source": [
    "list1 = [1,2,3]\n",
    "list2 = ['a','b','c']\n",
    "list3 = ['x','y','z']\n",
    "for item in zip(list1, list2,list3):\n",
    "    print(item)"
   ]
  },
  {
   "cell_type": "code",
   "execution_count": 20,
   "id": "7425438e-c2e5-4329-9c77-47358519bbc1",
   "metadata": {},
   "outputs": [
    {
     "data": {
      "text/plain": [
       "[(1, 'a'), (2, 'b'), (3, 'c')]"
      ]
     },
     "execution_count": 20,
     "metadata": {},
     "output_type": "execute_result"
    }
   ],
   "source": [
    "lista = list(zip(list1, list2))\n",
    "lista"
   ]
  },
  {
   "cell_type": "code",
   "execution_count": 21,
   "id": "654e379a-6cfb-4bd4-a29d-df22111f72f4",
   "metadata": {},
   "outputs": [
    {
     "name": "stdout",
     "output_type": "stream",
     "text": [
      "1\n",
      "2\n",
      "3\n"
     ]
    }
   ],
   "source": [
    "for j, k,l in zip(list1, list2,list3):\n",
    "    print(j)"
   ]
  },
  {
   "cell_type": "code",
   "execution_count": 22,
   "id": "22186521-568a-4b5f-80c3-086161fb1a94",
   "metadata": {},
   "outputs": [
    {
     "name": "stdout",
     "output_type": "stream",
     "text": [
      "a\n",
      "b\n",
      "c\n"
     ]
    }
   ],
   "source": [
    "for j, k,l in zip(list1, list2,list3):\n",
    "    print(k)"
   ]
  },
  {
   "cell_type": "code",
   "execution_count": 23,
   "id": "cc2724ae-b92d-4933-a078-51ff26cae04c",
   "metadata": {},
   "outputs": [
    {
     "data": {
      "text/plain": [
       "True"
      ]
     },
     "execution_count": 23,
     "metadata": {},
     "output_type": "execute_result"
    }
   ],
   "source": [
    "'I' in ('I love you')"
   ]
  },
  {
   "cell_type": "code",
   "execution_count": 24,
   "id": "451654d0-7838-4425-9785-82dcca42f7d4",
   "metadata": {},
   "outputs": [
    {
     "data": {
      "text/plain": [
       "False"
      ]
     },
     "execution_count": 24,
     "metadata": {},
     "output_type": "execute_result"
    }
   ],
   "source": [
    "'I' in ('i love you')"
   ]
  },
  {
   "cell_type": "code",
   "execution_count": 26,
   "id": "c9a159f5-7d2a-4852-9d7c-050054d49acc",
   "metadata": {},
   "outputs": [
    {
     "data": {
      "text/plain": [
       "True"
      ]
     },
     "execution_count": 26,
     "metadata": {},
     "output_type": "execute_result"
    }
   ],
   "source": [
    "d = {'mykey':123}\n",
    "123 in (d.values())"
   ]
  },
  {
   "cell_type": "code",
   "execution_count": 27,
   "id": "d40a4523-1155-43fb-af10-0f67f23d5ed6",
   "metadata": {},
   "outputs": [
    {
     "data": {
      "text/plain": [
       "False"
      ]
     },
     "execution_count": 27,
     "metadata": {},
     "output_type": "execute_result"
    }
   ],
   "source": [
    "d = {'mykey':123}\n",
    "123 in (d.keys())"
   ]
  },
  {
   "cell_type": "code",
   "execution_count": 28,
   "id": "68d7d5bc-b155-405b-b295-dd71c93deae1",
   "metadata": {},
   "outputs": [
    {
     "data": {
      "text/plain": [
       "[4, 2, 5, 1, 3]"
      ]
     },
     "execution_count": 28,
     "metadata": {},
     "output_type": "execute_result"
    }
   ],
   "source": [
    "from random import shuffle\n",
    "lista = [1,2,3,4,5]\n",
    "shuffle(lista)\n",
    "lista"
   ]
  },
  {
   "cell_type": "code",
   "execution_count": 32,
   "id": "f7259f20-75ae-4afb-a505-a872b445e2a2",
   "metadata": {},
   "outputs": [
    {
     "data": {
      "text/plain": [
       "21"
      ]
     },
     "execution_count": 32,
     "metadata": {},
     "output_type": "execute_result"
    }
   ],
   "source": [
    "from random import randint\n",
    "a = randint(1,100)\n",
    "a"
   ]
  },
  {
   "cell_type": "code",
   "execution_count": 33,
   "id": "ca76772a-7bba-437c-b6b3-d435b70c5e93",
   "metadata": {},
   "outputs": [
    {
     "data": {
      "text/plain": [
       "['h', 'e', 'l', 'l', 'o']"
      ]
     },
     "execution_count": 33,
     "metadata": {},
     "output_type": "execute_result"
    }
   ],
   "source": [
    "mystr = 'hello'\n",
    "str2 = []\n",
    "for letter in mystr:\n",
    "    str2.append(letter)\n",
    "\n",
    "str2\n",
    "    "
   ]
  },
  {
   "cell_type": "code",
   "execution_count": 34,
   "id": "8c1c7903-b4a6-42bd-86ae-defd5d5202e1",
   "metadata": {},
   "outputs": [
    {
     "data": {
      "text/plain": [
       "['h', 'e', 'l', 'l', 'o']"
      ]
     },
     "execution_count": 34,
     "metadata": {},
     "output_type": "execute_result"
    }
   ],
   "source": [
    "mylist3 = [letter for letter in mystr]\n",
    "mylist3"
   ]
  },
  {
   "cell_type": "code",
   "execution_count": 35,
   "id": "b8c893bb-91e6-47e5-90c2-4b227289ecc7",
   "metadata": {},
   "outputs": [
    {
     "data": {
      "text/plain": [
       "[0, 1, 2, 3, 4, 5, 6, 7, 8, 9, 10]"
      ]
     },
     "execution_count": 35,
     "metadata": {},
     "output_type": "execute_result"
    }
   ],
   "source": [
    "listb = [ x for x in range(0,11)]\n",
    "listb"
   ]
  },
  {
   "cell_type": "code",
   "execution_count": 36,
   "id": "e411cbaf-26ac-440e-9a27-9259815b17bb",
   "metadata": {},
   "outputs": [
    {
     "data": {
      "text/plain": [
       "[0, 1, 4, 9, 16, 25, 36, 49, 64, 81, 100]"
      ]
     },
     "execution_count": 36,
     "metadata": {},
     "output_type": "execute_result"
    }
   ],
   "source": [
    "listb = [ x**2 for x in range(0,11)]\n",
    "listb"
   ]
  },
  {
   "cell_type": "code",
   "execution_count": 38,
   "id": "5eac2d9e-53a3-4899-9ac5-ed3aea99fada",
   "metadata": {},
   "outputs": [
    {
     "data": {
      "text/plain": [
       "[1, 2, 5, 10, 17, 26]"
      ]
     },
     "execution_count": 38,
     "metadata": {},
     "output_type": "execute_result"
    }
   ],
   "source": [
    "listb = [ ((x**2)+1) for x in range(0,6)]\n",
    "listb"
   ]
  },
  {
   "cell_type": "code",
   "execution_count": 39,
   "id": "d91b618a-69e4-4176-add0-8af22e84038a",
   "metadata": {},
   "outputs": [
    {
     "data": {
      "text/plain": [
       "[0, 2, 4]"
      ]
     },
     "execution_count": 39,
     "metadata": {},
     "output_type": "execute_result"
    }
   ],
   "source": [
    "listb = [ x for x in range(0,6) if x%2 == 0]\n",
    "listb"
   ]
  },
  {
   "cell_type": "code",
   "execution_count": 41,
   "id": "865d90c9-4326-494b-b0a6-fc732e63e24e",
   "metadata": {},
   "outputs": [
    {
     "data": {
      "text/plain": [
       "[0, 'Odd', 2, 'Odd', 4, 'Odd']"
      ]
     },
     "execution_count": 41,
     "metadata": {},
     "output_type": "execute_result"
    }
   ],
   "source": [
    "listb = [ x if x%2 ==0 else 'Odd' for x in range(0,6) ]\n",
    "listb"
   ]
  },
  {
   "cell_type": "code",
   "execution_count": 42,
   "id": "9863a5e2-ef0a-43f7-8577-4604cd84cef3",
   "metadata": {},
   "outputs": [
    {
     "ename": "SyntaxError",
     "evalue": "expected 'else' after 'if' expression (3084494677.py, line 1)",
     "output_type": "error",
     "traceback": [
      "\u001b[1;36m  Cell \u001b[1;32mIn[42], line 1\u001b[1;36m\u001b[0m\n\u001b[1;33m    listb = [ x if x%2 ==0 for x in range(0,6) ]\u001b[0m\n\u001b[1;37m              ^\u001b[0m\n\u001b[1;31mSyntaxError\u001b[0m\u001b[1;31m:\u001b[0m expected 'else' after 'if' expression\n"
     ]
    }
   ],
   "source": [
    "listb = [ x if x%2 ==0 for x in range(0,6) ]\n",
    "listb"
   ]
  },
  {
   "cell_type": "code",
   "execution_count": 43,
   "id": "023f9d85-5a25-4821-bcaf-0949f8a415a7",
   "metadata": {},
   "outputs": [
    {
     "data": {
      "text/plain": [
       "[1, 10, 100, 2, 20, 200, 3, 30, 300]"
      ]
     },
     "execution_count": 43,
     "metadata": {},
     "output_type": "execute_result"
    }
   ],
   "source": [
    "mylist = []\n",
    "mylist = [x*y for x in [1,2,3] for y in [1,10,100]]\n",
    "mylist"
   ]
  },
  {
   "cell_type": "code",
   "execution_count": 55,
   "id": "a019cc2d-1809-4a80-acd6-8cec6eb253c8",
   "metadata": {},
   "outputs": [
    {
     "data": {
      "text/plain": [
       "['start', 'sentence']"
      ]
     },
     "execution_count": 55,
     "metadata": {},
     "output_type": "execute_result"
    }
   ],
   "source": [
    "st = 'Print only the words that start with S in this sentence'\n",
    "listWithS =[]\n",
    "for word in st.split(' '):\n",
    "    if word[0] == 's' :\n",
    "        listWithS.append(word)\n",
    "\n",
    "listWithS"
   ]
  },
  {
   "cell_type": "code",
   "execution_count": 57,
   "id": "ba61e8b2-fab5-4712-be7f-bc4aca165c2c",
   "metadata": {},
   "outputs": [
    {
     "data": {
      "text/plain": [
       "['start', 'S', 'sentence']"
      ]
     },
     "execution_count": 57,
     "metadata": {},
     "output_type": "execute_result"
    }
   ],
   "source": [
    "st = 'Print only the words that start with S in this sentence'\n",
    "listWithS =[]\n",
    "for word in st.split(' '):\n",
    "    if word[0] == 's' or word[0] == 'S':\n",
    "        listWithS.append(word)\n",
    "\n",
    "listWithS"
   ]
  },
  {
   "cell_type": "code",
   "execution_count": 60,
   "id": "7225ae53-ba17-4f5a-b935-13063dc86884",
   "metadata": {},
   "outputs": [
    {
     "name": "stdout",
     "output_type": "stream",
     "text": [
      "0\n",
      "2\n",
      "4\n",
      "6\n",
      "8\n",
      "10\n"
     ]
    }
   ],
   "source": [
    "for x in range(0,11):\n",
    "    if x%2 == 0:\n",
    "        print(x)"
   ]
  },
  {
   "cell_type": "code",
   "execution_count": 62,
   "id": "b0c2ba55-a099-4314-ad82-f39a08d02284",
   "metadata": {},
   "outputs": [
    {
     "data": {
      "text/plain": [
       "[0, 3, 6, 9, 12, 15, 18, 21, 24, 27, 30, 33, 36, 39, 42, 45, 48]"
      ]
     },
     "execution_count": 62,
     "metadata": {},
     "output_type": "execute_result"
    }
   ],
   "source": [
    "[x for x in range(0,51) if x%3 == 0]"
   ]
  },
  {
   "cell_type": "code",
   "execution_count": 67,
   "id": "5a08e9ac-c263-44ee-8e8e-7d82c57ddf7a",
   "metadata": {},
   "outputs": [
    {
     "data": {
      "text/plain": [
       "['word', 'in', 'this', 'sentence', 'that', 'an', 'even', 'number', 'of']"
      ]
     },
     "execution_count": 67,
     "metadata": {},
     "output_type": "execute_result"
    }
   ],
   "source": [
    "st = 'Print every word in this sentence that has an even number of letters'\n",
    "listSplit = []\n",
    "intL = 0\n",
    "for word in st.split(' '):\n",
    "    intL = len(word)\n",
    "    if intL %2 == 0:\n",
    "        listSplit.append(word)\n",
    "\n",
    "listSplit"
   ]
  },
  {
   "cell_type": "code",
   "execution_count": 77,
   "id": "297f765f-1c66-44a3-ada2-c9d2835040ba",
   "metadata": {},
   "outputs": [
    {
     "name": "stdout",
     "output_type": "stream",
     "text": [
      "Number = 3 is Fizz\n",
      "Number = 5 is Buzz\n",
      "Number = 6 is Fizz\n",
      "Number = 9 is Fizz\n",
      "Number = 10 is Buzz\n",
      "Number = 12 is Fizz\n",
      "Number = 15 is FizzBuzz\n",
      "Number = 18 is Fizz\n"
     ]
    }
   ],
   "source": [
    "for x in range(1,20):\n",
    "    if x%3==0 and x%5 == 0:\n",
    "        print('Number = {a} is FizzBuzz'.format(a=x))\n",
    "    elif x%3==0:        \n",
    "        print('Number = {a} is Fizz'.format(a=x))\n",
    "    elif x%5 == 0:\n",
    "        print('Number = {a} is Buzz'.format(a=x))\n",
    "    #else:\n",
    "        #print('FizzBuzz')"
   ]
  },
  {
   "cell_type": "code",
   "execution_count": 78,
   "id": "a4b2a325-061d-4789-89ae-4ee36d58f6a4",
   "metadata": {},
   "outputs": [
    {
     "data": {
      "text/plain": [
       "['c', 'a', 'l', 'o', 'f', 'l', 'o', 'e', 'w', 'i', 't', 's']"
      ]
     },
     "execution_count": 78,
     "metadata": {},
     "output_type": "execute_result"
    }
   ],
   "source": [
    "st = 'create a list of first letters of every word in this string'\n",
    "listA =[]\n",
    "for word in st.split(' '):\n",
    "    listA.append(word[0])\n",
    "\n",
    "listA\n",
    "    "
   ]
  },
  {
   "cell_type": "code",
   "execution_count": 79,
   "id": "1b7695e5-a111-425c-84db-adb01028be9d",
   "metadata": {},
   "outputs": [
    {
     "data": {
      "text/plain": [
       "['c', 'a', 'l', 'o', 'f', 'l', 'o', 'e', 'w', 'i', 't', 's']"
      ]
     },
     "execution_count": 79,
     "metadata": {},
     "output_type": "execute_result"
    }
   ],
   "source": [
    "[word[0] for word in st.split(' ')]"
   ]
  },
  {
   "cell_type": "code",
   "execution_count": 82,
   "id": "04e864d4-1814-4da0-9e9b-312dfd5b432b",
   "metadata": {},
   "outputs": [
    {
     "name": "stdout",
     "output_type": "stream",
     "text": [
      "Number = 3 is Fizz\n",
      "Number = 5 is Buzz\n",
      "Number = 6 is Fizz\n",
      "Number = 9 is Fizz\n",
      "Number = 10 is Buzz\n",
      "Number = 12 is Fizz\n",
      "Number = 15 is FizzBuzz\n",
      "Number = 18 is Fizz\n"
     ]
    }
   ],
   "source": [
    "for x in range(1,20):\n",
    "    if x%3==0 and x%5 == 0:\n",
    "        print('Number = {a} is FizzBuzz'.format(a=x))\n",
    "    elif x%3==0:        \n",
    "        print('Number = {a} is Fizz'.format(a=x))\n",
    "    elif x%5 == 0:\n",
    "        print('Number = {a} is Buzz'.format(a=x))\n",
    "    #else:\n",
    "        #print('FizzBuzz')"
   ]
  },
  {
   "cell_type": "code",
   "execution_count": null,
   "id": "24927f72-f823-4083-81e6-5fa1f12f421b",
   "metadata": {},
   "outputs": [],
   "source": []
  }
 ],
 "metadata": {
  "kernelspec": {
   "display_name": "Python 3 (ipykernel)",
   "language": "python",
   "name": "python3"
  },
  "language_info": {
   "codemirror_mode": {
    "name": "ipython",
    "version": 3
   },
   "file_extension": ".py",
   "mimetype": "text/x-python",
   "name": "python",
   "nbconvert_exporter": "python",
   "pygments_lexer": "ipython3",
   "version": "3.11.7"
  }
 },
 "nbformat": 4,
 "nbformat_minor": 5
}
