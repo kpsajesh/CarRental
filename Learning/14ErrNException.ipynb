{
 "cells": [
  {
   "cell_type": "code",
   "execution_count": 4,
   "id": "33bbbb4a-de59-44f6-97b9-86ba196a44db",
   "metadata": {},
   "outputs": [],
   "source": [
    "def fnAdd(a,b):\n",
    "    try:\n",
    "        c= a+b\n",
    "    except:\n",
    "        print('some error.')\n",
    "    else:\n",
    "        print(c)\n"
   ]
  },
  {
   "cell_type": "code",
   "execution_count": 6,
   "id": "5fdf97ee-3c15-4e2f-aa7e-0ce4a9a94629",
   "metadata": {},
   "outputs": [
    {
     "name": "stdout",
     "output_type": "stream",
     "text": [
      "3\n"
     ]
    }
   ],
   "source": [
    "fnAdd(1,2)"
   ]
  },
  {
   "cell_type": "code",
   "execution_count": 7,
   "id": "d98eb1c2-1960-4bb5-8260-2d370467cacf",
   "metadata": {},
   "outputs": [
    {
     "name": "stdout",
     "output_type": "stream",
     "text": [
      "some error.\n"
     ]
    }
   ],
   "source": [
    "fnAdd(1,'2')"
   ]
  },
  {
   "cell_type": "code",
   "execution_count": 13,
   "id": "0e3137d6-7f83-4653-a1bf-c8d5b07b8e9a",
   "metadata": {},
   "outputs": [],
   "source": [
    "def fnSub(a,b):\n",
    "    c=0\n",
    "    try:\n",
    "        c= a-b\n",
    "    except:\n",
    "        print('some error.')\n",
    "    finally:\n",
    "        print(c)"
   ]
  },
  {
   "cell_type": "code",
   "execution_count": 14,
   "id": "452fb806-c542-4025-a9e6-c712edc24419",
   "metadata": {},
   "outputs": [
    {
     "name": "stdout",
     "output_type": "stream",
     "text": [
      "1\n"
     ]
    }
   ],
   "source": [
    "fnSub(2,1)"
   ]
  },
  {
   "cell_type": "code",
   "execution_count": 15,
   "id": "f838f19f-27e4-4339-8052-7eb6869eb58c",
   "metadata": {},
   "outputs": [
    {
     "name": "stdout",
     "output_type": "stream",
     "text": [
      "some error.\n",
      "0\n"
     ]
    }
   ],
   "source": [
    "fnSub(2,'1')"
   ]
  },
  {
   "cell_type": "code",
   "execution_count": 21,
   "id": "6e00db76-c048-4444-87c9-818b959570c0",
   "metadata": {},
   "outputs": [],
   "source": [
    "def fnWrite():\n",
    "    try:\n",
    "        f = open('testfile.txt','r')\n",
    "        f.write('write something')\n",
    "    except OSError:\n",
    "        print('OS error')\n",
    "    except TypeError:\n",
    "        print('Variable type error')\n",
    "    except:\n",
    "        print('Some unknown error')\n",
    "    finally:\n",
    "        print('I always run')\n",
    "        \n"
   ]
  },
  {
   "cell_type": "code",
   "execution_count": 20,
   "id": "15b50788-49bf-4932-a278-30315b9b7d07",
   "metadata": {},
   "outputs": [
    {
     "name": "stdout",
     "output_type": "stream",
     "text": [
      "OS error\n",
      "I always run\n"
     ]
    }
   ],
   "source": [
    "fnWrite()"
   ]
  },
  {
   "cell_type": "code",
   "execution_count": 4,
   "id": "a49833ba-e38d-4ba8-933e-eed28bb2d52e",
   "metadata": {},
   "outputs": [],
   "source": [
    "def ask_for_int():\n",
    "    while True:\n",
    "        try:\n",
    "            c = int(input('enter a number:'))  \n",
    "            return c\n",
    "        except:\n",
    "            print('Whoops that is not a number')\n",
    "            continue\n",
    "        else:\n",
    "            print('Valid number')\n",
    "            break\n",
    "        #finally:\n",
    "            #print('end of try/except/finally')"
   ]
  },
  {
   "cell_type": "code",
   "execution_count": 5,
   "id": "bc51a176-d38e-4f81-b89a-8bca6be9f7e9",
   "metadata": {},
   "outputs": [
    {
     "name": "stdin",
     "output_type": "stream",
     "text": [
      "enter a number: jk;\n"
     ]
    },
    {
     "name": "stdout",
     "output_type": "stream",
     "text": [
      "Whoops that is not a number\n"
     ]
    },
    {
     "name": "stdin",
     "output_type": "stream",
     "text": [
      "enter a number: 99\n"
     ]
    },
    {
     "data": {
      "text/plain": [
       "99"
      ]
     },
     "execution_count": 5,
     "metadata": {},
     "output_type": "execute_result"
    }
   ],
   "source": [
    "ask_for_int()"
   ]
  },
  {
   "cell_type": "code",
   "execution_count": null,
   "id": "96ed0153-75c3-482d-a736-1b55c0d126fc",
   "metadata": {},
   "outputs": [],
   "source": []
  }
 ],
 "metadata": {
  "kernelspec": {
   "display_name": "Python 3 (ipykernel)",
   "language": "python",
   "name": "python3"
  },
  "language_info": {
   "codemirror_mode": {
    "name": "ipython",
    "version": 3
   },
   "file_extension": ".py",
   "mimetype": "text/x-python",
   "name": "python",
   "nbconvert_exporter": "python",
   "pygments_lexer": "ipython3",
   "version": "3.11.7"
  }
 },
 "nbformat": 4,
 "nbformat_minor": 5
}
