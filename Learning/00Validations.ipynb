{
 "cells": [
  {
   "cell_type": "code",
   "execution_count": 15,
   "id": "ad61ebd0-672d-446e-af08-b80cdc54eece",
   "metadata": {},
   "outputs": [],
   "source": [
    "def UserInputNUmber():\n",
    "    while True:\n",
    "        try:\n",
    "            userInput = int(input('Enter a number'))\n",
    "        except ValueError:\n",
    "            print('Not a number')\n",
    "            continue\n",
    "        else:\n",
    "            #print(userInput)\n",
    "            break\n",
    "    return userInput"
   ]
  },
  {
   "cell_type": "code",
   "execution_count": 17,
   "id": "bacd1a49-3054-491c-96b7-9641472c8a4d",
   "metadata": {},
   "outputs": [
    {
     "name": "stdin",
     "output_type": "stream",
     "text": [
      "Enter a number 4t\n"
     ]
    },
    {
     "name": "stdout",
     "output_type": "stream",
     "text": [
      "Not a number\n"
     ]
    },
    {
     "name": "stdin",
     "output_type": "stream",
     "text": [
      "Enter a number 5\n"
     ]
    },
    {
     "data": {
      "text/plain": [
       "5"
      ]
     },
     "execution_count": 17,
     "metadata": {},
     "output_type": "execute_result"
    }
   ],
   "source": [
    "UserInputNUmber()"
   ]
  },
  {
   "cell_type": "code",
   "execution_count": 2,
   "id": "e3130f96-c78d-4f29-88fa-e9e4c07b7ef4",
   "metadata": {},
   "outputs": [],
   "source": [
    "def UserInputNumberBetween(FromNum,ToNum,strInputMsg):    \n",
    "    from IPython.display import clear_output    \n",
    "    \n",
    "    ToNumEnd = ToNum + 1\n",
    "    strInputMsg = strInputMsg +': '\n",
    "    while True:\n",
    "        a = input(strInputMsg)\n",
    "        if a in map(str,range(FromNum,ToNumEnd)):\n",
    "            a = int(a)\n",
    "            break\n",
    "        else:\n",
    "            clear_output()\n",
    "            print('Wrong input, please enter a number between', FromNum,'and',ToNum,'.')\n",
    "    return a"
   ]
  },
  {
   "cell_type": "code",
   "execution_count": null,
   "id": "afbec423-d868-4abc-9274-80648e735443",
   "metadata": {},
   "outputs": [
    {
     "name": "stdout",
     "output_type": "stream",
     "text": [
      "Wrong input, please enter a number between 1 and 10 .\n"
     ]
    }
   ],
   "source": [
    "UserInputNumberBetween(1,10,'Enter the first number')"
   ]
  },
  {
   "cell_type": "code",
   "execution_count": 1,
   "id": "cdc136ed-4915-49a1-8a21-caf7ed2bd037",
   "metadata": {},
   "outputs": [
    {
     "name": "stdin",
     "output_type": "stream",
     "text": [
      "Enter date of hire in DD/MM/YYYY format. 01/01/2024\n"
     ]
    },
    {
     "ename": "NameError",
     "evalue": "name 'datetime' is not defined",
     "output_type": "error",
     "traceback": [
      "\u001b[1;31m---------------------------------------------------------------------------\u001b[0m",
      "\u001b[1;31mNameError\u001b[0m                                 Traceback (most recent call last)",
      "Cell \u001b[1;32mIn[1], line 4\u001b[0m\n\u001b[0;32m      2\u001b[0m date_entry \u001b[38;5;241m=\u001b[39m \u001b[38;5;28minput\u001b[39m(\u001b[38;5;124m'\u001b[39m\u001b[38;5;124mEnter date of hire in DD/MM/YYYY format.\u001b[39m\u001b[38;5;124m'\u001b[39m)\n\u001b[0;32m      3\u001b[0m day, month, year \u001b[38;5;241m=\u001b[39m \u001b[38;5;28mmap\u001b[39m(\u001b[38;5;28mint\u001b[39m, date_entry\u001b[38;5;241m.\u001b[39msplit(\u001b[38;5;124m'\u001b[39m\u001b[38;5;124m/\u001b[39m\u001b[38;5;124m'\u001b[39m))\n\u001b[1;32m----> 4\u001b[0m HireDate \u001b[38;5;241m=\u001b[39m datetime\u001b[38;5;241m.\u001b[39mdate(year, month, day)\n\u001b[0;32m      6\u001b[0m date_entry \u001b[38;5;241m=\u001b[39m \u001b[38;5;28minput\u001b[39m(\u001b[38;5;124m'\u001b[39m\u001b[38;5;124mEnter return date of hire in DD/MM/YYYY format.\u001b[39m\u001b[38;5;124m'\u001b[39m)\n\u001b[0;32m      7\u001b[0m day, month, year \u001b[38;5;241m=\u001b[39m \u001b[38;5;28mmap\u001b[39m(\u001b[38;5;28mint\u001b[39m, date_entry\u001b[38;5;241m.\u001b[39msplit(\u001b[38;5;124m'\u001b[39m\u001b[38;5;124m/\u001b[39m\u001b[38;5;124m'\u001b[39m))\n",
      "\u001b[1;31mNameError\u001b[0m: name 'datetime' is not defined"
     ]
    }
   ],
   "source": [
    "from IPython.display import clear_output \n",
    "date_entry = input('Enter date of hire in DD/MM/YYYY format.')\n",
    "day, month, year = map(int, date_entry.split('/'))\n",
    "HireDate = datetime.date(year, month, day)\n",
    "\n",
    "date_entry = input('Enter return date of hire in DD/MM/YYYY format.')\n",
    "day, month, year = map(int, date_entry.split('/'))\n",
    "ReturnDate = datetime.date(year, month, day)\n",
    "\n",
    "clear_output()\n",
    "if ReturnDate < HireDate:    \n",
    "    print('Return date must be greater than hire date.')\n",
    "print (f'Hire date given: {HireDate.strftime(\"%d/%m/%Y\")} \\nReturn date given: {ReturnDate.strftime(\"%d/%m/%Y\")}')"
   ]
  },
  {
   "cell_type": "code",
   "execution_count": null,
   "id": "e84d2403-5c57-4e71-a9de-0adf37b53457",
   "metadata": {},
   "outputs": [],
   "source": [
    "#Date Validation\n",
    "from datetime import datetime\n",
    "\n",
    "def DateValidation(strInputMsg):\n",
    "    strInputMsg = strInputMsg +': '\n",
    "    date_text = input(strInputMsg)\n",
    "    try:\n",
    "        if date_text != datetime.strptime(date_text, \"%d/%m/%Y\").strftime('%d/%m/%Y'):\n",
    "            raise ValueError\n",
    "        return True\n",
    "    except ValueError:\n",
    "        return False"
   ]
  },
  {
   "cell_type": "code",
   "execution_count": null,
   "id": "7bca84f0-d30c-4790-95db-0a37f2957148",
   "metadata": {},
   "outputs": [],
   "source": [
    "def days_between(d1, d2):\n",
    "    d1 = datetime.strptime(d1, \"%d/%m/%Y\")\n",
    "    d2 = datetime.strptime(d2, \"%d/%m/%Y\")\n",
    "    return abs((d2 - d1).days)"
   ]
  },
  {
   "cell_type": "code",
   "execution_count": 6,
   "id": "8e1b3aad-32c7-4da4-9cd0-1f9993aaaff8",
   "metadata": {},
   "outputs": [],
   "source": [
    "from datetime import datetime\n",
    "def DateValidation(strInputMsg):\n",
    "    date_entry = input(strInputMsg)\n",
    "    day, month, year = map(int, date_entry.split('/'))\n",
    "    print(day)\n",
    "    print(month)\n",
    "    print(year)\n",
    "    #date(year, month, day)"
   ]
  },
  {
   "cell_type": "code",
   "execution_count": 7,
   "id": "7f3a9d80-391d-4387-81f4-c170ec79c73b",
   "metadata": {},
   "outputs": [
    {
     "name": "stdin",
     "output_type": "stream",
     "text": [
      "enter a date 01/06/2035\n"
     ]
    },
    {
     "name": "stdout",
     "output_type": "stream",
     "text": [
      "1\n",
      "6\n",
      "2035\n"
     ]
    }
   ],
   "source": [
    "DateValidation('enter a date')"
   ]
  },
  {
   "cell_type": "code",
   "execution_count": 14,
   "id": "d70eee81-e01d-479b-bb08-0f4f84c49ffb",
   "metadata": {},
   "outputs": [],
   "source": [
    "def ask_for_int():\n",
    "    while True:\n",
    "        try:\n",
    "            c = int(input('enter a number:')) \n",
    "            return c\n",
    "        except:\n",
    "            print('Whoops that is not a number')\n",
    "            continue\n",
    "        else:\n",
    "            print('Valid number')\n",
    "            break\n",
    "        #finally:\n",
    "            #print('end of try/except/finally')"
   ]
  },
  {
   "cell_type": "code",
   "execution_count": 13,
   "id": "544ff539-1f24-411a-89c3-fd5a3723238d",
   "metadata": {},
   "outputs": [
    {
     "name": "stdin",
     "output_type": "stream",
     "text": [
      "enter a number: ee\n"
     ]
    },
    {
     "name": "stdout",
     "output_type": "stream",
     "text": [
      "Whoops that is not a number\n"
     ]
    },
    {
     "name": "stdin",
     "output_type": "stream",
     "text": [
      "enter a number: -1\n"
     ]
    },
    {
     "data": {
      "text/plain": [
       "-1"
      ]
     },
     "execution_count": 13,
     "metadata": {},
     "output_type": "execute_result"
    }
   ],
   "source": [
    "a= ask_for_int()\n",
    "a"
   ]
  },
  {
   "cell_type": "code",
   "execution_count": null,
   "id": "1a5ebbdf-4525-4d36-a54f-a6a8032af363",
   "metadata": {},
   "outputs": [],
   "source": []
  }
 ],
 "metadata": {
  "kernelspec": {
   "display_name": "Python 3 (ipykernel)",
   "language": "python",
   "name": "python3"
  },
  "language_info": {
   "codemirror_mode": {
    "name": "ipython",
    "version": 3
   },
   "file_extension": ".py",
   "mimetype": "text/x-python",
   "name": "python",
   "nbconvert_exporter": "python",
   "pygments_lexer": "ipython3",
   "version": "3.11.7"
  }
 },
 "nbformat": 4,
 "nbformat_minor": 5
}
