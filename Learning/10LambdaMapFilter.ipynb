{
 "cells": [
  {
   "cell_type": "code",
   "execution_count": 1,
   "id": "57f16dfa-ceb9-444e-ae74-76e90464e4b7",
   "metadata": {},
   "outputs": [],
   "source": [
    "def square(num):\n",
    "    return num**2"
   ]
  },
  {
   "cell_type": "code",
   "execution_count": 2,
   "id": "129b9033-f885-430e-a990-b4a76b749872",
   "metadata": {},
   "outputs": [
    {
     "data": {
      "text/plain": [
       "4"
      ]
     },
     "execution_count": 2,
     "metadata": {},
     "output_type": "execute_result"
    }
   ],
   "source": [
    "square(2)"
   ]
  },
  {
   "cell_type": "code",
   "execution_count": 4,
   "id": "d0027833-ab78-4c68-b597-8bf35446c9c6",
   "metadata": {},
   "outputs": [
    {
     "name": "stdout",
     "output_type": "stream",
     "text": [
      "0\n",
      "1\n",
      "4\n",
      "9\n"
     ]
    }
   ],
   "source": [
    "mynums = [0,1,2,3]\n",
    "for sq in map(square,mynums):\n",
    "    print(sq)"
   ]
  },
  {
   "cell_type": "code",
   "execution_count": 5,
   "id": "4a72c760-78c9-43f6-921d-8fd6ec996601",
   "metadata": {},
   "outputs": [
    {
     "data": {
      "text/plain": [
       "[0, 1, 4, 9]"
      ]
     },
     "execution_count": 5,
     "metadata": {},
     "output_type": "execute_result"
    }
   ],
   "source": [
    "list(map(square,mynums))"
   ]
  },
  {
   "cell_type": "code",
   "execution_count": 6,
   "id": "ea77c37f-0b59-45d8-b5e1-14f01e88d669",
   "metadata": {},
   "outputs": [],
   "source": [
    "def splicer(mystr):\n",
    "    if len(mystr) % 2 == 0:\n",
    "        return 'even'\n",
    "    else:\n",
    "        return mystr[0]"
   ]
  },
  {
   "cell_type": "code",
   "execution_count": 10,
   "id": "62ab0c3f-a58c-44ac-9651-a8c5540d4b3a",
   "metadata": {},
   "outputs": [
    {
     "data": {
      "text/plain": [
       "['even', 'e', 'S', 'even']"
      ]
     },
     "execution_count": 10,
     "metadata": {},
     "output_type": "execute_result"
    }
   ],
   "source": [
    "str = ['andy','eve','Sally','sajesh']\n",
    "list(map(splicer,str))"
   ]
  },
  {
   "cell_type": "code",
   "execution_count": 11,
   "id": "b56e6ab7-811a-4484-9f17-8398258ae853",
   "metadata": {},
   "outputs": [],
   "source": [
    "def isEven(num):\n",
    "    return num % 2 == 0"
   ]
  },
  {
   "cell_type": "code",
   "execution_count": 12,
   "id": "694d5f23-38b4-4fb0-9d22-6efadcbb8da0",
   "metadata": {},
   "outputs": [
    {
     "data": {
      "text/plain": [
       "False"
      ]
     },
     "execution_count": 12,
     "metadata": {},
     "output_type": "execute_result"
    }
   ],
   "source": [
    "isEven(3)"
   ]
  },
  {
   "cell_type": "code",
   "execution_count": 16,
   "id": "9c24c5fb-79a9-4495-9a01-4c9ba92aaa95",
   "metadata": {},
   "outputs": [
    {
     "name": "stdout",
     "output_type": "stream",
     "text": [
      "0\n",
      "2\n",
      "4\n",
      "6\n"
     ]
    }
   ],
   "source": [
    "mylist = [0,1,2,3,4,5,6]\n",
    "for nu in filter(isEven,mylist):\n",
    "    print(nu)"
   ]
  },
  {
   "cell_type": "code",
   "execution_count": 17,
   "id": "579c2eb1-888c-4e36-9c35-0732af0d129d",
   "metadata": {},
   "outputs": [
    {
     "data": {
      "text/plain": [
       "[0, 2, 4, 6]"
      ]
     },
     "execution_count": 17,
     "metadata": {},
     "output_type": "execute_result"
    }
   ],
   "source": [
    "list(filter(isEven,mylist))"
   ]
  },
  {
   "cell_type": "code",
   "execution_count": 18,
   "id": "64be337c-03eb-4411-8188-8fbd7bdf9719",
   "metadata": {},
   "outputs": [],
   "source": [
    "def square(num):\n",
    "    return num ** 2"
   ]
  },
  {
   "cell_type": "code",
   "execution_count": 19,
   "id": "53120281-51cb-4d2a-b1b2-33f6d0bfaac7",
   "metadata": {},
   "outputs": [],
   "source": [
    "def square(num): return num ** 2"
   ]
  },
  {
   "cell_type": "code",
   "execution_count": 20,
   "id": "37f06fc8-7073-43eb-8c26-9f89c4689339",
   "metadata": {},
   "outputs": [
    {
     "data": {
      "text/plain": [
       "<function __main__.<lambda>(num)>"
      ]
     },
     "execution_count": 20,
     "metadata": {},
     "output_type": "execute_result"
    }
   ],
   "source": [
    "lambda num: num ** 2"
   ]
  },
  {
   "cell_type": "code",
   "execution_count": 21,
   "id": "19ae3b57-8720-4116-b6cb-e9242c338632",
   "metadata": {},
   "outputs": [
    {
     "data": {
      "text/plain": [
       "[0, 1, 4, 9]"
      ]
     },
     "execution_count": 21,
     "metadata": {},
     "output_type": "execute_result"
    }
   ],
   "source": [
    "mylist = [0,1,2,3]\n",
    "list(map(lambda num : num **2,mylist))"
   ]
  },
  {
   "cell_type": "code",
   "execution_count": 23,
   "id": "bfac1089-aa79-4078-926f-49fcb8ff7cc0",
   "metadata": {},
   "outputs": [
    {
     "data": {
      "text/plain": [
       "[0, 2, 4, 6]"
      ]
     },
     "execution_count": 23,
     "metadata": {},
     "output_type": "execute_result"
    }
   ],
   "source": [
    "mylist = [0,1,2,3,4,5,6]\n",
    "list(filter(lambda num : num % 2 ==0,mylist))"
   ]
  },
  {
   "cell_type": "code",
   "execution_count": 24,
   "id": "0d0a7022-17dd-4040-a665-0809b0d38c90",
   "metadata": {},
   "outputs": [
    {
     "data": {
      "text/plain": [
       "['A', 'e', 's']"
      ]
     },
     "execution_count": 24,
     "metadata": {},
     "output_type": "execute_result"
    }
   ],
   "source": [
    "mylist = ['Andy','eve','sally']\n",
    "list(map(lambda x: x[0],mylist))"
   ]
  },
  {
   "cell_type": "code",
   "execution_count": 26,
   "id": "f397de88-781c-45b7-9cfe-0f025b8a9306",
   "metadata": {},
   "outputs": [
    {
     "ename": "SyntaxError",
     "evalue": "invalid syntax (1193614606.py, line 2)",
     "output_type": "error",
     "traceback": [
      "\u001b[1;36m  Cell \u001b[1;32mIn[26], line 2\u001b[1;36m\u001b[0m\n\u001b[1;33m    list(map(lambda x: len(x) % 2 == 0: 'even',x[0],mylist))\u001b[0m\n\u001b[1;37m                                      ^\u001b[0m\n\u001b[1;31mSyntaxError\u001b[0m\u001b[1;31m:\u001b[0m invalid syntax\n"
     ]
    }
   ],
   "source": [
    "mylist = ['Andy','eve','sally']\n",
    "list(map(lambda x: len(x) % 2 == 0: 'even',x[0],mylist))"
   ]
  },
  {
   "cell_type": "code",
   "execution_count": 27,
   "id": "07e61cd9-e0cc-4619-bc33-57fb6cea7a8b",
   "metadata": {},
   "outputs": [
    {
     "name": "stdout",
     "output_type": "stream",
     "text": [
      "30\n"
     ]
    }
   ],
   "source": [
    "x = lambda a, b : a * b\n",
    "print(x(5, 6))"
   ]
  },
  {
   "cell_type": "code",
   "execution_count": 28,
   "id": "f9d97d8f-c196-466f-94ab-6a134362a3b6",
   "metadata": {},
   "outputs": [
    {
     "name": "stdout",
     "output_type": "stream",
     "text": [
      "13\n"
     ]
    }
   ],
   "source": [
    "x = lambda a, b, c : a + b + c\n",
    "print(x(5, 6, 2))"
   ]
  },
  {
   "cell_type": "code",
   "execution_count": 31,
   "id": "b268bd5f-e8e8-43f4-8d1f-9cd63c178353",
   "metadata": {},
   "outputs": [
    {
     "data": {
      "text/plain": [
       "3"
      ]
     },
     "execution_count": 31,
     "metadata": {},
     "output_type": "execute_result"
    }
   ],
   "source": [
    "num =2\n",
    "inta = (lambda x: x + 1)(num)\n",
    "inta"
   ]
  },
  {
   "cell_type": "code",
   "execution_count": 33,
   "id": "63bd92b5-3cc6-4ee0-b67d-3a3b9a3f9976",
   "metadata": {},
   "outputs": [
    {
     "ename": "TypeError",
     "evalue": "'int' object is not iterable",
     "output_type": "error",
     "traceback": [
      "\u001b[1;31m---------------------------------------------------------------------------\u001b[0m",
      "\u001b[1;31mTypeError\u001b[0m                                 Traceback (most recent call last)",
      "Cell \u001b[1;32mIn[33], line 2\u001b[0m\n\u001b[0;32m      1\u001b[0m num \u001b[38;5;241m=\u001b[39m\u001b[38;5;241m2\u001b[39m\n\u001b[1;32m----> 2\u001b[0m inta \u001b[38;5;241m=\u001b[39m \u001b[38;5;28mmap\u001b[39m(\u001b[38;5;28;01mlambda\u001b[39;00m x: x \u001b[38;5;241m+\u001b[39m \u001b[38;5;241m1\u001b[39m,num)\n\u001b[0;32m      3\u001b[0m inta\n",
      "\u001b[1;31mTypeError\u001b[0m: 'int' object is not iterable"
     ]
    }
   ],
   "source": [
    "num =2\n",
    "inta = map(lambda x: x + 1,num)\n",
    "inta"
   ]
  },
  {
   "cell_type": "code",
   "execution_count": 1,
   "id": "0843850d-d8b6-4c83-b933-c9508a5d1f2f",
   "metadata": {},
   "outputs": [],
   "source": [
    "x =[1,2,3,4,5,6,7,8]\n",
    "even = list(filter(lambda n:n%2 ==0,x))"
   ]
  },
  {
   "cell_type": "code",
   "execution_count": 2,
   "id": "bf617b0c-1838-4f49-8110-6772ddb09ac1",
   "metadata": {},
   "outputs": [
    {
     "data": {
      "text/plain": [
       "[2, 4, 6, 8]"
      ]
     },
     "execution_count": 2,
     "metadata": {},
     "output_type": "execute_result"
    }
   ],
   "source": [
    "even"
   ]
  },
  {
   "cell_type": "code",
   "execution_count": null,
   "id": "bd1d0fbb-d39a-41e3-a27c-b6772350e5c0",
   "metadata": {},
   "outputs": [],
   "source": []
  }
 ],
 "metadata": {
  "kernelspec": {
   "display_name": "Python 3 (ipykernel)",
   "language": "python",
   "name": "python3"
  },
  "language_info": {
   "codemirror_mode": {
    "name": "ipython",
    "version": 3
   },
   "file_extension": ".py",
   "mimetype": "text/x-python",
   "name": "python",
   "nbconvert_exporter": "python",
   "pygments_lexer": "ipython3",
   "version": "3.11.7"
  }
 },
 "nbformat": 4,
 "nbformat_minor": 5
}
