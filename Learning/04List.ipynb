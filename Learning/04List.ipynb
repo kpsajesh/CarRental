{
 "cells": [
  {
   "cell_type": "code",
   "execution_count": 1,
   "id": "16c8cd4c-ee2a-4b95-86f7-8c446220f4df",
   "metadata": {},
   "outputs": [],
   "source": [
    "myList = [1,2,3]"
   ]
  },
  {
   "cell_type": "code",
   "execution_count": 2,
   "id": "7158a267-4bba-4602-aab8-f351f207ba2a",
   "metadata": {},
   "outputs": [
    {
     "data": {
      "text/plain": [
       "[1, 2, 3]"
      ]
     },
     "execution_count": 2,
     "metadata": {},
     "output_type": "execute_result"
    }
   ],
   "source": [
    "myList"
   ]
  },
  {
   "cell_type": "code",
   "execution_count": 1,
   "id": "fefda8df-4b07-4311-b240-22d2c9e92a66",
   "metadata": {},
   "outputs": [],
   "source": [
    "myList = [\"Text\",1,1.55]"
   ]
  },
  {
   "cell_type": "code",
   "execution_count": 2,
   "id": "b20076ef-05aa-44c5-a80e-30cab18888e2",
   "metadata": {},
   "outputs": [
    {
     "data": {
      "text/plain": [
       "['Text', 1, 1.55]"
      ]
     },
     "execution_count": 2,
     "metadata": {},
     "output_type": "execute_result"
    }
   ],
   "source": [
    "myList"
   ]
  },
  {
   "cell_type": "code",
   "execution_count": 3,
   "id": "b93c73b6-a4bb-4f34-860f-353fe9ebf060",
   "metadata": {},
   "outputs": [
    {
     "data": {
      "text/plain": [
       "3"
      ]
     },
     "execution_count": 3,
     "metadata": {},
     "output_type": "execute_result"
    }
   ],
   "source": [
    "len(myList)"
   ]
  },
  {
   "cell_type": "code",
   "execution_count": 4,
   "id": "9cf29370-4486-475c-9696-7cbaecc8cf22",
   "metadata": {},
   "outputs": [
    {
     "data": {
      "text/plain": [
       "['Text']"
      ]
     },
     "execution_count": 4,
     "metadata": {},
     "output_type": "execute_result"
    }
   ],
   "source": [
    "myList[:1]"
   ]
  },
  {
   "cell_type": "code",
   "execution_count": 11,
   "id": "c90a9c77-5caa-4bf2-a7d5-abc96903751b",
   "metadata": {},
   "outputs": [
    {
     "data": {
      "text/plain": [
       "[1, 1.55]"
      ]
     },
     "execution_count": 11,
     "metadata": {},
     "output_type": "execute_result"
    }
   ],
   "source": [
    "myList[1:]"
   ]
  },
  {
   "cell_type": "code",
   "execution_count": 12,
   "id": "d3ac41c4-a3de-4110-a3f5-5e33ae04b18a",
   "metadata": {},
   "outputs": [],
   "source": [
    "myList2 = [1,2,3]"
   ]
  },
  {
   "cell_type": "code",
   "execution_count": 15,
   "id": "4c0d26a5-095d-4706-9255-75c2ac2268d5",
   "metadata": {},
   "outputs": [],
   "source": [
    "myList3 = myList + myList2"
   ]
  },
  {
   "cell_type": "code",
   "execution_count": 16,
   "id": "18c77e5e-3bf4-4883-b246-31697dd2061a",
   "metadata": {},
   "outputs": [
    {
     "data": {
      "text/plain": [
       "['Text', 1, 1.55, 1, 2, 3]"
      ]
     },
     "execution_count": 16,
     "metadata": {},
     "output_type": "execute_result"
    }
   ],
   "source": [
    "myList3"
   ]
  },
  {
   "cell_type": "code",
   "execution_count": 17,
   "id": "65948b07-b1a5-4856-8438-4a4fd009b10f",
   "metadata": {},
   "outputs": [],
   "source": [
    "myList =[\"Text Text\",9,5.66]"
   ]
  },
  {
   "cell_type": "code",
   "execution_count": 18,
   "id": "965fd099-ec13-4cac-b118-ab7d0121e8e6",
   "metadata": {},
   "outputs": [
    {
     "data": {
      "text/plain": [
       "['Text Text', 9, 5.66]"
      ]
     },
     "execution_count": 18,
     "metadata": {},
     "output_type": "execute_result"
    }
   ],
   "source": [
    "myList"
   ]
  },
  {
   "cell_type": "code",
   "execution_count": 19,
   "id": "c7a000c2-ce73-4893-8a29-49e9345fa32c",
   "metadata": {},
   "outputs": [
    {
     "data": {
      "text/plain": [
       "['Text Text Text']"
      ]
     },
     "execution_count": 19,
     "metadata": {},
     "output_type": "execute_result"
    }
   ],
   "source": [
    "myList = ['Text Text Text']\n",
    "myList"
   ]
  },
  {
   "cell_type": "code",
   "execution_count": 20,
   "id": "e461a998-e7a2-427b-9eb0-bb2cd6320347",
   "metadata": {},
   "outputs": [],
   "source": [
    "myList=['Text',9,5.66]"
   ]
  },
  {
   "cell_type": "code",
   "execution_count": 21,
   "id": "b35f4f6b-7868-41f1-9ef6-4617a50c3077",
   "metadata": {},
   "outputs": [],
   "source": [
    "myList[0] = 'Text Text Text'"
   ]
  },
  {
   "cell_type": "code",
   "execution_count": 22,
   "id": "057191f1-349b-493b-89f8-f452a0d22a2d",
   "metadata": {},
   "outputs": [
    {
     "data": {
      "text/plain": [
       "['Text Text Text', 9, 5.66]"
      ]
     },
     "execution_count": 22,
     "metadata": {},
     "output_type": "execute_result"
    }
   ],
   "source": [
    "myList"
   ]
  },
  {
   "cell_type": "code",
   "execution_count": 23,
   "id": "433b33de-0dc6-49a0-8d05-b84bc47cfcc4",
   "metadata": {},
   "outputs": [],
   "source": [
    "myList = ['Text Text', 9, 5.66]"
   ]
  },
  {
   "cell_type": "code",
   "execution_count": 24,
   "id": "65bf7a51-7f34-4fe6-b943-d601e3078529",
   "metadata": {},
   "outputs": [
    {
     "data": {
      "text/plain": [
       "['Text Text', 9, 5.66]"
      ]
     },
     "execution_count": 24,
     "metadata": {},
     "output_type": "execute_result"
    }
   ],
   "source": [
    "myList"
   ]
  },
  {
   "cell_type": "code",
   "execution_count": 26,
   "id": "1efff98f-8614-4948-b11f-7b449cec6999",
   "metadata": {},
   "outputs": [
    {
     "data": {
      "text/plain": [
       "1"
      ]
     },
     "execution_count": 26,
     "metadata": {},
     "output_type": "execute_result"
    }
   ],
   "source": [
    "myList.count(9)"
   ]
  },
  {
   "cell_type": "code",
   "execution_count": 27,
   "id": "22ae1740-a7a1-46a6-baed-66b4dd0d61d8",
   "metadata": {},
   "outputs": [
    {
     "data": {
      "text/plain": [
       "['Text Text', 9, 5.66]"
      ]
     },
     "execution_count": 27,
     "metadata": {},
     "output_type": "execute_result"
    }
   ],
   "source": [
    "myList"
   ]
  },
  {
   "cell_type": "code",
   "execution_count": 28,
   "id": "4a9904f4-efa9-46d0-be74-a29528da93ea",
   "metadata": {},
   "outputs": [
    {
     "data": {
      "text/plain": [
       "[1, 2, 3]"
      ]
     },
     "execution_count": 28,
     "metadata": {},
     "output_type": "execute_result"
    }
   ],
   "source": [
    "myList2"
   ]
  },
  {
   "cell_type": "code",
   "execution_count": 29,
   "id": "08f8d60f-d144-4120-90b9-c122958e57c7",
   "metadata": {},
   "outputs": [],
   "source": [
    "myList.extend(myList2)"
   ]
  },
  {
   "cell_type": "code",
   "execution_count": 30,
   "id": "e2ada8a8-d539-45bc-8430-fee0449fcad5",
   "metadata": {},
   "outputs": [
    {
     "data": {
      "text/plain": [
       "['Text Text', 9, 5.66, 1, 2, 3]"
      ]
     },
     "execution_count": 30,
     "metadata": {},
     "output_type": "execute_result"
    }
   ],
   "source": [
    "myList"
   ]
  },
  {
   "cell_type": "code",
   "execution_count": 33,
   "id": "4b6f1a34-36bf-422e-9cc1-3a7f5478c746",
   "metadata": {},
   "outputs": [],
   "source": [
    "myList2.insert(9,1)"
   ]
  },
  {
   "cell_type": "markdown",
   "id": "ceef24fe-b8d4-4a06-a416-7284971effbe",
   "metadata": {},
   "source": [
    "## "
   ]
  },
  {
   "cell_type": "code",
   "execution_count": 34,
   "id": "4d6e7021-aa09-4a86-8361-5563a30f49ea",
   "metadata": {},
   "outputs": [
    {
     "data": {
      "text/plain": [
       "[1, 2, 3, 1]"
      ]
     },
     "execution_count": 34,
     "metadata": {},
     "output_type": "execute_result"
    }
   ],
   "source": [
    "myList2"
   ]
  },
  {
   "cell_type": "code",
   "execution_count": 35,
   "id": "6abf3e7e-f54d-4d87-800b-668dc4e6ace9",
   "metadata": {},
   "outputs": [],
   "source": [
    "myList.insert(2,2)"
   ]
  },
  {
   "cell_type": "code",
   "execution_count": 36,
   "id": "c17e58d4-ccbf-43f9-ba37-1610d2673bf4",
   "metadata": {},
   "outputs": [
    {
     "data": {
      "text/plain": [
       "['Text Text', 9, 2, 5.66, 1, 2, 3]"
      ]
     },
     "execution_count": 36,
     "metadata": {},
     "output_type": "execute_result"
    }
   ],
   "source": [
    "myList"
   ]
  },
  {
   "cell_type": "code",
   "execution_count": 37,
   "id": "d4de1731-80fa-4ae2-b4c2-9ee10c1e04cc",
   "metadata": {},
   "outputs": [
    {
     "data": {
      "text/plain": [
       "[1, 2, 3, 1]"
      ]
     },
     "execution_count": 37,
     "metadata": {},
     "output_type": "execute_result"
    }
   ],
   "source": [
    "myList2"
   ]
  },
  {
   "cell_type": "code",
   "execution_count": 40,
   "id": "c57f556a-a44f-4215-9fe6-c5a8a3b0e84d",
   "metadata": {},
   "outputs": [],
   "source": [
    "myList2.insert(2,'TWO')"
   ]
  },
  {
   "cell_type": "markdown",
   "id": "1d9eb2ae-a17c-4304-918c-5f86545bed79",
   "metadata": {},
   "source": [
    "## "
   ]
  },
  {
   "cell_type": "code",
   "execution_count": 41,
   "id": "6055773c-687b-4597-83bd-730c9322f395",
   "metadata": {},
   "outputs": [
    {
     "data": {
      "text/plain": [
       "[1, 2, 'TWO', 3, 1]"
      ]
     },
     "execution_count": 41,
     "metadata": {},
     "output_type": "execute_result"
    }
   ],
   "source": [
    "myList2"
   ]
  },
  {
   "cell_type": "code",
   "execution_count": 4,
   "id": "56036dae-2d85-4896-b11f-d7706dfd93fd",
   "metadata": {},
   "outputs": [
    {
     "data": {
      "text/plain": [
       "[2, 'TWO', 3, 1]"
      ]
     },
     "execution_count": 4,
     "metadata": {},
     "output_type": "execute_result"
    }
   ],
   "source": [
    "mylist3 = [1, 2, 'TWO', 3, 1]\n",
    "del(mylist3[0])\n",
    "mylist3"
   ]
  },
  {
   "cell_type": "code",
   "execution_count": 11,
   "id": "21e65efe-164c-4a8a-af32-7edb108cb230",
   "metadata": {},
   "outputs": [
    {
     "data": {
      "text/plain": [
       "['we', 'are', 'goin', 'to', 'UK']"
      ]
     },
     "execution_count": 11,
     "metadata": {},
     "output_type": "execute_result"
    }
   ],
   "source": [
    "str1 = ' we are goin to UK'\n",
    "list4 = str1.split()\n",
    "list4"
   ]
  },
  {
   "cell_type": "code",
   "execution_count": 13,
   "id": "ba5fc623-e93c-4a95-8da4-560bd94b2ae7",
   "metadata": {},
   "outputs": [
    {
     "data": {
      "text/plain": [
       "['we,are,goin,to,UK']"
      ]
     },
     "execution_count": 13,
     "metadata": {},
     "output_type": "execute_result"
    }
   ],
   "source": [
    "str2 = ' we,are,goin,to,UK'\n",
    "list5 = str2.split()\n",
    "list5"
   ]
  },
  {
   "cell_type": "code",
   "execution_count": 17,
   "id": "0003b0bc-67c9-4fce-9d29-369d655aaa89",
   "metadata": {},
   "outputs": [],
   "source": [
    "#copy lists option A: chnage in list 1  will change list 2\n",
    "list11 = [1,2,3]\n",
    "list12 = list11\n",
    "list11[0] = 'a'\n"
   ]
  },
  {
   "cell_type": "code",
   "execution_count": 21,
   "id": "e9631f05-ecef-4ad4-b489-1d841175141b",
   "metadata": {},
   "outputs": [
    {
     "data": {
      "text/plain": [
       "['a', 2, 3]"
      ]
     },
     "execution_count": 21,
     "metadata": {},
     "output_type": "execute_result"
    }
   ],
   "source": [
    "list11\n"
   ]
  },
  {
   "cell_type": "code",
   "execution_count": 23,
   "id": "b21aba47-7bd4-42db-8d46-ea4ed38dbe7b",
   "metadata": {},
   "outputs": [
    {
     "data": {
      "text/plain": [
       "['a', 2, 3]"
      ]
     },
     "execution_count": 23,
     "metadata": {},
     "output_type": "execute_result"
    }
   ],
   "source": [
    "list12"
   ]
  },
  {
   "cell_type": "code",
   "execution_count": null,
   "id": "d319c363-ba8a-4fa4-82e9-d642075af7f5",
   "metadata": {},
   "outputs": [],
   "source": []
  },
  {
   "cell_type": "code",
   "execution_count": 27,
   "id": "ab129b57-3243-47ce-a7df-f421d87e97c3",
   "metadata": {},
   "outputs": [
    {
     "data": {
      "text/plain": [
       "['a', 2, 3]"
      ]
     },
     "execution_count": 27,
     "metadata": {},
     "output_type": "execute_result"
    }
   ],
   "source": [
    "#copy lists option B: chnage in list 1  will not change list 2\n",
    "list13 = [1,2,3]\n",
    "list14 = list13[:]\n",
    "list13[0] = 'a'\n",
    "list13\n"
   ]
  },
  {
   "cell_type": "code",
   "execution_count": 29,
   "id": "6ebd2787-acc6-4611-bab5-f2e68e9eeda1",
   "metadata": {},
   "outputs": [
    {
     "data": {
      "text/plain": [
       "[1, 2, 3]"
      ]
     },
     "execution_count": 29,
     "metadata": {},
     "output_type": "execute_result"
    }
   ],
   "source": [
    "list14"
   ]
  },
  {
   "cell_type": "code",
   "execution_count": null,
   "id": "7b70b29e-d915-49f9-af94-12902196898a",
   "metadata": {},
   "outputs": [],
   "source": []
  },
  {
   "cell_type": "code",
   "execution_count": null,
   "id": "567b3946-abac-4e6e-aa10-bdb819baaa3b",
   "metadata": {},
   "outputs": [],
   "source": []
  }
 ],
 "metadata": {
  "kernelspec": {
   "display_name": "Python 3 (ipykernel)",
   "language": "python",
   "name": "python3"
  },
  "language_info": {
   "codemirror_mode": {
    "name": "ipython",
    "version": 3
   },
   "file_extension": ".py",
   "mimetype": "text/x-python",
   "name": "python",
   "nbconvert_exporter": "python",
   "pygments_lexer": "ipython3",
   "version": "3.11.7"
  }
 },
 "nbformat": 4,
 "nbformat_minor": 5
}
