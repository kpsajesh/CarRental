{
 "cells": [
  {
   "cell_type": "code",
   "execution_count": 3,
   "id": "7c709d25-4d92-48cf-a9b5-5d393c59317c",
   "metadata": {},
   "outputs": [
    {
     "data": {
      "text/plain": [
       "'ink'"
      ]
     },
     "execution_count": 3,
     "metadata": {},
     "output_type": "execute_result"
    }
   ],
   "source": [
    "'tinker'[1:4]"
   ]
  },
  {
   "cell_type": "code",
   "execution_count": 4,
   "id": "f31cc361-23dd-4586-9a06-604264fd3754",
   "metadata": {},
   "outputs": [],
   "source": [
    "str = 'abcdef'"
   ]
  },
  {
   "cell_type": "code",
   "execution_count": 5,
   "id": "885071c6-990f-4f83-b895-7cfe0a811237",
   "metadata": {},
   "outputs": [
    {
     "data": {
      "text/plain": [
       "'ABCDEF'"
      ]
     },
     "execution_count": 5,
     "metadata": {},
     "output_type": "execute_result"
    }
   ],
   "source": [
    "str.upper()"
   ]
  },
  {
   "cell_type": "code",
   "execution_count": 8,
   "id": "643c1029-3a91-48ad-bbbb-7d0ab1c2198b",
   "metadata": {},
   "outputs": [],
   "source": [
    "x= 'Hi this is a string'"
   ]
  },
  {
   "cell_type": "code",
   "execution_count": 9,
   "id": "0e4c029f-dc14-47be-bf8a-fde4caf71568",
   "metadata": {},
   "outputs": [
    {
     "data": {
      "text/plain": [
       "['H', ' th', 's ', 's a str', 'ng']"
      ]
     },
     "execution_count": 9,
     "metadata": {},
     "output_type": "execute_result"
    }
   ],
   "source": [
    "x.split('i')"
   ]
  },
  {
   "cell_type": "code",
   "execution_count": 10,
   "id": "ae9b1084-7726-453a-8bf7-2d31b99508c7",
   "metadata": {},
   "outputs": [],
   "source": [
    "str1 = 'abcdefgh'"
   ]
  },
  {
   "cell_type": "code",
   "execution_count": 11,
   "id": "68b17bc6-f004-4c44-807e-88a3815716da",
   "metadata": {},
   "outputs": [
    {
     "data": {
      "text/plain": [
       "'cdefgh'"
      ]
     },
     "execution_count": 11,
     "metadata": {},
     "output_type": "execute_result"
    }
   ],
   "source": [
    "str1[2:]"
   ]
  },
  {
   "cell_type": "code",
   "execution_count": 12,
   "id": "f631fe79-5d6a-4eed-9558-325b1d08c46c",
   "metadata": {},
   "outputs": [
    {
     "data": {
      "text/plain": [
       "'abc'"
      ]
     },
     "execution_count": 12,
     "metadata": {},
     "output_type": "execute_result"
    }
   ],
   "source": [
    "str1[:3]"
   ]
  },
  {
   "cell_type": "code",
   "execution_count": 13,
   "id": "fbbafb05-f9de-4249-9907-24392d4c5366",
   "metadata": {},
   "outputs": [
    {
     "data": {
      "text/plain": [
       "'def'"
      ]
     },
     "execution_count": 13,
     "metadata": {},
     "output_type": "execute_result"
    }
   ],
   "source": [
    "str1[3:6]"
   ]
  },
  {
   "cell_type": "code",
   "execution_count": 14,
   "id": "6682f373-653d-4eb6-994c-e5ce712140b0",
   "metadata": {},
   "outputs": [
    {
     "data": {
      "text/plain": [
       "'aceg'"
      ]
     },
     "execution_count": 14,
     "metadata": {},
     "output_type": "execute_result"
    }
   ],
   "source": [
    "str1[::2]"
   ]
  },
  {
   "cell_type": "code",
   "execution_count": 15,
   "id": "47ea1635-1b86-4747-a8ae-000f83fab159",
   "metadata": {},
   "outputs": [
    {
     "data": {
      "text/plain": [
       "'adg'"
      ]
     },
     "execution_count": 15,
     "metadata": {},
     "output_type": "execute_result"
    }
   ],
   "source": [
    "str1[::3]"
   ]
  },
  {
   "cell_type": "code",
   "execution_count": 16,
   "id": "dd77d133-3411-4b38-9cfa-5d372da26c9f",
   "metadata": {},
   "outputs": [
    {
     "data": {
      "text/plain": [
       "'ceg'"
      ]
     },
     "execution_count": 16,
     "metadata": {},
     "output_type": "execute_result"
    }
   ],
   "source": [
    "str1[2:7:2]"
   ]
  },
  {
   "cell_type": "code",
   "execution_count": 17,
   "id": "41caf914-cb62-400a-bb59-e70626a5ec9b",
   "metadata": {},
   "outputs": [
    {
     "data": {
      "text/plain": [
       "'hgfedcba'"
      ]
     },
     "execution_count": 17,
     "metadata": {},
     "output_type": "execute_result"
    }
   ],
   "source": [
    "str1[::-1]"
   ]
  },
  {
   "cell_type": "code",
   "execution_count": 18,
   "id": "9fb18a44-f78f-4ad7-b328-809513f78219",
   "metadata": {},
   "outputs": [
    {
     "data": {
      "text/plain": [
       "'abcdefghabcdefgh'"
      ]
     },
     "execution_count": 18,
     "metadata": {},
     "output_type": "execute_result"
    }
   ],
   "source": [
    "str1*2"
   ]
  },
  {
   "cell_type": "code",
   "execution_count": 19,
   "id": "25a7e818-5bcd-4a6c-a048-12e2d7d0b1ec",
   "metadata": {},
   "outputs": [],
   "source": [
    "str2 ='I am a computer'"
   ]
  },
  {
   "cell_type": "code",
   "execution_count": 20,
   "id": "6cdfb71a-02b1-4ed3-89db-b8a9bb9276df",
   "metadata": {},
   "outputs": [
    {
     "data": {
      "text/plain": [
       "['I', 'am', 'a', 'computer']"
      ]
     },
     "execution_count": 20,
     "metadata": {},
     "output_type": "execute_result"
    }
   ],
   "source": [
    "str2.split()"
   ]
  },
  {
   "cell_type": "code",
   "execution_count": 21,
   "id": "63af7dcd-7428-4ead-9904-edbd6d006a28",
   "metadata": {},
   "outputs": [
    {
     "data": {
      "text/plain": [
       "['I ', 'm ', ' computer']"
      ]
     },
     "execution_count": 21,
     "metadata": {},
     "output_type": "execute_result"
    }
   ],
   "source": [
    "str2.split('a')"
   ]
  },
  {
   "cell_type": "code",
   "execution_count": null,
   "id": "6aa1aa3a-3445-43c8-bb3b-5b3941a26cc8",
   "metadata": {},
   "outputs": [],
   "source": []
  }
 ],
 "metadata": {
  "kernelspec": {
   "display_name": "Python 3 (ipykernel)",
   "language": "python",
   "name": "python3"
  },
  "language_info": {
   "codemirror_mode": {
    "name": "ipython",
    "version": 3
   },
   "file_extension": ".py",
   "mimetype": "text/x-python",
   "name": "python",
   "nbconvert_exporter": "python",
   "pygments_lexer": "ipython3",
   "version": "3.11.7"
  }
 },
 "nbformat": 4,
 "nbformat_minor": 5
}
