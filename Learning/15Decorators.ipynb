{
 "cells": [
  {
   "cell_type": "markdown",
   "id": "47be5a44-f8f2-4aa5-96d0-60c8579b601b",
   "metadata": {},
   "source": [
    "# Decorator pre-Information"
   ]
  },
  {
   "cell_type": "code",
   "execution_count": 1,
   "id": "1d51ceca-1b5c-426e-b856-9754942b2a98",
   "metadata": {},
   "outputs": [],
   "source": [
    "def hello():\n",
    "    print('hello')\n"
   ]
  },
  {
   "cell_type": "code",
   "execution_count": 2,
   "id": "d3205a71-11f6-4fd3-92c9-cc4fbee096e3",
   "metadata": {},
   "outputs": [
    {
     "data": {
      "text/plain": [
       "<function __main__.hello()>"
      ]
     },
     "execution_count": 2,
     "metadata": {},
     "output_type": "execute_result"
    }
   ],
   "source": [
    "hello"
   ]
  },
  {
   "cell_type": "code",
   "execution_count": 3,
   "id": "3552a50a-c586-462b-8808-3ae266d11be2",
   "metadata": {},
   "outputs": [
    {
     "name": "stdout",
     "output_type": "stream",
     "text": [
      "hello\n"
     ]
    }
   ],
   "source": [
    "hello()"
   ]
  },
  {
   "cell_type": "code",
   "execution_count": 4,
   "id": "5e42349d-2adb-40e6-b0a9-051cbe5bc908",
   "metadata": {},
   "outputs": [],
   "source": [
    "#assign Hello() to another variable\n",
    "greet = hello"
   ]
  },
  {
   "cell_type": "code",
   "execution_count": 5,
   "id": "669acbc9-69af-4ade-8fde-7e2502c7f44d",
   "metadata": {},
   "outputs": [
    {
     "name": "stdout",
     "output_type": "stream",
     "text": [
      "hello\n"
     ]
    }
   ],
   "source": [
    "greet()"
   ]
  },
  {
   "cell_type": "code",
   "execution_count": 6,
   "id": "0d53780f-c791-45d0-b665-d02d6d0e557d",
   "metadata": {},
   "outputs": [
    {
     "data": {
      "text/plain": [
       "<function __main__.hello()>"
      ]
     },
     "execution_count": 6,
     "metadata": {},
     "output_type": "execute_result"
    }
   ],
   "source": [
    "greet"
   ]
  },
  {
   "cell_type": "code",
   "execution_count": null,
   "id": "a368d9db-8f32-442f-898f-87dfa6823e1a",
   "metadata": {},
   "outputs": [],
   "source": []
  },
  {
   "cell_type": "code",
   "execution_count": 17,
   "id": "8d6a90d9-a680-4b54-a975-ddedff2efa89",
   "metadata": {},
   "outputs": [],
   "source": [
    "#function inside a function\n",
    "def hello2():\n",
    "    print('Hello() functin executed')\n",
    "\n",
    "    def Greet2():\n",
    "        return '\\t This is Greet() function inside hello() function.'\n",
    "\n",
    "    print(Greet2())\n",
    "    print('this is the end of Hello2()')"
   ]
  },
  {
   "cell_type": "code",
   "execution_count": 18,
   "id": "82dad5d4-2b27-4c15-a62f-9b044f97c4dd",
   "metadata": {},
   "outputs": [
    {
     "name": "stdout",
     "output_type": "stream",
     "text": [
      "Hello() functin executed\n",
      "\t This is Greet() function inside hello() function.\n",
      "this is the end of Hello2()\n"
     ]
    }
   ],
   "source": [
    "hello2()"
   ]
  },
  {
   "cell_type": "code",
   "execution_count": 19,
   "id": "c88c18ad-0337-4097-9772-9c4a6b087185",
   "metadata": {},
   "outputs": [
    {
     "data": {
      "text/plain": [
       "<function __main__.hello2()>"
      ]
     },
     "execution_count": 19,
     "metadata": {},
     "output_type": "execute_result"
    }
   ],
   "source": [
    "hello2"
   ]
  },
  {
   "cell_type": "code",
   "execution_count": 20,
   "id": "bf9ea61b-0016-425a-8d53-7af8b1e5a4e1",
   "metadata": {},
   "outputs": [
    {
     "ename": "NameError",
     "evalue": "name 'Greet2' is not defined",
     "output_type": "error",
     "traceback": [
      "\u001b[1;31m---------------------------------------------------------------------------\u001b[0m",
      "\u001b[1;31mNameError\u001b[0m                                 Traceback (most recent call last)",
      "Cell \u001b[1;32mIn[20], line 1\u001b[0m\n\u001b[1;32m----> 1\u001b[0m Greet2\n",
      "\u001b[1;31mNameError\u001b[0m: name 'Greet2' is not defined"
     ]
    }
   ],
   "source": [
    "Greet2"
   ]
  },
  {
   "cell_type": "code",
   "execution_count": null,
   "id": "5d44407a-1c6d-4961-9c5c-2b5b80845c97",
   "metadata": {},
   "outputs": [],
   "source": []
  },
  {
   "cell_type": "code",
   "execution_count": 36,
   "id": "48a7071d-9e07-400b-b1f4-4c94dead3618",
   "metadata": {},
   "outputs": [],
   "source": [
    "#Returning a function from a function based on a condition: example 1\n",
    "def Hello3(name='a'):\n",
    "    print('Hello3() fn executed')\n",
    "    \n",
    "    def Greet3():\n",
    "        return '\\t This is Greet3() function inside Hello3() function'\n",
    "\n",
    "    def Welcome3():\n",
    "        return '\\t This is Welcome3() function inside Hello3() function'\n",
    "    print('Returning a function based on condition')\n",
    "    \n",
    "    if name == 'a':\n",
    "        return Greet3\n",
    "    else:\n",
    "        return Welcome3"
   ]
  },
  {
   "cell_type": "code",
   "execution_count": 37,
   "id": "35ec12d7-4bc2-4ee3-a331-7c61b5f11752",
   "metadata": {},
   "outputs": [
    {
     "name": "stdout",
     "output_type": "stream",
     "text": [
      "Hello3() fn executed\n",
      "Returning a function based on condition\n"
     ]
    }
   ],
   "source": [
    "NewFunction = Hello3('a')"
   ]
  },
  {
   "cell_type": "code",
   "execution_count": 38,
   "id": "552d5bb2-f69f-4db9-9518-654c8e7706ce",
   "metadata": {},
   "outputs": [
    {
     "data": {
      "text/plain": [
       "'\\t This is Greet3() function inside Hello3() function'"
      ]
     },
     "execution_count": 38,
     "metadata": {},
     "output_type": "execute_result"
    }
   ],
   "source": [
    "NewFunction()"
   ]
  },
  {
   "cell_type": "code",
   "execution_count": 39,
   "id": "f329a676-f783-4ec2-8fbc-adce256920f1",
   "metadata": {},
   "outputs": [
    {
     "data": {
      "text/plain": [
       "<function __main__.Hello3(name='a')>"
      ]
     },
     "execution_count": 39,
     "metadata": {},
     "output_type": "execute_result"
    }
   ],
   "source": [
    "Hello3"
   ]
  },
  {
   "cell_type": "code",
   "execution_count": 40,
   "id": "b0779dbc-848f-4ffd-b2c7-ddfe31ef9d0f",
   "metadata": {},
   "outputs": [
    {
     "data": {
      "text/plain": [
       "<function __main__.Hello3.<locals>.Greet3()>"
      ]
     },
     "execution_count": 40,
     "metadata": {},
     "output_type": "execute_result"
    }
   ],
   "source": [
    "NewFunction"
   ]
  },
  {
   "cell_type": "code",
   "execution_count": null,
   "id": "d66670e2-956b-4e48-9666-97760a631694",
   "metadata": {},
   "outputs": [],
   "source": []
  },
  {
   "cell_type": "code",
   "execution_count": 86,
   "id": "f2c0f785-ca84-424b-a3fd-2380470d4b2c",
   "metadata": {},
   "outputs": [],
   "source": [
    "#Returning a function from a function - Example 2\n",
    "def cool():\n",
    "    def supercool():\n",
    "        return 'I am very cool'\n",
    "    return supercool()"
   ]
  },
  {
   "cell_type": "code",
   "execution_count": 57,
   "id": "37f4844e-addd-4bd6-b494-9f2666f6649f",
   "metadata": {},
   "outputs": [],
   "source": [
    "NewFunctio = cool()"
   ]
  },
  {
   "cell_type": "code",
   "execution_count": 58,
   "id": "7ecb15da-e724-4a35-99bc-06f7102c8464",
   "metadata": {},
   "outputs": [
    {
     "data": {
      "text/plain": [
       "'I am very cool'"
      ]
     },
     "execution_count": 58,
     "metadata": {},
     "output_type": "execute_result"
    }
   ],
   "source": [
    "NewFunctio"
   ]
  },
  {
   "cell_type": "code",
   "execution_count": null,
   "id": "d1cd9077-70f4-484c-90a7-44e6b9bc13ed",
   "metadata": {},
   "outputs": [],
   "source": []
  },
  {
   "cell_type": "code",
   "execution_count": 59,
   "id": "ab3dcfdf-affd-4d90-adc0-fee53d6857d4",
   "metadata": {},
   "outputs": [],
   "source": [
    "#Passing function as argument\n",
    "def Hello4():\n",
    "    return '\\t This is Hello4() function'"
   ]
  },
  {
   "cell_type": "code",
   "execution_count": 60,
   "id": "b17a1c85-022b-4a14-a919-5f1b24c6c7a6",
   "metadata": {},
   "outputs": [],
   "source": [
    "def FnAsArg(CallAFn):\n",
    "    print('Before calling Hello function')\n",
    "    print(CallAFn())"
   ]
  },
  {
   "cell_type": "code",
   "execution_count": 61,
   "id": "558e5bfc-027b-4030-9ce0-6b8f0bbf65f5",
   "metadata": {},
   "outputs": [
    {
     "name": "stdout",
     "output_type": "stream",
     "text": [
      "Before calling Hello function\n",
      "\t This is Hello4() function\n"
     ]
    }
   ],
   "source": [
    "FnAsArg(Hello4)"
   ]
  },
  {
   "cell_type": "code",
   "execution_count": null,
   "id": "1c6893db-a815-429a-b2e0-a42137b8947b",
   "metadata": {},
   "outputs": [],
   "source": []
  },
  {
   "cell_type": "code",
   "execution_count": 77,
   "id": "6103a1b9-d645-4766-b37f-d0ea1441d4e1",
   "metadata": {},
   "outputs": [],
   "source": [
    "# scenario 1: without decorator\n",
    "def new_Deco1(OriginalFn):\n",
    "    def WrapFn():\n",
    "        print('Some extra code before  the original fn')\n",
    "\n",
    "        OriginalFn()\n",
    "\n",
    "        print('Some extra code after the original fn')\n",
    "    return WrapFn"
   ]
  },
  {
   "cell_type": "code",
   "execution_count": 1,
   "id": "d572dc3d-2322-4e1a-8902-8bc51fc4ca7c",
   "metadata": {},
   "outputs": [],
   "source": [
    "def FnNeedDec1():\n",
    "    print('\\tI want to be decorated')"
   ]
  },
  {
   "cell_type": "code",
   "execution_count": 79,
   "id": "812cf815-81fd-4345-92f6-71e7dc5380a8",
   "metadata": {},
   "outputs": [],
   "source": [
    "DecFn1 = new_Deco1(FnNeedDec1)"
   ]
  },
  {
   "cell_type": "code",
   "execution_count": 80,
   "id": "400dbc0d-963d-478a-a793-713ff98a3f69",
   "metadata": {},
   "outputs": [
    {
     "name": "stdout",
     "output_type": "stream",
     "text": [
      "Some extra code before  the original fn\n",
      "\tI want to be decorated\n",
      "Some extra code after the original fn\n"
     ]
    }
   ],
   "source": [
    "DecFn1()"
   ]
  },
  {
   "cell_type": "code",
   "execution_count": null,
   "id": "a09659aa-cfd5-4e5e-822f-d6a92ffd2f69",
   "metadata": {},
   "outputs": [],
   "source": []
  },
  {
   "cell_type": "code",
   "execution_count": 6,
   "id": "1b87fc3e-9a8f-449a-98d8-cb4583293037",
   "metadata": {},
   "outputs": [],
   "source": [
    "# scenario 1: with decorator\n",
    "def new_Deco2(OriginalFn):\n",
    "    def WrapFn():\n",
    "        print('Some extra code before  the original fn')\n",
    "\n",
    "        OriginalFn()\n",
    "\n",
    "        print('Some extra code after the original fn')\n",
    "    return WrapFn"
   ]
  },
  {
   "cell_type": "code",
   "execution_count": 7,
   "id": "137e8c1f-bc26-4822-9ebd-f284ecf2eba6",
   "metadata": {},
   "outputs": [],
   "source": [
    "@new_Deco2\n",
    "def FnNeedDec2():\n",
    "    print('\\tI want to be decorated')"
   ]
  },
  {
   "cell_type": "code",
   "execution_count": 8,
   "id": "3d0f9e29-a450-444a-9818-76415235d7ec",
   "metadata": {},
   "outputs": [
    {
     "name": "stdout",
     "output_type": "stream",
     "text": [
      "Some extra code before  the original fn\n",
      "\tI want to be decorated\n",
      "Some extra code after the original fn\n"
     ]
    }
   ],
   "source": [
    "FnNeedDec2()"
   ]
  },
  {
   "cell_type": "code",
   "execution_count": null,
   "id": "7574363c-7177-4f83-aecd-a3b7d3639b84",
   "metadata": {},
   "outputs": [],
   "source": []
  }
 ],
 "metadata": {
  "kernelspec": {
   "display_name": "Python 3 (ipykernel)",
   "language": "python",
   "name": "python3"
  },
  "language_info": {
   "codemirror_mode": {
    "name": "ipython",
    "version": 3
   },
   "file_extension": ".py",
   "mimetype": "text/x-python",
   "name": "python",
   "nbconvert_exporter": "python",
   "pygments_lexer": "ipython3",
   "version": "3.11.7"
  }
 },
 "nbformat": 4,
 "nbformat_minor": 5
}
