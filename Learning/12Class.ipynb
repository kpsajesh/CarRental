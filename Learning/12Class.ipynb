{
 "cells": [
  {
   "cell_type": "code",
   "execution_count": 2,
   "id": "547552d0-d7c4-49ee-bef0-7919372cf916",
   "metadata": {},
   "outputs": [],
   "source": [
    "class Dog1():\n",
    "    species = 'mammal'\n",
    "    def __init__(self,breed,name,hasSpots):\n",
    "        self.breed = breed\n",
    "        self.name = name\n",
    "        self.hasSpots = hasSpots\n",
    "    \n",
    "    def bark(self,count):\n",
    "        print(f'whoof, my name is {self.name} and count is {count}')\n",
    "    "
   ]
  },
  {
   "cell_type": "code",
   "execution_count": 4,
   "id": "5861dad2-0244-4c45-9f7e-e883cc48b407",
   "metadata": {},
   "outputs": [],
   "source": [
    "d1 = Dog1(breed='lab',name='Jack',hasSpots =False)"
   ]
  },
  {
   "cell_type": "code",
   "execution_count": 6,
   "id": "07588bd2-a3f8-4ae8-af0f-32b529152be9",
   "metadata": {},
   "outputs": [
    {
     "data": {
      "text/plain": [
       "__main__.Dog1"
      ]
     },
     "execution_count": 6,
     "metadata": {},
     "output_type": "execute_result"
    }
   ],
   "source": [
    "type(d1)"
   ]
  },
  {
   "cell_type": "code",
   "execution_count": 8,
   "id": "c0cf5082-7c5d-42dd-b00c-0638df5388f7",
   "metadata": {},
   "outputs": [
    {
     "data": {
      "text/plain": [
       "['__class__',\n",
       " '__delattr__',\n",
       " '__dict__',\n",
       " '__dir__',\n",
       " '__doc__',\n",
       " '__eq__',\n",
       " '__format__',\n",
       " '__ge__',\n",
       " '__getattribute__',\n",
       " '__getstate__',\n",
       " '__gt__',\n",
       " '__hash__',\n",
       " '__init__',\n",
       " '__init_subclass__',\n",
       " '__le__',\n",
       " '__lt__',\n",
       " '__module__',\n",
       " '__ne__',\n",
       " '__new__',\n",
       " '__reduce__',\n",
       " '__reduce_ex__',\n",
       " '__repr__',\n",
       " '__setattr__',\n",
       " '__sizeof__',\n",
       " '__str__',\n",
       " '__subclasshook__',\n",
       " '__weakref__',\n",
       " 'bark',\n",
       " 'breed',\n",
       " 'hasSpots',\n",
       " 'name',\n",
       " 'species']"
      ]
     },
     "execution_count": 8,
     "metadata": {},
     "output_type": "execute_result"
    }
   ],
   "source": [
    "dir(d1)"
   ]
  },
  {
   "cell_type": "code",
   "execution_count": 13,
   "id": "cbe41660-41d3-4c19-9b0f-7cc13a2bc084",
   "metadata": {},
   "outputs": [
    {
     "data": {
      "text/plain": [
       "'lab'"
      ]
     },
     "execution_count": 13,
     "metadata": {},
     "output_type": "execute_result"
    }
   ],
   "source": [
    "d1.breed"
   ]
  },
  {
   "cell_type": "code",
   "execution_count": 35,
   "id": "c9712d7f-7eb6-464f-ad44-1b37a455ab0a",
   "metadata": {},
   "outputs": [
    {
     "name": "stdout",
     "output_type": "stream",
     "text": [
      "whoof, my name is Jack and count is 5\n"
     ]
    }
   ],
   "source": [
    "d1.bark(5)"
   ]
  },
  {
   "cell_type": "code",
   "execution_count": null,
   "id": "9e544b2a-cd7e-48e3-9e33-0e1b1ec3a057",
   "metadata": {},
   "outputs": [],
   "source": [
    "# The open close bracket is not mandatory in class definition. see second line\n",
    "class Dog5:\n",
    "    def __init__(self,name):\n",
    "        self.name = name\n",
    "    \n",
    "    def bark(self):\n",
    "        print(f'whoof, my name is {self.name} ')"
   ]
  },
  {
   "cell_type": "code",
   "execution_count": 134,
   "id": "dafda814-e35b-4f52-bff3-8eb1d0960839",
   "metadata": {},
   "outputs": [
    {
     "name": "stdout",
     "output_type": "stream",
     "text": [
      "whoof, my name is abc \n"
     ]
    }
   ],
   "source": [
    "d5 = Dog5('abc')\n",
    "d5.bark()"
   ]
  },
  {
   "cell_type": "code",
   "execution_count": 53,
   "id": "9b6363c6-46fd-4b0c-8974-00ec77f9e4a3",
   "metadata": {},
   "outputs": [],
   "source": [
    "class Circle():    \n",
    "    #Declaring an attribute\n",
    "    pi =3.14\n",
    "    def __init__(self,radious =1 ):\n",
    "        self.radious = radious\n",
    "        ##Declaring an attribute\n",
    "        self.area = self.pi * radious * radious # Here Circle.pi also can be used instead of self.pi\n",
    "\n",
    "    #Declaring a method\n",
    "    def circumference(self):\n",
    "        return 2 * Circle.pi * self.radious"
   ]
  },
  {
   "cell_type": "code",
   "execution_count": 51,
   "id": "1777bfdf-7fb1-43f8-9658-f0da1cc383ea",
   "metadata": {},
   "outputs": [],
   "source": [
    "c1 = Circle(5)"
   ]
  },
  {
   "cell_type": "code",
   "execution_count": 49,
   "id": "7881c7ae-afc0-4c83-b24b-1c2d7bd63fcd",
   "metadata": {},
   "outputs": [
    {
     "data": {
      "text/plain": [
       "31.400000000000002"
      ]
     },
     "execution_count": 49,
     "metadata": {},
     "output_type": "execute_result"
    }
   ],
   "source": [
    "c1.circumference()"
   ]
  },
  {
   "cell_type": "code",
   "execution_count": 46,
   "id": "2bc26243-697c-40bf-9139-79ab0e681e55",
   "metadata": {},
   "outputs": [
    {
     "data": {
      "text/plain": [
       "78.5"
      ]
     },
     "execution_count": 46,
     "metadata": {},
     "output_type": "execute_result"
    }
   ],
   "source": [
    "c1.area"
   ]
  },
  {
   "cell_type": "code",
   "execution_count": 52,
   "id": "a120b175-c545-4a55-aeaf-ad16f4e4a61d",
   "metadata": {},
   "outputs": [
    {
     "data": {
      "text/plain": [
       "3.14"
      ]
     },
     "execution_count": 52,
     "metadata": {},
     "output_type": "execute_result"
    }
   ],
   "source": [
    "c1.pi"
   ]
  },
  {
   "cell_type": "code",
   "execution_count": 66,
   "id": "35bfb710-3e40-4720-a4de-f8ba5f439904",
   "metadata": {},
   "outputs": [],
   "source": [
    "#Base Class\n",
    "class Animal():\n",
    "    \n",
    "    #Constructor\n",
    "    def __init__(self):\n",
    "        print('Animal created')\n",
    "\n",
    "    def WhoAmI(self):\n",
    "        print('I am an animal')\n",
    "    \n",
    "    def Communicate(self):\n",
    "        print('I can communicate')\n",
    "    "
   ]
  },
  {
   "cell_type": "code",
   "execution_count": 67,
   "id": "acbe1c5f-a36a-4e7a-a522-9b7ee6d2943f",
   "metadata": {},
   "outputs": [
    {
     "name": "stdout",
     "output_type": "stream",
     "text": [
      "Animal created\n"
     ]
    }
   ],
   "source": [
    "a = Animal()"
   ]
  },
  {
   "cell_type": "code",
   "execution_count": 68,
   "id": "6d72180a-6620-4871-9c3a-fb88a8f92adf",
   "metadata": {},
   "outputs": [
    {
     "name": "stdout",
     "output_type": "stream",
     "text": [
      "I can communicate\n"
     ]
    }
   ],
   "source": [
    "a.Communicate()"
   ]
  },
  {
   "cell_type": "code",
   "execution_count": 78,
   "id": "889c1e1f-0d0c-4b0c-b057-158b30da7872",
   "metadata": {},
   "outputs": [],
   "source": [
    "#Derived class\n",
    "class Dog(Animal): #Inheriting Animal class\n",
    "    #Inheriting Animal class\n",
    "    def __init__(self):\n",
    "        #creaing an instance of Animal class in the constructor\n",
    "        Animal.__init__(self)\n",
    "        print('Dog also created')\n",
    "    \n",
    "    #Method for this class\n",
    "    def Look(self):\n",
    "        print('I have dots')\n",
    "    \n",
    "    #Overriding  method in the base class\n",
    "    def WhoAmI(self):\n",
    "        print('I am a dog')\n",
    "    def Communicate(self):\n",
    "        print('Communicate by barking')"
   ]
  },
  {
   "cell_type": "code",
   "execution_count": 79,
   "id": "452dba11-f780-48a2-90a3-85f6edc8a41e",
   "metadata": {},
   "outputs": [
    {
     "name": "stdout",
     "output_type": "stream",
     "text": [
      "Animal created\n",
      "Dog also created\n"
     ]
    }
   ],
   "source": [
    "d =Dog()"
   ]
  },
  {
   "cell_type": "code",
   "execution_count": 75,
   "id": "449aecb0-217e-49a7-bf5a-b2fdab7eac6c",
   "metadata": {},
   "outputs": [
    {
     "name": "stdout",
     "output_type": "stream",
     "text": [
      "I have dots\n"
     ]
    }
   ],
   "source": [
    "d.Look()"
   ]
  },
  {
   "cell_type": "code",
   "execution_count": 76,
   "id": "53792731-aa7d-4788-ab39-5e364a6e0b2f",
   "metadata": {},
   "outputs": [
    {
     "name": "stdout",
     "output_type": "stream",
     "text": [
      "I am a dog\n"
     ]
    }
   ],
   "source": [
    "d.WhoAmI()"
   ]
  },
  {
   "cell_type": "code",
   "execution_count": 77,
   "id": "365289c8-eedf-475e-836a-47313b4094f1",
   "metadata": {},
   "outputs": [
    {
     "name": "stdout",
     "output_type": "stream",
     "text": [
      "Communicate by barking\n"
     ]
    }
   ],
   "source": [
    "d.Communicate()"
   ]
  },
  {
   "cell_type": "code",
   "execution_count": 80,
   "id": "42c9b8a8-1bab-4cb5-aab9-ef25ba91cf70",
   "metadata": {},
   "outputs": [],
   "source": [
    "#Runtime Polymorphism - Defining classes\n",
    "#Class 1\n",
    "class Fox():\n",
    "    def __init__(self, name):\n",
    "        self.name = name\n",
    "    def Communicate(self):\n",
    "        return(self.name + ' howls')\n",
    "\n",
    "#Class 2\n",
    "class Cat():\n",
    "    def __init__(self, name):\n",
    "        self.name = name\n",
    "    def Communicate(self):\n",
    "        return(self.name + ' meow')"
   ]
  },
  {
   "cell_type": "code",
   "execution_count": 83,
   "id": "cf0eaf39-6c35-4f5d-8c0f-a1d0ae41159b",
   "metadata": {},
   "outputs": [
    {
     "name": "stdout",
     "output_type": "stream",
     "text": [
      "Niko howls\n",
      "Felix meow\n"
     ]
    }
   ],
   "source": [
    "#Runtime Polymorphism - Example 1\n",
    "f = Fox('Niko')\n",
    "print(f.Communicate())\n",
    "c = Cat('Felix')\n",
    "print(c.Communicate())"
   ]
  },
  {
   "cell_type": "code",
   "execution_count": 84,
   "id": "2cbd996c-acb6-48ed-af21-2f913a3f9ba1",
   "metadata": {
    "scrolled": true
   },
   "outputs": [
    {
     "name": "stdout",
     "output_type": "stream",
     "text": [
      "<class '__main__.Fox'>\n",
      "Niko howls\n",
      "<class '__main__.Cat'>\n",
      "Felix meow\n"
     ]
    }
   ],
   "source": [
    "#Runtime Polymorphism - Example 2\n",
    "for item in [f,c]:\n",
    "    print(type(item))         #calls the corresponding class\n",
    "    print(item.Communicate()) #Calls the corresponding class method"
   ]
  },
  {
   "cell_type": "code",
   "execution_count": 88,
   "id": "13902ac0-b4dd-45e1-b10e-578fd08cb4c1",
   "metadata": {},
   "outputs": [],
   "source": [
    "#Runtime Polymorphism - Example 3\n",
    "def speak(pet):\n",
    "    print(pet.Communicate()) # it will call corresponding class method"
   ]
  },
  {
   "cell_type": "code",
   "execution_count": 86,
   "id": "7438bf1a-6540-4d6c-b58d-9c747f3837a6",
   "metadata": {},
   "outputs": [
    {
     "name": "stdout",
     "output_type": "stream",
     "text": [
      "Niko howls\n"
     ]
    }
   ],
   "source": [
    "speak(f)"
   ]
  },
  {
   "cell_type": "code",
   "execution_count": 87,
   "id": "3da3e8eb-1bef-48f2-95ce-909b659e389d",
   "metadata": {},
   "outputs": [
    {
     "name": "stdout",
     "output_type": "stream",
     "text": [
      "Felix meow\n"
     ]
    }
   ],
   "source": [
    "speak(c)"
   ]
  },
  {
   "cell_type": "code",
   "execution_count": 117,
   "id": "94ac55f0-bf76-42a5-9dcb-12a3dfadec40",
   "metadata": {},
   "outputs": [],
   "source": [
    "#Abstraction\n",
    "\n",
    "#Base class\n",
    "class Flower():\n",
    "    def __init__(self,name):\n",
    "        self.name = name\n",
    "   \n",
    "    def color(self):\n",
    "        raise NotImplementedError('Subclass must implement this method')\n",
    "\n",
    "#Implementing Class\n",
    "class Lilly(Flower):\n",
    "    #No constructor needed\n",
    "\n",
    "    def color(self):\n",
    "        return self.name + ' is white'"
   ]
  },
  {
   "cell_type": "code",
   "execution_count": 114,
   "id": "9de0f6aa-cc2d-4dd4-9bdc-1d1f8718f134",
   "metadata": {},
   "outputs": [
    {
     "ename": "NotImplementedError",
     "evalue": "Subclass must implement this method",
     "output_type": "error",
     "traceback": [
      "\u001b[1;31m---------------------------------------------------------------------------\u001b[0m",
      "\u001b[1;31mNotImplementedError\u001b[0m                       Traceback (most recent call last)",
      "Cell \u001b[1;32mIn[114], line 2\u001b[0m\n\u001b[0;32m      1\u001b[0m f1 \u001b[38;5;241m=\u001b[39m Flower(\u001b[38;5;124m'\u001b[39m\u001b[38;5;124mname of flower\u001b[39m\u001b[38;5;124m'\u001b[39m)\n\u001b[1;32m----> 2\u001b[0m f1\u001b[38;5;241m.\u001b[39mcolor()\n",
      "Cell \u001b[1;32mIn[113], line 9\u001b[0m, in \u001b[0;36mFlower.color\u001b[1;34m(self)\u001b[0m\n\u001b[0;32m      8\u001b[0m \u001b[38;5;28;01mdef\u001b[39;00m \u001b[38;5;21mcolor\u001b[39m(\u001b[38;5;28mself\u001b[39m):\n\u001b[1;32m----> 9\u001b[0m     \u001b[38;5;28;01mraise\u001b[39;00m \u001b[38;5;167;01mNotImplementedError\u001b[39;00m(\u001b[38;5;124m'\u001b[39m\u001b[38;5;124mSubclass must implement this method\u001b[39m\u001b[38;5;124m'\u001b[39m)\n",
      "\u001b[1;31mNotImplementedError\u001b[0m: Subclass must implement this method"
     ]
    }
   ],
   "source": [
    "f1 = Flower('name of flower')\n",
    "f1.color()"
   ]
  },
  {
   "cell_type": "code",
   "execution_count": 119,
   "id": "a1a81a2c-f9f3-4f2f-b9e2-892e57ca214b",
   "metadata": {},
   "outputs": [
    {
     "name": "stdout",
     "output_type": "stream",
     "text": [
      "Mulla is white\n"
     ]
    }
   ],
   "source": [
    "l = Lilly('Mulla')\n",
    "print(l.color())"
   ]
  },
  {
   "cell_type": "code",
   "execution_count": 145,
   "id": "fee071c2-9755-49d3-b9cf-dc65ee86a490",
   "metadata": {},
   "outputs": [],
   "source": [
    "#Account project\n",
    "class Account():\n",
    "    def __init__(self, name,balance=0):\n",
    "        self.name = name\n",
    "        self.balance = balance\n",
    "    #Creating a str method, to call directly like print\n",
    "    def __str__(self):\n",
    "        return(f'name {self.name} \\nBalance {self.balance}')\n",
    "    \n",
    "    def CheckBalance(self,name):\n",
    "        if name == self.name:\n",
    "            print(f'Account Balance of {self.name} is {self.balance}')\n",
    "\n",
    "    def DepositToAccount(self,name,Amount):\n",
    "        if type(Amount)== int and Amount > 0 and name == self.name:\n",
    "            self.balance += Amount\n",
    "            print(f'Cash {Amount} added to {self.name} account, and current balance is {self.balance}')\n",
    "        else:\n",
    "            print('Cash not added to account, check account name and deposit amount')\n",
    "\n",
    "    def WithdrawFromAccount(self,name,Amount):\n",
    "        if type(Amount)== int and Amount > 0 and name == self.name:\n",
    "            if self.balance < Amount:\n",
    "                print('You do not have sufficient balance to withdraw ' + str(Amount))\n",
    "            else:\n",
    "                self.balance -= Amount\n",
    "                print(f'Cash {Amount} withdrawn from {self.name} account, and current balance is {self.balance}')\n",
    "        else:\n",
    "            print('Cash not withdrawn from account, check account name and deposit amount')\n"
   ]
  },
  {
   "cell_type": "code",
   "execution_count": 146,
   "id": "435ef249-bafb-43b3-9cd6-143c91ad7209",
   "metadata": {},
   "outputs": [],
   "source": [
    "a1 = Account('Jose',500)"
   ]
  },
  {
   "cell_type": "code",
   "execution_count": 137,
   "id": "043ce4c8-f454-4cea-ab27-43eeb5ea44d4",
   "metadata": {},
   "outputs": [
    {
     "data": {
      "text/plain": [
       "'Jose'"
      ]
     },
     "execution_count": 137,
     "metadata": {},
     "output_type": "execute_result"
    }
   ],
   "source": [
    "a1.name"
   ]
  },
  {
   "cell_type": "code",
   "execution_count": 138,
   "id": "239e39f7-a038-4ec8-bc1e-2d9f64959e94",
   "metadata": {},
   "outputs": [
    {
     "data": {
      "text/plain": [
       "500"
      ]
     },
     "execution_count": 138,
     "metadata": {},
     "output_type": "execute_result"
    }
   ],
   "source": [
    "a1.balance"
   ]
  },
  {
   "cell_type": "code",
   "execution_count": 139,
   "id": "baede150-27ca-443a-a179-4a0dc57a144f",
   "metadata": {},
   "outputs": [
    {
     "name": "stdout",
     "output_type": "stream",
     "text": [
      "name Jose \n",
      "Balance 500\n"
     ]
    }
   ],
   "source": [
    "print(a1)"
   ]
  },
  {
   "cell_type": "code",
   "execution_count": 140,
   "id": "23f6600e-f2dc-458e-b9e4-6f8e8609dfee",
   "metadata": {},
   "outputs": [
    {
     "name": "stdout",
     "output_type": "stream",
     "text": [
      "Account Balance of Jose is 500\n"
     ]
    }
   ],
   "source": [
    "a1.CheckBalance('Jose')"
   ]
  },
  {
   "cell_type": "code",
   "execution_count": 141,
   "id": "ee7b42f1-362d-4f84-96de-9c8b12aa9b4f",
   "metadata": {},
   "outputs": [
    {
     "name": "stdout",
     "output_type": "stream",
     "text": [
      "Cash 300 added to Jose account, and current balance is 800\n"
     ]
    }
   ],
   "source": [
    "a1.DepositToAccount('Jose',300)"
   ]
  },
  {
   "cell_type": "code",
   "execution_count": 142,
   "id": "eb461877-2f26-40be-b494-5dd435880cd9",
   "metadata": {},
   "outputs": [
    {
     "name": "stdout",
     "output_type": "stream",
     "text": [
      "Cash 200 withdrawn from Jose account, and current balance is 600\n"
     ]
    }
   ],
   "source": [
    "a1.WithdrawFromAccount('Jose',200)"
   ]
  },
  {
   "cell_type": "code",
   "execution_count": 147,
   "id": "e6690fad-ac89-4dd7-8af4-0b62285ee432",
   "metadata": {},
   "outputs": [
    {
     "name": "stdout",
     "output_type": "stream",
     "text": [
      "You do not have sufficient balance to withdraw 800\n"
     ]
    }
   ],
   "source": [
    "a1.WithdrawFromAccount('Jose',800)"
   ]
  },
  {
   "cell_type": "code",
   "execution_count": 148,
   "id": "4387940e-4d3b-4fd7-975f-7308e1c787e3",
   "metadata": {},
   "outputs": [
    {
     "name": "stdout",
     "output_type": "stream",
     "text": [
      "Cash not withdrawn from account, check account name and deposit amount\n"
     ]
    }
   ],
   "source": [
    "a1.WithdrawFromAccount('Jose','545')"
   ]
  },
  {
   "cell_type": "code",
   "execution_count": null,
   "id": "f9edd4fa-c040-4902-bcf1-2511828a656b",
   "metadata": {},
   "outputs": [],
   "source": []
  }
 ],
 "metadata": {
  "kernelspec": {
   "display_name": "Python 3 (ipykernel)",
   "language": "python",
   "name": "python3"
  },
  "language_info": {
   "codemirror_mode": {
    "name": "ipython",
    "version": 3
   },
   "file_extension": ".py",
   "mimetype": "text/x-python",
   "name": "python",
   "nbconvert_exporter": "python",
   "pygments_lexer": "ipython3",
   "version": "3.11.7"
  }
 },
 "nbformat": 4,
 "nbformat_minor": 5
}
